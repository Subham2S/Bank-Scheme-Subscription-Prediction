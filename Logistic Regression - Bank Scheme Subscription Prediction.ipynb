{
 "cells": [
  {
   "cell_type": "raw",
   "id": "10a4817d",
   "metadata": {
    "ExecuteTime": {
     "end_time": "2022-08-27T13:31:00.084553Z",
     "start_time": "2022-08-27T13:31:00.074487Z"
    }
   },
   "source": [
    "'''\n",
    "This Notebook file is for creating a Logistic regression model to find\n",
    "out the features responsible for a Bank customer subscribing to a Savings Scheme.\n",
    "'''"
   ]
  },
  {
   "cell_type": "markdown",
   "id": "deeedcc6",
   "metadata": {},
   "source": [
    "## Importing the packages"
   ]
  },
  {
   "cell_type": "code",
   "execution_count": 1,
   "id": "c20dfad4",
   "metadata": {
    "ExecuteTime": {
     "end_time": "2022-09-02T21:21:14.995870Z",
     "start_time": "2022-09-02T21:21:13.744690Z"
    }
   },
   "outputs": [],
   "source": [
    "import warnings\n",
    "import pandas as pd\n",
    "import numpy as np\n",
    "import seaborn as sns\n",
    "import matplotlib.pyplot as plt\n",
    "%matplotlib inline\n",
    "sns.set(style='ticks', font_scale=1.25)\n",
    "\n",
    "warnings.filterwarnings('ignore')"
   ]
  },
  {
   "cell_type": "code",
   "execution_count": 2,
   "id": "69e4b328",
   "metadata": {
    "ExecuteTime": {
     "end_time": "2022-09-02T21:21:15.196538Z",
     "start_time": "2022-09-02T21:21:14.996900Z"
    }
   },
   "outputs": [],
   "source": [
    "from patsy import dmatrices\n",
    "from statsmodels.stats.outliers_influence import variance_inflation_factor\n",
    "import scipy.stats as stats\n",
    "import statsmodels.formula.api as smf\n",
    "from sklearn.model_selection import train_test_split\n",
    "from sklearn.feature_selection import RFE\n",
    "from sklearn.linear_model import LogisticRegression\n",
    "from sklearn.metrics import roc_auc_score, confusion_matrix, roc_curve, \\\n",
    "    classification_report, accuracy_score, precision_score, recall_score"
   ]
  },
  {
   "cell_type": "markdown",
   "id": "ccb99186",
   "metadata": {
    "ExecuteTime": {
     "end_time": "2022-08-28T13:00:03.294492Z",
     "start_time": "2022-08-28T13:00:03.288438Z"
    }
   },
   "source": [
    "## Importing Data"
   ]
  },
  {
   "cell_type": "code",
   "execution_count": 3,
   "id": "c1b3c01f",
   "metadata": {
    "ExecuteTime": {
     "end_time": "2022-09-02T21:21:19.906257Z",
     "start_time": "2022-09-02T21:21:15.198048Z"
    }
   },
   "outputs": [],
   "source": [
    "bankcalls = pd.read_excel('./BankCalls.xlsx')"
   ]
  },
  {
   "cell_type": "markdown",
   "id": "64e0fb28",
   "metadata": {},
   "source": [
    "## UDFs"
   ]
  },
  {
   "cell_type": "code",
   "execution_count": 4,
   "id": "017e6222",
   "metadata": {
    "ExecuteTime": {
     "end_time": "2022-09-02T21:21:19.921462Z",
     "start_time": "2022-09-02T21:21:19.907312Z"
    }
   },
   "outputs": [],
   "source": [
    "def conti_var_summary(x):\n",
    "\n",
    "    # freq and missings\n",
    "    n_total = x.shape[0]\n",
    "    n_miss = x.isna().sum()\n",
    "    perc_miss = n_miss * 100 / n_total\n",
    "\n",
    "    # outliers - iqr\n",
    "    q1 = x.quantile(0.25)\n",
    "    q3 = x.quantile(0.75)\n",
    "    iqr = q3 - q1\n",
    "    lc_iqr = q1 - 1.5 * iqr\n",
    "    uc_iqr = q3 + 1.5 * iqr\n",
    "\n",
    "    return pd.Series([\n",
    "        x.dtype,\n",
    "        x.nunique(), n_total,\n",
    "        x.count(), n_miss, perc_miss,\n",
    "        x.sum(),\n",
    "        x.mean(),\n",
    "        x.std(),\n",
    "        x.var(), lc_iqr, uc_iqr,\n",
    "        x.min(),\n",
    "        x.quantile(0.01),\n",
    "        x.quantile(0.05),\n",
    "        x.quantile(0.10),\n",
    "        x.quantile(0.25),\n",
    "        x.quantile(0.5),\n",
    "        x.quantile(0.75),\n",
    "        x.quantile(0.90),\n",
    "        x.quantile(0.95),\n",
    "        x.quantile(0.99),\n",
    "        x.max()\n",
    "    ],\n",
    "                     index=[\n",
    "                         'dtype', 'cardinality', 'n_tot', 'n', 'nmiss',\n",
    "                         'perc_miss', 'sum', 'mean', 'std', 'var', 'lc_iqr',\n",
    "                         'uc_iqr', 'min', 'p1', 'p5', 'p10', 'p25', 'p50',\n",
    "                         'p75', 'p90', 'p95', 'p99', 'max'\n",
    "                     ])"
   ]
  },
  {
   "cell_type": "code",
   "execution_count": 5,
   "id": "d5424d1a",
   "metadata": {
    "ExecuteTime": {
     "end_time": "2022-09-02T21:21:19.936373Z",
     "start_time": "2022-09-02T21:21:19.922896Z"
    }
   },
   "outputs": [],
   "source": [
    "def cat_var_summary(x):\n",
    "    Mode = x.value_counts().sort_values(ascending=False)[0:1].reset_index()\n",
    "    return pd.Series([\n",
    "        x.count(),\n",
    "        x.isnull().sum(), Mode.iloc[0, 0], Mode.iloc[0, 1],\n",
    "        round(Mode.iloc[0, 1] * 100 / x.count(), 2)\n",
    "    ],\n",
    "                     index=['N', 'NMISS', 'MODE', 'FREQ', 'PERCENT'])"
   ]
  },
  {
   "cell_type": "markdown",
   "id": "9a78e4fa",
   "metadata": {
    "ExecuteTime": {
     "end_time": "2022-08-28T13:09:59.045641Z",
     "start_time": "2022-08-28T13:09:59.039589Z"
    }
   },
   "source": [
    "## Data Inspection"
   ]
  },
  {
   "cell_type": "code",
   "execution_count": 6,
   "id": "9e7135e9",
   "metadata": {
    "ExecuteTime": {
     "end_time": "2022-09-02T21:21:19.951457Z",
     "start_time": "2022-09-02T21:21:19.937393Z"
    }
   },
   "outputs": [
    {
     "data": {
      "text/plain": [
       "Index(['age', 'job', 'marital', 'housing', 'loan', 'month', 'duration',\n",
       "       'campaign attending', 'Customer since ', 'previous Savings',\n",
       "       'emp_var_rate', 'cons_price_idx', 'nr_employed', 'Output'],\n",
       "      dtype='object')"
      ]
     },
     "execution_count": 6,
     "metadata": {},
     "output_type": "execute_result"
    }
   ],
   "source": [
    "bankcalls.columns"
   ]
  },
  {
   "cell_type": "code",
   "execution_count": 7,
   "id": "7399d5c9",
   "metadata": {
    "ExecuteTime": {
     "end_time": "2022-09-02T21:21:19.981969Z",
     "start_time": "2022-09-02T21:21:19.952896Z"
    }
   },
   "outputs": [
    {
     "data": {
      "text/plain": [
       "age                   0\n",
       "job                   0\n",
       "marital               0\n",
       "housing               0\n",
       "loan                  0\n",
       "month                 0\n",
       "duration              0\n",
       "campaign attending    0\n",
       "Customer since        0\n",
       "previous Savings      0\n",
       "emp_var_rate          0\n",
       "cons_price_idx        0\n",
       "nr_employed           0\n",
       "Output                0\n",
       "dtype: int64"
      ]
     },
     "execution_count": 7,
     "metadata": {},
     "output_type": "execute_result"
    }
   ],
   "source": [
    "bankcalls.isnull().sum()"
   ]
  },
  {
   "cell_type": "markdown",
   "id": "d6188b8e",
   "metadata": {},
   "source": [
    "There is no missing data."
   ]
  },
  {
   "cell_type": "markdown",
   "id": "9b36c9ec",
   "metadata": {},
   "source": [
    "### Fixing the Column Names"
   ]
  },
  {
   "cell_type": "code",
   "execution_count": 8,
   "id": "a1ca907c",
   "metadata": {
    "ExecuteTime": {
     "end_time": "2022-09-02T21:21:19.997141Z",
     "start_time": "2022-09-02T21:21:19.982997Z"
    },
    "scrolled": false
   },
   "outputs": [],
   "source": [
    "bankcalls.rename(columns=lambda x: x.lower().strip().replace(\" \", \"_\"),\n",
    "                 inplace=True)"
   ]
  },
  {
   "cell_type": "code",
   "execution_count": 9,
   "id": "fccfca61",
   "metadata": {
    "ExecuteTime": {
     "end_time": "2022-09-02T21:21:20.013153Z",
     "start_time": "2022-09-02T21:21:19.998647Z"
    }
   },
   "outputs": [
    {
     "data": {
      "text/plain": [
       "Index(['age', 'job', 'marital', 'housing', 'loan', 'month', 'duration',\n",
       "       'campaign_attending', 'customer_since', 'previous_savings',\n",
       "       'emp_var_rate', 'cons_price_idx', 'nr_employed', 'output'],\n",
       "      dtype='object')"
      ]
     },
     "execution_count": 9,
     "metadata": {},
     "output_type": "execute_result"
    }
   ],
   "source": [
    "bankcalls.columns"
   ]
  },
  {
   "cell_type": "markdown",
   "id": "411e01bc",
   "metadata": {},
   "source": [
    "### Checking the metadata"
   ]
  },
  {
   "cell_type": "code",
   "execution_count": 10,
   "id": "7dbb0f02",
   "metadata": {
    "ExecuteTime": {
     "end_time": "2022-09-02T21:21:20.043854Z",
     "start_time": "2022-09-02T21:21:20.015187Z"
    }
   },
   "outputs": [
    {
     "name": "stdout",
     "output_type": "stream",
     "text": [
      "<class 'pandas.core.frame.DataFrame'>\n",
      "RangeIndex: 41188 entries, 0 to 41187\n",
      "Data columns (total 14 columns):\n",
      " #   Column              Non-Null Count  Dtype  \n",
      "---  ------              --------------  -----  \n",
      " 0   age                 41188 non-null  int64  \n",
      " 1   job                 41188 non-null  object \n",
      " 2   marital             41188 non-null  object \n",
      " 3   housing             41188 non-null  object \n",
      " 4   loan                41188 non-null  object \n",
      " 5   month               41188 non-null  object \n",
      " 6   duration            41188 non-null  int64  \n",
      " 7   campaign_attending  41188 non-null  int64  \n",
      " 8   customer_since      41188 non-null  int64  \n",
      " 9   previous_savings    41188 non-null  int64  \n",
      " 10  emp_var_rate        41188 non-null  float64\n",
      " 11  cons_price_idx      41188 non-null  float64\n",
      " 12  nr_employed         41188 non-null  float64\n",
      " 13  output              41188 non-null  int64  \n",
      "dtypes: float64(3), int64(6), object(5)\n",
      "memory usage: 4.4+ MB\n"
     ]
    }
   ],
   "source": [
    "bankcalls.info()"
   ]
  },
  {
   "cell_type": "markdown",
   "id": "8cd4a370",
   "metadata": {
    "ExecuteTime": {
     "end_time": "2022-08-29T12:31:01.487566Z",
     "start_time": "2022-08-29T12:31:01.473556Z"
    }
   },
   "source": [
    "### Attribute Information:\n",
    "Source : [UCI Machine Learning Repository](https://archive.ics.uci.edu/ml/datasets/bank+marketing)\n",
    "\n",
    "#### Input variables:\n",
    "* *Bank client data:*\n",
    "    1. **age** (numeric)\n",
    "    2. **job** : type of job (categorical: 'admin.','blue-collar','entrepreneur','housemaid','management','retired','self-employed','services','student','technician','unemployed','unknown')\n",
    "    3. **marital** : marital status (categorical: 'divorced','married','single','unknown'; note: 'divorced' means divorced or widowed)\n",
    "    4. **housing** : has housing loan? (categorical: 'no','yes','unknown')\n",
    "    5. **loan** : has personal loan? (categorical: 'no','yes','unknown')\n",
    "\n",
    "\n",
    "* *Related with the last contact of the current campaign:*\n",
    "    6. **month** : last contact month of year (categorical: 'jan', 'feb', 'mar', ..., 'nov', 'dec')\n",
    "    7. **duration** : last contact duration, in seconds (numeric). Important note: this attribute highly affects the output target (e.g., if duration=0 then y='no'). Yet, the duration is not known before a call is performed. Also, after the end of the call y is obviously known. Thus, this input should only be included for benchmark purposes and should be discarded if the intention is to have a realistic predictive model.\n",
    "\n",
    "\n",
    "* *Other attributes:*\n",
    "    8. **campaign_attending** : number of contacts performed during this campaign and for this client (numeric, includes last contact)\n",
    "    9. **customer_since** : number of days that passed by after the client was last contacted from a previous campaign (numeric; 999 means client was not previously contacted)\n",
    "    10. **previous_savings** : number of contacts performed before this campaign and for this client (numeric)\n",
    "\n",
    "\n",
    "* *Social and Economic context attributes:*\n",
    "    11. **emp_var_rate** : employment variation rate. quarterly indicator (numeric)\n",
    "    12. **cons_price_idx** : consumer price index. monthly indicator (numeric)\n",
    "    13. **nr_employed** : number of employees. quarterly indicator (numeric)\n",
    "\n",
    "#### Output variable (desired target):\n",
    "* \n",
    "    14. **output** : has the client subscribed a term deposit? (binary: 'yes'[1], 'no'[0])\n",
    "\n"
   ]
  },
  {
   "cell_type": "code",
   "execution_count": 11,
   "id": "5d9933a9",
   "metadata": {
    "ExecuteTime": {
     "end_time": "2022-09-02T21:21:20.059453Z",
     "start_time": "2022-09-02T21:21:20.046358Z"
    }
   },
   "outputs": [
    {
     "data": {
      "text/html": [
       "<div>\n",
       "<style scoped>\n",
       "    .dataframe tbody tr th:only-of-type {\n",
       "        vertical-align: middle;\n",
       "    }\n",
       "\n",
       "    .dataframe tbody tr th {\n",
       "        vertical-align: top;\n",
       "    }\n",
       "\n",
       "    .dataframe thead th {\n",
       "        text-align: right;\n",
       "    }\n",
       "</style>\n",
       "<table border=\"1\" class=\"dataframe\">\n",
       "  <thead>\n",
       "    <tr style=\"text-align: right;\">\n",
       "      <th></th>\n",
       "      <th>age</th>\n",
       "      <th>job</th>\n",
       "      <th>marital</th>\n",
       "      <th>housing</th>\n",
       "      <th>loan</th>\n",
       "      <th>month</th>\n",
       "      <th>duration</th>\n",
       "      <th>campaign_attending</th>\n",
       "      <th>customer_since</th>\n",
       "      <th>previous_savings</th>\n",
       "      <th>emp_var_rate</th>\n",
       "      <th>cons_price_idx</th>\n",
       "      <th>nr_employed</th>\n",
       "      <th>output</th>\n",
       "    </tr>\n",
       "  </thead>\n",
       "  <tbody>\n",
       "    <tr>\n",
       "      <th>0</th>\n",
       "      <td>44</td>\n",
       "      <td>blue-collar</td>\n",
       "      <td>married</td>\n",
       "      <td>yes</td>\n",
       "      <td>no</td>\n",
       "      <td>aug</td>\n",
       "      <td>210</td>\n",
       "      <td>1</td>\n",
       "      <td>999</td>\n",
       "      <td>0</td>\n",
       "      <td>1.4</td>\n",
       "      <td>93.444</td>\n",
       "      <td>5228.1</td>\n",
       "      <td>0</td>\n",
       "    </tr>\n",
       "    <tr>\n",
       "      <th>1</th>\n",
       "      <td>53</td>\n",
       "      <td>technician</td>\n",
       "      <td>married</td>\n",
       "      <td>no</td>\n",
       "      <td>no</td>\n",
       "      <td>nov</td>\n",
       "      <td>138</td>\n",
       "      <td>1</td>\n",
       "      <td>999</td>\n",
       "      <td>0</td>\n",
       "      <td>-0.1</td>\n",
       "      <td>93.200</td>\n",
       "      <td>5195.8</td>\n",
       "      <td>0</td>\n",
       "    </tr>\n",
       "    <tr>\n",
       "      <th>2</th>\n",
       "      <td>28</td>\n",
       "      <td>management</td>\n",
       "      <td>single</td>\n",
       "      <td>yes</td>\n",
       "      <td>no</td>\n",
       "      <td>jun</td>\n",
       "      <td>339</td>\n",
       "      <td>3</td>\n",
       "      <td>6</td>\n",
       "      <td>2</td>\n",
       "      <td>-1.7</td>\n",
       "      <td>94.055</td>\n",
       "      <td>4991.6</td>\n",
       "      <td>1</td>\n",
       "    </tr>\n",
       "    <tr>\n",
       "      <th>3</th>\n",
       "      <td>39</td>\n",
       "      <td>services</td>\n",
       "      <td>married</td>\n",
       "      <td>no</td>\n",
       "      <td>no</td>\n",
       "      <td>apr</td>\n",
       "      <td>185</td>\n",
       "      <td>2</td>\n",
       "      <td>999</td>\n",
       "      <td>0</td>\n",
       "      <td>-1.8</td>\n",
       "      <td>93.075</td>\n",
       "      <td>5099.1</td>\n",
       "      <td>0</td>\n",
       "    </tr>\n",
       "    <tr>\n",
       "      <th>4</th>\n",
       "      <td>55</td>\n",
       "      <td>retired</td>\n",
       "      <td>married</td>\n",
       "      <td>yes</td>\n",
       "      <td>no</td>\n",
       "      <td>aug</td>\n",
       "      <td>137</td>\n",
       "      <td>1</td>\n",
       "      <td>3</td>\n",
       "      <td>1</td>\n",
       "      <td>-2.9</td>\n",
       "      <td>92.201</td>\n",
       "      <td>5076.2</td>\n",
       "      <td>1</td>\n",
       "    </tr>\n",
       "  </tbody>\n",
       "</table>\n",
       "</div>"
      ],
      "text/plain": [
       "   age          job  marital housing loan month  duration  campaign_attending  \\\n",
       "0   44  blue-collar  married     yes   no   aug       210                   1   \n",
       "1   53   technician  married      no   no   nov       138                   1   \n",
       "2   28   management   single     yes   no   jun       339                   3   \n",
       "3   39     services  married      no   no   apr       185                   2   \n",
       "4   55      retired  married     yes   no   aug       137                   1   \n",
       "\n",
       "   customer_since  previous_savings  emp_var_rate  cons_price_idx  \\\n",
       "0             999                 0           1.4          93.444   \n",
       "1             999                 0          -0.1          93.200   \n",
       "2               6                 2          -1.7          94.055   \n",
       "3             999                 0          -1.8          93.075   \n",
       "4               3                 1          -2.9          92.201   \n",
       "\n",
       "   nr_employed  output  \n",
       "0       5228.1       0  \n",
       "1       5195.8       0  \n",
       "2       4991.6       1  \n",
       "3       5099.1       0  \n",
       "4       5076.2       1  "
      ]
     },
     "execution_count": 11,
     "metadata": {},
     "output_type": "execute_result"
    }
   ],
   "source": [
    "bankcalls.head()"
   ]
  },
  {
   "cell_type": "markdown",
   "id": "2036fe8a",
   "metadata": {},
   "source": [
    "### Distribution of the Output variable"
   ]
  },
  {
   "cell_type": "code",
   "execution_count": 12,
   "id": "cb7c4180",
   "metadata": {
    "ExecuteTime": {
     "end_time": "2022-09-02T21:21:20.074602Z",
     "start_time": "2022-09-02T21:21:20.060505Z"
    }
   },
   "outputs": [
    {
     "data": {
      "text/plain": [
       "0    0.887346\n",
       "1    0.112654\n",
       "Name: output, dtype: float64"
      ]
     },
     "execution_count": 12,
     "metadata": {},
     "output_type": "execute_result"
    }
   ],
   "source": [
    "bankcalls.output.value_counts() / bankcalls.output.notna().sum()"
   ]
  },
  {
   "cell_type": "code",
   "execution_count": 13,
   "id": "c372d993",
   "metadata": {
    "ExecuteTime": {
     "end_time": "2022-09-02T21:21:20.090474Z",
     "start_time": "2022-09-02T21:21:20.075757Z"
    }
   },
   "outputs": [
    {
     "data": {
      "text/plain": [
       "(41188, 14)"
      ]
     },
     "execution_count": 13,
     "metadata": {},
     "output_type": "execute_result"
    }
   ],
   "source": [
    "bankcalls.shape"
   ]
  },
  {
   "cell_type": "code",
   "execution_count": 14,
   "id": "e9699c3d",
   "metadata": {
    "ExecuteTime": {
     "end_time": "2022-09-02T21:21:20.183278Z",
     "start_time": "2022-09-02T21:21:20.091593Z"
    }
   },
   "outputs": [
    {
     "data": {
      "text/html": [
       "<div>\n",
       "<style scoped>\n",
       "    .dataframe tbody tr th:only-of-type {\n",
       "        vertical-align: middle;\n",
       "    }\n",
       "\n",
       "    .dataframe tbody tr th {\n",
       "        vertical-align: top;\n",
       "    }\n",
       "\n",
       "    .dataframe thead th {\n",
       "        text-align: right;\n",
       "    }\n",
       "</style>\n",
       "<table border=\"1\" class=\"dataframe\">\n",
       "  <thead>\n",
       "    <tr style=\"text-align: right;\">\n",
       "      <th></th>\n",
       "      <th>age</th>\n",
       "      <th>duration</th>\n",
       "      <th>campaign_attending</th>\n",
       "      <th>customer_since</th>\n",
       "      <th>previous_savings</th>\n",
       "      <th>emp_var_rate</th>\n",
       "      <th>cons_price_idx</th>\n",
       "      <th>nr_employed</th>\n",
       "      <th>output</th>\n",
       "    </tr>\n",
       "  </thead>\n",
       "  <tbody>\n",
       "    <tr>\n",
       "      <th>dtype</th>\n",
       "      <td>int64</td>\n",
       "      <td>int64</td>\n",
       "      <td>int64</td>\n",
       "      <td>int64</td>\n",
       "      <td>int64</td>\n",
       "      <td>float64</td>\n",
       "      <td>float64</td>\n",
       "      <td>float64</td>\n",
       "      <td>int64</td>\n",
       "    </tr>\n",
       "    <tr>\n",
       "      <th>cardinality</th>\n",
       "      <td>78</td>\n",
       "      <td>1544</td>\n",
       "      <td>42</td>\n",
       "      <td>27</td>\n",
       "      <td>8</td>\n",
       "      <td>10</td>\n",
       "      <td>26</td>\n",
       "      <td>11</td>\n",
       "      <td>2</td>\n",
       "    </tr>\n",
       "    <tr>\n",
       "      <th>n_tot</th>\n",
       "      <td>41188</td>\n",
       "      <td>41188</td>\n",
       "      <td>41188</td>\n",
       "      <td>41188</td>\n",
       "      <td>41188</td>\n",
       "      <td>41188</td>\n",
       "      <td>41188</td>\n",
       "      <td>41188</td>\n",
       "      <td>41188</td>\n",
       "    </tr>\n",
       "    <tr>\n",
       "      <th>n</th>\n",
       "      <td>41188</td>\n",
       "      <td>41188</td>\n",
       "      <td>41188</td>\n",
       "      <td>41188</td>\n",
       "      <td>41188</td>\n",
       "      <td>41188</td>\n",
       "      <td>41188</td>\n",
       "      <td>41188</td>\n",
       "      <td>41188</td>\n",
       "    </tr>\n",
       "    <tr>\n",
       "      <th>nmiss</th>\n",
       "      <td>0</td>\n",
       "      <td>0</td>\n",
       "      <td>0</td>\n",
       "      <td>0</td>\n",
       "      <td>0</td>\n",
       "      <td>0</td>\n",
       "      <td>0</td>\n",
       "      <td>0</td>\n",
       "      <td>0</td>\n",
       "    </tr>\n",
       "    <tr>\n",
       "      <th>perc_miss</th>\n",
       "      <td>0.0</td>\n",
       "      <td>0.0</td>\n",
       "      <td>0.0</td>\n",
       "      <td>0.0</td>\n",
       "      <td>0.0</td>\n",
       "      <td>0.0</td>\n",
       "      <td>0.0</td>\n",
       "      <td>0.0</td>\n",
       "      <td>0.0</td>\n",
       "    </tr>\n",
       "    <tr>\n",
       "      <th>sum</th>\n",
       "      <td>1648511</td>\n",
       "      <td>10638243</td>\n",
       "      <td>105754</td>\n",
       "      <td>39642439</td>\n",
       "      <td>7124</td>\n",
       "      <td>3372.7</td>\n",
       "      <td>3854194.464</td>\n",
       "      <td>212819875.1</td>\n",
       "      <td>4640</td>\n",
       "    </tr>\n",
       "    <tr>\n",
       "      <th>mean</th>\n",
       "      <td>40.02406</td>\n",
       "      <td>258.28501</td>\n",
       "      <td>2.567593</td>\n",
       "      <td>962.475454</td>\n",
       "      <td>0.172963</td>\n",
       "      <td>0.081886</td>\n",
       "      <td>93.575664</td>\n",
       "      <td>5167.035911</td>\n",
       "      <td>0.112654</td>\n",
       "    </tr>\n",
       "    <tr>\n",
       "      <th>std</th>\n",
       "      <td>10.42125</td>\n",
       "      <td>259.279249</td>\n",
       "      <td>2.770014</td>\n",
       "      <td>186.910907</td>\n",
       "      <td>0.494901</td>\n",
       "      <td>1.57096</td>\n",
       "      <td>0.57884</td>\n",
       "      <td>72.251528</td>\n",
       "      <td>0.316173</td>\n",
       "    </tr>\n",
       "    <tr>\n",
       "      <th>var</th>\n",
       "      <td>108.602451</td>\n",
       "      <td>67225.728877</td>\n",
       "      <td>7.672975</td>\n",
       "      <td>34935.687284</td>\n",
       "      <td>0.244927</td>\n",
       "      <td>2.467915</td>\n",
       "      <td>0.335056</td>\n",
       "      <td>5220.28325</td>\n",
       "      <td>0.099966</td>\n",
       "    </tr>\n",
       "    <tr>\n",
       "      <th>lc_iqr</th>\n",
       "      <td>9.5</td>\n",
       "      <td>-223.5</td>\n",
       "      <td>-2.0</td>\n",
       "      <td>999.0</td>\n",
       "      <td>0.0</td>\n",
       "      <td>-6.6</td>\n",
       "      <td>91.6965</td>\n",
       "      <td>4905.6</td>\n",
       "      <td>0.0</td>\n",
       "    </tr>\n",
       "    <tr>\n",
       "      <th>uc_iqr</th>\n",
       "      <td>69.5</td>\n",
       "      <td>644.5</td>\n",
       "      <td>6.0</td>\n",
       "      <td>999.0</td>\n",
       "      <td>0.0</td>\n",
       "      <td>6.2</td>\n",
       "      <td>95.3725</td>\n",
       "      <td>5421.6</td>\n",
       "      <td>0.0</td>\n",
       "    </tr>\n",
       "    <tr>\n",
       "      <th>min</th>\n",
       "      <td>17</td>\n",
       "      <td>0</td>\n",
       "      <td>1</td>\n",
       "      <td>0</td>\n",
       "      <td>0</td>\n",
       "      <td>-3.4</td>\n",
       "      <td>92.201</td>\n",
       "      <td>4963.6</td>\n",
       "      <td>0</td>\n",
       "    </tr>\n",
       "    <tr>\n",
       "      <th>p1</th>\n",
       "      <td>23.0</td>\n",
       "      <td>11.0</td>\n",
       "      <td>1.0</td>\n",
       "      <td>3.0</td>\n",
       "      <td>0.0</td>\n",
       "      <td>-3.4</td>\n",
       "      <td>92.201</td>\n",
       "      <td>4963.6</td>\n",
       "      <td>0.0</td>\n",
       "    </tr>\n",
       "    <tr>\n",
       "      <th>p5</th>\n",
       "      <td>26.0</td>\n",
       "      <td>36.0</td>\n",
       "      <td>1.0</td>\n",
       "      <td>999.0</td>\n",
       "      <td>0.0</td>\n",
       "      <td>-2.9</td>\n",
       "      <td>92.713</td>\n",
       "      <td>5017.5</td>\n",
       "      <td>0.0</td>\n",
       "    </tr>\n",
       "    <tr>\n",
       "      <th>p10</th>\n",
       "      <td>28.0</td>\n",
       "      <td>59.0</td>\n",
       "      <td>1.0</td>\n",
       "      <td>999.0</td>\n",
       "      <td>0.0</td>\n",
       "      <td>-1.8</td>\n",
       "      <td>92.893</td>\n",
       "      <td>5076.2</td>\n",
       "      <td>0.0</td>\n",
       "    </tr>\n",
       "    <tr>\n",
       "      <th>p25</th>\n",
       "      <td>32.0</td>\n",
       "      <td>102.0</td>\n",
       "      <td>1.0</td>\n",
       "      <td>999.0</td>\n",
       "      <td>0.0</td>\n",
       "      <td>-1.8</td>\n",
       "      <td>93.075</td>\n",
       "      <td>5099.1</td>\n",
       "      <td>0.0</td>\n",
       "    </tr>\n",
       "    <tr>\n",
       "      <th>p50</th>\n",
       "      <td>38.0</td>\n",
       "      <td>180.0</td>\n",
       "      <td>2.0</td>\n",
       "      <td>999.0</td>\n",
       "      <td>0.0</td>\n",
       "      <td>1.1</td>\n",
       "      <td>93.749</td>\n",
       "      <td>5191.0</td>\n",
       "      <td>0.0</td>\n",
       "    </tr>\n",
       "    <tr>\n",
       "      <th>p75</th>\n",
       "      <td>47.0</td>\n",
       "      <td>319.0</td>\n",
       "      <td>3.0</td>\n",
       "      <td>999.0</td>\n",
       "      <td>0.0</td>\n",
       "      <td>1.4</td>\n",
       "      <td>93.994</td>\n",
       "      <td>5228.1</td>\n",
       "      <td>0.0</td>\n",
       "    </tr>\n",
       "    <tr>\n",
       "      <th>p90</th>\n",
       "      <td>55.0</td>\n",
       "      <td>551.0</td>\n",
       "      <td>5.0</td>\n",
       "      <td>999.0</td>\n",
       "      <td>1.0</td>\n",
       "      <td>1.4</td>\n",
       "      <td>94.465</td>\n",
       "      <td>5228.1</td>\n",
       "      <td>1.0</td>\n",
       "    </tr>\n",
       "    <tr>\n",
       "      <th>p95</th>\n",
       "      <td>58.0</td>\n",
       "      <td>752.65</td>\n",
       "      <td>7.0</td>\n",
       "      <td>999.0</td>\n",
       "      <td>1.0</td>\n",
       "      <td>1.4</td>\n",
       "      <td>94.465</td>\n",
       "      <td>5228.1</td>\n",
       "      <td>1.0</td>\n",
       "    </tr>\n",
       "    <tr>\n",
       "      <th>p99</th>\n",
       "      <td>71.0</td>\n",
       "      <td>1271.13</td>\n",
       "      <td>14.0</td>\n",
       "      <td>999.0</td>\n",
       "      <td>2.0</td>\n",
       "      <td>1.4</td>\n",
       "      <td>94.465</td>\n",
       "      <td>5228.1</td>\n",
       "      <td>1.0</td>\n",
       "    </tr>\n",
       "    <tr>\n",
       "      <th>max</th>\n",
       "      <td>98</td>\n",
       "      <td>4918</td>\n",
       "      <td>56</td>\n",
       "      <td>999</td>\n",
       "      <td>7</td>\n",
       "      <td>1.4</td>\n",
       "      <td>94.767</td>\n",
       "      <td>5228.1</td>\n",
       "      <td>1</td>\n",
       "    </tr>\n",
       "  </tbody>\n",
       "</table>\n",
       "</div>"
      ],
      "text/plain": [
       "                    age      duration campaign_attending customer_since  \\\n",
       "dtype             int64         int64              int64          int64   \n",
       "cardinality          78          1544                 42             27   \n",
       "n_tot             41188         41188              41188          41188   \n",
       "n                 41188         41188              41188          41188   \n",
       "nmiss                 0             0                  0              0   \n",
       "perc_miss           0.0           0.0                0.0            0.0   \n",
       "sum             1648511      10638243             105754       39642439   \n",
       "mean           40.02406     258.28501           2.567593     962.475454   \n",
       "std            10.42125    259.279249           2.770014     186.910907   \n",
       "var          108.602451  67225.728877           7.672975   34935.687284   \n",
       "lc_iqr              9.5        -223.5               -2.0          999.0   \n",
       "uc_iqr             69.5         644.5                6.0          999.0   \n",
       "min                  17             0                  1              0   \n",
       "p1                 23.0          11.0                1.0            3.0   \n",
       "p5                 26.0          36.0                1.0          999.0   \n",
       "p10                28.0          59.0                1.0          999.0   \n",
       "p25                32.0         102.0                1.0          999.0   \n",
       "p50                38.0         180.0                2.0          999.0   \n",
       "p75                47.0         319.0                3.0          999.0   \n",
       "p90                55.0         551.0                5.0          999.0   \n",
       "p95                58.0        752.65                7.0          999.0   \n",
       "p99                71.0       1271.13               14.0          999.0   \n",
       "max                  98          4918                 56            999   \n",
       "\n",
       "            previous_savings emp_var_rate cons_price_idx  nr_employed  \\\n",
       "dtype                  int64      float64        float64      float64   \n",
       "cardinality                8           10             26           11   \n",
       "n_tot                  41188        41188          41188        41188   \n",
       "n                      41188        41188          41188        41188   \n",
       "nmiss                      0            0              0            0   \n",
       "perc_miss                0.0          0.0            0.0          0.0   \n",
       "sum                     7124       3372.7    3854194.464  212819875.1   \n",
       "mean                0.172963     0.081886      93.575664  5167.035911   \n",
       "std                 0.494901      1.57096        0.57884    72.251528   \n",
       "var                 0.244927     2.467915       0.335056   5220.28325   \n",
       "lc_iqr                   0.0         -6.6        91.6965       4905.6   \n",
       "uc_iqr                   0.0          6.2        95.3725       5421.6   \n",
       "min                        0         -3.4         92.201       4963.6   \n",
       "p1                       0.0         -3.4         92.201       4963.6   \n",
       "p5                       0.0         -2.9         92.713       5017.5   \n",
       "p10                      0.0         -1.8         92.893       5076.2   \n",
       "p25                      0.0         -1.8         93.075       5099.1   \n",
       "p50                      0.0          1.1         93.749       5191.0   \n",
       "p75                      0.0          1.4         93.994       5228.1   \n",
       "p90                      1.0          1.4         94.465       5228.1   \n",
       "p95                      1.0          1.4         94.465       5228.1   \n",
       "p99                      2.0          1.4         94.465       5228.1   \n",
       "max                        7          1.4         94.767       5228.1   \n",
       "\n",
       "               output  \n",
       "dtype           int64  \n",
       "cardinality         2  \n",
       "n_tot           41188  \n",
       "n               41188  \n",
       "nmiss               0  \n",
       "perc_miss         0.0  \n",
       "sum              4640  \n",
       "mean         0.112654  \n",
       "std          0.316173  \n",
       "var          0.099966  \n",
       "lc_iqr            0.0  \n",
       "uc_iqr            0.0  \n",
       "min                 0  \n",
       "p1                0.0  \n",
       "p5                0.0  \n",
       "p10               0.0  \n",
       "p25               0.0  \n",
       "p50               0.0  \n",
       "p75               0.0  \n",
       "p90               1.0  \n",
       "p95               1.0  \n",
       "p99               1.0  \n",
       "max                 1  "
      ]
     },
     "execution_count": 14,
     "metadata": {},
     "output_type": "execute_result"
    }
   ],
   "source": [
    "# EDA for all the variables\n",
    "bankcalls.select_dtypes(['int64', 'float64']).apply(conti_var_summary)"
   ]
  },
  {
   "cell_type": "markdown",
   "id": "eec5fa93",
   "metadata": {},
   "source": [
    "Outliers exists. Value-wise no other anomalies found."
   ]
  },
  {
   "cell_type": "code",
   "execution_count": 15,
   "id": "60467245",
   "metadata": {
    "ExecuteTime": {
     "end_time": "2022-09-02T21:21:20.229213Z",
     "start_time": "2022-09-02T21:21:20.184339Z"
    }
   },
   "outputs": [
    {
     "data": {
      "text/html": [
       "<div>\n",
       "<style scoped>\n",
       "    .dataframe tbody tr th:only-of-type {\n",
       "        vertical-align: middle;\n",
       "    }\n",
       "\n",
       "    .dataframe tbody tr th {\n",
       "        vertical-align: top;\n",
       "    }\n",
       "\n",
       "    .dataframe thead th {\n",
       "        text-align: right;\n",
       "    }\n",
       "</style>\n",
       "<table border=\"1\" class=\"dataframe\">\n",
       "  <thead>\n",
       "    <tr style=\"text-align: right;\">\n",
       "      <th></th>\n",
       "      <th>job</th>\n",
       "      <th>marital</th>\n",
       "      <th>housing</th>\n",
       "      <th>loan</th>\n",
       "      <th>month</th>\n",
       "    </tr>\n",
       "  </thead>\n",
       "  <tbody>\n",
       "    <tr>\n",
       "      <th>N</th>\n",
       "      <td>41188</td>\n",
       "      <td>41188</td>\n",
       "      <td>41188</td>\n",
       "      <td>41188</td>\n",
       "      <td>41188</td>\n",
       "    </tr>\n",
       "    <tr>\n",
       "      <th>NMISS</th>\n",
       "      <td>0</td>\n",
       "      <td>0</td>\n",
       "      <td>0</td>\n",
       "      <td>0</td>\n",
       "      <td>0</td>\n",
       "    </tr>\n",
       "    <tr>\n",
       "      <th>MODE</th>\n",
       "      <td>admin.</td>\n",
       "      <td>married</td>\n",
       "      <td>yes</td>\n",
       "      <td>no</td>\n",
       "      <td>may</td>\n",
       "    </tr>\n",
       "    <tr>\n",
       "      <th>FREQ</th>\n",
       "      <td>10422</td>\n",
       "      <td>24928</td>\n",
       "      <td>21576</td>\n",
       "      <td>33950</td>\n",
       "      <td>13769</td>\n",
       "    </tr>\n",
       "    <tr>\n",
       "      <th>PERCENT</th>\n",
       "      <td>25.3</td>\n",
       "      <td>60.52</td>\n",
       "      <td>52.38</td>\n",
       "      <td>82.43</td>\n",
       "      <td>33.43</td>\n",
       "    </tr>\n",
       "  </tbody>\n",
       "</table>\n",
       "</div>"
      ],
      "text/plain": [
       "            job  marital housing   loan  month\n",
       "N         41188    41188   41188  41188  41188\n",
       "NMISS         0        0       0      0      0\n",
       "MODE     admin.  married     yes     no    may\n",
       "FREQ      10422    24928   21576  33950  13769\n",
       "PERCENT    25.3    60.52   52.38  82.43  33.43"
      ]
     },
     "execution_count": 15,
     "metadata": {},
     "output_type": "execute_result"
    }
   ],
   "source": [
    "bankcalls.select_dtypes(['object']).apply(cat_var_summary)"
   ]
  },
  {
   "cell_type": "markdown",
   "id": "07f677a4",
   "metadata": {},
   "source": [
    "## Plots"
   ]
  },
  {
   "cell_type": "code",
   "execution_count": 16,
   "id": "e6e981ec",
   "metadata": {
    "ExecuteTime": {
     "end_time": "2022-09-02T21:21:25.843897Z",
     "start_time": "2022-09-02T21:21:20.231713Z"
    },
    "scrolled": false
   },
   "outputs": [
    {
     "name": "stdout",
     "output_type": "stream",
     "text": [
      "AGE\n",
      "skewness = 0.7846968157646645\n"
     ]
    },
    {
     "data": {
      "image/png": "[encoded data removed]",
      "text/plain": [
       "<Figure size 720x360 with 2 Axes>"
      ]
     },
     "metadata": {},
     "output_type": "display_data"
    },
    {
     "name": "stdout",
     "output_type": "stream",
     "text": [
      "JOB\n"
     ]
    },
    {
     "data": {
      "image/png": "[encoded data removed]",
      "text/plain": [
       "<Figure size 864x288 with 2 Axes>"
      ]
     },
     "metadata": {},
     "output_type": "display_data"
    },
    {
     "name": "stdout",
     "output_type": "stream",
     "text": [
      "MARITAL\n"
     ]
    },
    {
     "data": {
      "image/png": "[encoded data removed]",
      "text/plain": [
       "<Figure size 864x288 with 2 Axes>"
      ]
     },
     "metadata": {},
     "output_type": "display_data"
    },
    {
     "name": "stdout",
     "output_type": "stream",
     "text": [
      "HOUSING\n"
     ]
    },
    {
     "data": {
      "image/png": "[encoded data removed]",
      "text/plain": [
       "<Figure size 864x288 with 2 Axes>"
      ]
     },
     "metadata": {},
     "output_type": "display_data"
    },
    {
     "name": "stdout",
     "output_type": "stream",
     "text": [
      "LOAN\n"
     ]
    },
    {
     "data": {
      "image/png": "[encoded data removed]",
      "text/plain": [
       "<Figure size 864x288 with 2 Axes>"
      ]
     },
     "metadata": {},
     "output_type": "display_data"
    },
    {
     "name": "stdout",
     "output_type": "stream",
     "text": [
      "MONTH\n"
     ]
    },
    {
     "data": {
      "image/png": "[encoded data removed]",
      "text/plain": [
       "<Figure size 864x288 with 2 Axes>"
      ]
     },
     "metadata": {},
     "output_type": "display_data"
    },
    {
     "name": "stdout",
     "output_type": "stream",
     "text": [
      "DURATION\n",
      "skewness = 3.2631412552628314\n"
     ]
    },
    {
     "data": {
      "image/png": "[encoded data removed]",
      "text/plain": [
       "<Figure size 720x360 with 2 Axes>"
      ]
     },
     "metadata": {},
     "output_type": "display_data"
    },
    {
     "name": "stdout",
     "output_type": "stream",
     "text": [
      "CAMPAIGN_ATTENDING\n",
      "skewness = 4.762506697067007\n"
     ]
    },
    {
     "data": {
      "image/png": "[encoded data removed]",
      "text/plain": [
       "<Figure size 720x360 with 2 Axes>"
      ]
     },
     "metadata": {},
     "output_type": "display_data"
    },
    {
     "name": "stdout",
     "output_type": "stream",
     "text": [
      "CUSTOMER_SINCE\n",
      "skewness = -4.922189916418164\n"
     ]
    },
    {
     "data": {
      "image/png": "[encoded data removed]",
      "text/plain": [
       "<Figure size 720x360 with 2 Axes>"
      ]
     },
     "metadata": {},
     "output_type": "display_data"
    },
    {
     "name": "stdout",
     "output_type": "stream",
     "text": [
      "PREVIOUS_SAVINGS\n",
      "skewness = 3.8320422428611836\n"
     ]
    },
    {
     "data": {
      "image/png": "[encoded data removed]",
      "text/plain": [
       "<Figure size 720x360 with 2 Axes>"
      ]
     },
     "metadata": {},
     "output_type": "display_data"
    },
    {
     "name": "stdout",
     "output_type": "stream",
     "text": [
      "EMP_VAR_RATE\n",
      "skewness = -0.7240955492472559\n"
     ]
    },
    {
     "data": {
      "image/png": "[encoded data removed]",
      "text/plain": [
       "<Figure size 720x360 with 2 Axes>"
      ]
     },
     "metadata": {},
     "output_type": "display_data"
    },
    {
     "name": "stdout",
     "output_type": "stream",
     "text": [
      "CONS_PRICE_IDX\n",
      "skewness = -0.2308876513578066\n"
     ]
    },
    {
     "data": {
      "image/png": "[encoded data removed]",
      "text/plain": [
       "<Figure size 720x360 with 2 Axes>"
      ]
     },
     "metadata": {},
     "output_type": "display_data"
    },
    {
     "name": "stdout",
     "output_type": "stream",
     "text": [
      "NR_EMPLOYED\n",
      "skewness = -1.044262407089151\n"
     ]
    },
    {
     "data": {
      "image/png": "[encoded data removed]",
      "text/plain": [
       "<Figure size 720x360 with 2 Axes>"
      ]
     },
     "metadata": {},
     "output_type": "display_data"
    },
    {
     "name": "stdout",
     "output_type": "stream",
     "text": [
      "OUTPUT\n",
      "skewness = 2.4503301382077263\n"
     ]
    },
    {
     "data": {
      "image/png": "[encoded data removed]",
      "text/plain": [
       "<Figure size 720x360 with 2 Axes>"
      ]
     },
     "metadata": {},
     "output_type": "display_data"
    }
   ],
   "source": [
    "# Getting the distributions of all continuous variables and Count Plots for Categorical variables\n",
    "for i in bankcalls.columns:\n",
    "    try:\n",
    "        print(i.upper(), '\\nskewness = ', bankcalls.loc[:, i].skew(), sep='')\n",
    "        params = {'figure.figsize': (10, 5), 'axes.labelsize': 14}\n",
    "        plt.rcParams.update(params)\n",
    "        fig, axs = plt.subplots(2, 1, sharex=True)\n",
    "        sns.histplot(data=bankcalls, x=i, kde=True, ax=axs[0])\n",
    "        sns.boxplot(x=bankcalls.loc[:, i], ax=axs[1])\n",
    "        plt.show()\n",
    "    except:\n",
    "        print(i.upper())\n",
    "        params = {'figure.figsize': (10, 5), 'axes.labelsize': 14}\n",
    "        plt.rcParams.update(params)\n",
    "        sns.set(style='ticks', font_scale=1.25)\n",
    "        if i != 'job':\n",
    "            sns.catplot(x=i,\n",
    "                        col='output',\n",
    "                        data=bankcalls,\n",
    "                        kind='count',\n",
    "                        height=4,\n",
    "                        aspect=1.5)\n",
    "        else:\n",
    "            sns.catplot(y=i,\n",
    "                        col='output',\n",
    "                        data=bankcalls,\n",
    "                        kind='count',\n",
    "                        height=4,\n",
    "                        aspect=1.5)\n",
    "        plt.show()"
   ]
  },
  {
   "cell_type": "markdown",
   "id": "fc09c338",
   "metadata": {},
   "source": [
    "## Data Preparation / Data Cleaning"
   ]
  },
  {
   "cell_type": "markdown",
   "id": "cc68d695",
   "metadata": {},
   "source": [
    "### Outlier Treatment"
   ]
  },
  {
   "cell_type": "code",
   "execution_count": 17,
   "id": "640b7ba2",
   "metadata": {
    "ExecuteTime": {
     "end_time": "2022-09-02T21:21:25.874927Z",
     "start_time": "2022-09-02T21:21:25.846063Z"
    },
    "scrolled": false
   },
   "outputs": [],
   "source": [
    "bankcalls_conti = bankcalls.select_dtypes(['int64', 'float64']).apply(lambda x: x.clip(lower=x.quantile(0.01),\n",
    "                                                                                       upper=x.quantile(0.99)))"
   ]
  },
  {
   "cell_type": "code",
   "execution_count": 18,
   "id": "72653ba6",
   "metadata": {
    "ExecuteTime": {
     "end_time": "2022-09-02T21:21:25.889540Z",
     "start_time": "2022-09-02T21:21:25.875356Z"
    }
   },
   "outputs": [
    {
     "data": {
      "text/html": [
       "<div>\n",
       "<style scoped>\n",
       "    .dataframe tbody tr th:only-of-type {\n",
       "        vertical-align: middle;\n",
       "    }\n",
       "\n",
       "    .dataframe tbody tr th {\n",
       "        vertical-align: top;\n",
       "    }\n",
       "\n",
       "    .dataframe thead th {\n",
       "        text-align: right;\n",
       "    }\n",
       "</style>\n",
       "<table border=\"1\" class=\"dataframe\">\n",
       "  <thead>\n",
       "    <tr style=\"text-align: right;\">\n",
       "      <th></th>\n",
       "      <th>job</th>\n",
       "      <th>marital</th>\n",
       "      <th>housing</th>\n",
       "      <th>loan</th>\n",
       "      <th>month</th>\n",
       "      <th>age</th>\n",
       "      <th>duration</th>\n",
       "      <th>campaign_attending</th>\n",
       "      <th>customer_since</th>\n",
       "      <th>previous_savings</th>\n",
       "      <th>emp_var_rate</th>\n",
       "      <th>cons_price_idx</th>\n",
       "      <th>nr_employed</th>\n",
       "      <th>output</th>\n",
       "    </tr>\n",
       "  </thead>\n",
       "  <tbody>\n",
       "    <tr>\n",
       "      <th>0</th>\n",
       "      <td>blue-collar</td>\n",
       "      <td>married</td>\n",
       "      <td>yes</td>\n",
       "      <td>no</td>\n",
       "      <td>aug</td>\n",
       "      <td>44.0</td>\n",
       "      <td>210.0</td>\n",
       "      <td>1.0</td>\n",
       "      <td>999.0</td>\n",
       "      <td>0.0</td>\n",
       "      <td>1.4</td>\n",
       "      <td>93.444</td>\n",
       "      <td>5228.1</td>\n",
       "      <td>0</td>\n",
       "    </tr>\n",
       "    <tr>\n",
       "      <th>1</th>\n",
       "      <td>technician</td>\n",
       "      <td>married</td>\n",
       "      <td>no</td>\n",
       "      <td>no</td>\n",
       "      <td>nov</td>\n",
       "      <td>53.0</td>\n",
       "      <td>138.0</td>\n",
       "      <td>1.0</td>\n",
       "      <td>999.0</td>\n",
       "      <td>0.0</td>\n",
       "      <td>-0.1</td>\n",
       "      <td>93.200</td>\n",
       "      <td>5195.8</td>\n",
       "      <td>0</td>\n",
       "    </tr>\n",
       "    <tr>\n",
       "      <th>2</th>\n",
       "      <td>management</td>\n",
       "      <td>single</td>\n",
       "      <td>yes</td>\n",
       "      <td>no</td>\n",
       "      <td>jun</td>\n",
       "      <td>28.0</td>\n",
       "      <td>339.0</td>\n",
       "      <td>3.0</td>\n",
       "      <td>6.0</td>\n",
       "      <td>2.0</td>\n",
       "      <td>-1.7</td>\n",
       "      <td>94.055</td>\n",
       "      <td>4991.6</td>\n",
       "      <td>1</td>\n",
       "    </tr>\n",
       "    <tr>\n",
       "      <th>3</th>\n",
       "      <td>services</td>\n",
       "      <td>married</td>\n",
       "      <td>no</td>\n",
       "      <td>no</td>\n",
       "      <td>apr</td>\n",
       "      <td>39.0</td>\n",
       "      <td>185.0</td>\n",
       "      <td>2.0</td>\n",
       "      <td>999.0</td>\n",
       "      <td>0.0</td>\n",
       "      <td>-1.8</td>\n",
       "      <td>93.075</td>\n",
       "      <td>5099.1</td>\n",
       "      <td>0</td>\n",
       "    </tr>\n",
       "    <tr>\n",
       "      <th>4</th>\n",
       "      <td>retired</td>\n",
       "      <td>married</td>\n",
       "      <td>yes</td>\n",
       "      <td>no</td>\n",
       "      <td>aug</td>\n",
       "      <td>55.0</td>\n",
       "      <td>137.0</td>\n",
       "      <td>1.0</td>\n",
       "      <td>3.0</td>\n",
       "      <td>1.0</td>\n",
       "      <td>-2.9</td>\n",
       "      <td>92.201</td>\n",
       "      <td>5076.2</td>\n",
       "      <td>1</td>\n",
       "    </tr>\n",
       "  </tbody>\n",
       "</table>\n",
       "</div>"
      ],
      "text/plain": [
       "           job  marital housing loan month   age  duration  \\\n",
       "0  blue-collar  married     yes   no   aug  44.0     210.0   \n",
       "1   technician  married      no   no   nov  53.0     138.0   \n",
       "2   management   single     yes   no   jun  28.0     339.0   \n",
       "3     services  married      no   no   apr  39.0     185.0   \n",
       "4      retired  married     yes   no   aug  55.0     137.0   \n",
       "\n",
       "   campaign_attending  customer_since  previous_savings  emp_var_rate  \\\n",
       "0                 1.0           999.0               0.0           1.4   \n",
       "1                 1.0           999.0               0.0          -0.1   \n",
       "2                 3.0             6.0               2.0          -1.7   \n",
       "3                 2.0           999.0               0.0          -1.8   \n",
       "4                 1.0             3.0               1.0          -2.9   \n",
       "\n",
       "   cons_price_idx  nr_employed  output  \n",
       "0          93.444       5228.1       0  \n",
       "1          93.200       5195.8       0  \n",
       "2          94.055       4991.6       1  \n",
       "3          93.075       5099.1       0  \n",
       "4          92.201       5076.2       1  "
      ]
     },
     "execution_count": 18,
     "metadata": {},
     "output_type": "execute_result"
    }
   ],
   "source": [
    "bankcalls = pd.concat([bankcalls.select_dtypes(['object']), bankcalls_conti], axis=1)\n",
    "bankcalls.head()"
   ]
  },
  {
   "cell_type": "code",
   "execution_count": 19,
   "id": "d0cbdbb6",
   "metadata": {
    "ExecuteTime": {
     "end_time": "2022-09-02T21:21:25.980366Z",
     "start_time": "2022-09-02T21:21:25.890590Z"
    }
   },
   "outputs": [
    {
     "data": {
      "text/html": [
       "<div>\n",
       "<style scoped>\n",
       "    .dataframe tbody tr th:only-of-type {\n",
       "        vertical-align: middle;\n",
       "    }\n",
       "\n",
       "    .dataframe tbody tr th {\n",
       "        vertical-align: top;\n",
       "    }\n",
       "\n",
       "    .dataframe thead th {\n",
       "        text-align: right;\n",
       "    }\n",
       "</style>\n",
       "<table border=\"1\" class=\"dataframe\">\n",
       "  <thead>\n",
       "    <tr style=\"text-align: right;\">\n",
       "      <th></th>\n",
       "      <th>age</th>\n",
       "      <th>duration</th>\n",
       "      <th>campaign_attending</th>\n",
       "      <th>customer_since</th>\n",
       "      <th>previous_savings</th>\n",
       "      <th>emp_var_rate</th>\n",
       "      <th>cons_price_idx</th>\n",
       "      <th>nr_employed</th>\n",
       "      <th>output</th>\n",
       "    </tr>\n",
       "  </thead>\n",
       "  <tbody>\n",
       "    <tr>\n",
       "      <th>dtype</th>\n",
       "      <td>float64</td>\n",
       "      <td>float64</td>\n",
       "      <td>float64</td>\n",
       "      <td>float64</td>\n",
       "      <td>float64</td>\n",
       "      <td>float64</td>\n",
       "      <td>float64</td>\n",
       "      <td>float64</td>\n",
       "      <td>int64</td>\n",
       "    </tr>\n",
       "    <tr>\n",
       "      <th>cardinality</th>\n",
       "      <td>49</td>\n",
       "      <td>1219</td>\n",
       "      <td>14</td>\n",
       "      <td>24</td>\n",
       "      <td>3</td>\n",
       "      <td>10</td>\n",
       "      <td>24</td>\n",
       "      <td>11</td>\n",
       "      <td>2</td>\n",
       "    </tr>\n",
       "    <tr>\n",
       "      <th>n_tot</th>\n",
       "      <td>41188</td>\n",
       "      <td>41188</td>\n",
       "      <td>41188</td>\n",
       "      <td>41188</td>\n",
       "      <td>41188</td>\n",
       "      <td>41188</td>\n",
       "      <td>41188</td>\n",
       "      <td>41188</td>\n",
       "      <td>41188</td>\n",
       "    </tr>\n",
       "    <tr>\n",
       "      <th>n</th>\n",
       "      <td>41188</td>\n",
       "      <td>41188</td>\n",
       "      <td>41188</td>\n",
       "      <td>41188</td>\n",
       "      <td>41188</td>\n",
       "      <td>41188</td>\n",
       "      <td>41188</td>\n",
       "      <td>41188</td>\n",
       "      <td>41188</td>\n",
       "    </tr>\n",
       "    <tr>\n",
       "      <th>nmiss</th>\n",
       "      <td>0</td>\n",
       "      <td>0</td>\n",
       "      <td>0</td>\n",
       "      <td>0</td>\n",
       "      <td>0</td>\n",
       "      <td>0</td>\n",
       "      <td>0</td>\n",
       "      <td>0</td>\n",
       "      <td>0</td>\n",
       "    </tr>\n",
       "    <tr>\n",
       "      <th>perc_miss</th>\n",
       "      <td>0.0</td>\n",
       "      <td>0.0</td>\n",
       "      <td>0.0</td>\n",
       "      <td>0.0</td>\n",
       "      <td>0.0</td>\n",
       "      <td>0.0</td>\n",
       "      <td>0.0</td>\n",
       "      <td>0.0</td>\n",
       "      <td>0.0</td>\n",
       "    </tr>\n",
       "    <tr>\n",
       "      <th>sum</th>\n",
       "      <td>1646558.0</td>\n",
       "      <td>10477394.56</td>\n",
       "      <td>102971.0</td>\n",
       "      <td>39642597.0</td>\n",
       "      <td>6689.0</td>\n",
       "      <td>3372.7</td>\n",
       "      <td>3854128.064</td>\n",
       "      <td>212819875.1</td>\n",
       "      <td>4640</td>\n",
       "    </tr>\n",
       "    <tr>\n",
       "      <th>mean</th>\n",
       "      <td>39.976644</td>\n",
       "      <td>254.379784</td>\n",
       "      <td>2.500024</td>\n",
       "      <td>962.47929</td>\n",
       "      <td>0.162402</td>\n",
       "      <td>0.081886</td>\n",
       "      <td>93.574052</td>\n",
       "      <td>5167.035911</td>\n",
       "      <td>0.112654</td>\n",
       "    </tr>\n",
       "    <tr>\n",
       "      <th>std</th>\n",
       "      <td>10.138262</td>\n",
       "      <td>235.184174</td>\n",
       "      <td>2.301191</td>\n",
       "      <td>186.891194</td>\n",
       "      <td>0.433241</td>\n",
       "      <td>1.57096</td>\n",
       "      <td>0.57603</td>\n",
       "      <td>72.251528</td>\n",
       "      <td>0.316173</td>\n",
       "    </tr>\n",
       "    <tr>\n",
       "      <th>var</th>\n",
       "      <td>102.784362</td>\n",
       "      <td>55311.595654</td>\n",
       "      <td>5.295482</td>\n",
       "      <td>34928.31858</td>\n",
       "      <td>0.187697</td>\n",
       "      <td>2.467915</td>\n",
       "      <td>0.331811</td>\n",
       "      <td>5220.28325</td>\n",
       "      <td>0.099966</td>\n",
       "    </tr>\n",
       "    <tr>\n",
       "      <th>lc_iqr</th>\n",
       "      <td>9.5</td>\n",
       "      <td>-223.5</td>\n",
       "      <td>-2.0</td>\n",
       "      <td>999.0</td>\n",
       "      <td>0.0</td>\n",
       "      <td>-6.6</td>\n",
       "      <td>91.6965</td>\n",
       "      <td>4905.6</td>\n",
       "      <td>0.0</td>\n",
       "    </tr>\n",
       "    <tr>\n",
       "      <th>uc_iqr</th>\n",
       "      <td>69.5</td>\n",
       "      <td>644.5</td>\n",
       "      <td>6.0</td>\n",
       "      <td>999.0</td>\n",
       "      <td>0.0</td>\n",
       "      <td>6.2</td>\n",
       "      <td>95.3725</td>\n",
       "      <td>5421.6</td>\n",
       "      <td>0.0</td>\n",
       "    </tr>\n",
       "    <tr>\n",
       "      <th>min</th>\n",
       "      <td>23.0</td>\n",
       "      <td>11.0</td>\n",
       "      <td>1.0</td>\n",
       "      <td>3.0</td>\n",
       "      <td>0.0</td>\n",
       "      <td>-3.4</td>\n",
       "      <td>92.201</td>\n",
       "      <td>4963.6</td>\n",
       "      <td>0</td>\n",
       "    </tr>\n",
       "    <tr>\n",
       "      <th>p1</th>\n",
       "      <td>23.0</td>\n",
       "      <td>11.0</td>\n",
       "      <td>1.0</td>\n",
       "      <td>3.0</td>\n",
       "      <td>0.0</td>\n",
       "      <td>-3.4</td>\n",
       "      <td>92.201</td>\n",
       "      <td>4963.6</td>\n",
       "      <td>0.0</td>\n",
       "    </tr>\n",
       "    <tr>\n",
       "      <th>p5</th>\n",
       "      <td>26.0</td>\n",
       "      <td>36.0</td>\n",
       "      <td>1.0</td>\n",
       "      <td>999.0</td>\n",
       "      <td>0.0</td>\n",
       "      <td>-2.9</td>\n",
       "      <td>92.713</td>\n",
       "      <td>5017.5</td>\n",
       "      <td>0.0</td>\n",
       "    </tr>\n",
       "    <tr>\n",
       "      <th>p10</th>\n",
       "      <td>28.0</td>\n",
       "      <td>59.0</td>\n",
       "      <td>1.0</td>\n",
       "      <td>999.0</td>\n",
       "      <td>0.0</td>\n",
       "      <td>-1.8</td>\n",
       "      <td>92.893</td>\n",
       "      <td>5076.2</td>\n",
       "      <td>0.0</td>\n",
       "    </tr>\n",
       "    <tr>\n",
       "      <th>p25</th>\n",
       "      <td>32.0</td>\n",
       "      <td>102.0</td>\n",
       "      <td>1.0</td>\n",
       "      <td>999.0</td>\n",
       "      <td>0.0</td>\n",
       "      <td>-1.8</td>\n",
       "      <td>93.075</td>\n",
       "      <td>5099.1</td>\n",
       "      <td>0.0</td>\n",
       "    </tr>\n",
       "    <tr>\n",
       "      <th>p50</th>\n",
       "      <td>38.0</td>\n",
       "      <td>180.0</td>\n",
       "      <td>2.0</td>\n",
       "      <td>999.0</td>\n",
       "      <td>0.0</td>\n",
       "      <td>1.1</td>\n",
       "      <td>93.749</td>\n",
       "      <td>5191.0</td>\n",
       "      <td>0.0</td>\n",
       "    </tr>\n",
       "    <tr>\n",
       "      <th>p75</th>\n",
       "      <td>47.0</td>\n",
       "      <td>319.0</td>\n",
       "      <td>3.0</td>\n",
       "      <td>999.0</td>\n",
       "      <td>0.0</td>\n",
       "      <td>1.4</td>\n",
       "      <td>93.994</td>\n",
       "      <td>5228.1</td>\n",
       "      <td>0.0</td>\n",
       "    </tr>\n",
       "    <tr>\n",
       "      <th>p90</th>\n",
       "      <td>55.0</td>\n",
       "      <td>551.0</td>\n",
       "      <td>5.0</td>\n",
       "      <td>999.0</td>\n",
       "      <td>1.0</td>\n",
       "      <td>1.4</td>\n",
       "      <td>94.465</td>\n",
       "      <td>5228.1</td>\n",
       "      <td>1.0</td>\n",
       "    </tr>\n",
       "    <tr>\n",
       "      <th>p95</th>\n",
       "      <td>58.0</td>\n",
       "      <td>752.65</td>\n",
       "      <td>7.0</td>\n",
       "      <td>999.0</td>\n",
       "      <td>1.0</td>\n",
       "      <td>1.4</td>\n",
       "      <td>94.465</td>\n",
       "      <td>5228.1</td>\n",
       "      <td>1.0</td>\n",
       "    </tr>\n",
       "    <tr>\n",
       "      <th>p99</th>\n",
       "      <td>71.0</td>\n",
       "      <td>1271.0169</td>\n",
       "      <td>14.0</td>\n",
       "      <td>999.0</td>\n",
       "      <td>2.0</td>\n",
       "      <td>1.4</td>\n",
       "      <td>94.465</td>\n",
       "      <td>5228.1</td>\n",
       "      <td>1.0</td>\n",
       "    </tr>\n",
       "    <tr>\n",
       "      <th>max</th>\n",
       "      <td>71.0</td>\n",
       "      <td>1271.13</td>\n",
       "      <td>14.0</td>\n",
       "      <td>999.0</td>\n",
       "      <td>2.0</td>\n",
       "      <td>1.4</td>\n",
       "      <td>94.465</td>\n",
       "      <td>5228.1</td>\n",
       "      <td>1</td>\n",
       "    </tr>\n",
       "  </tbody>\n",
       "</table>\n",
       "</div>"
      ],
      "text/plain": [
       "                    age      duration campaign_attending customer_since  \\\n",
       "dtype           float64       float64            float64        float64   \n",
       "cardinality          49          1219                 14             24   \n",
       "n_tot             41188         41188              41188          41188   \n",
       "n                 41188         41188              41188          41188   \n",
       "nmiss                 0             0                  0              0   \n",
       "perc_miss           0.0           0.0                0.0            0.0   \n",
       "sum           1646558.0   10477394.56           102971.0     39642597.0   \n",
       "mean          39.976644    254.379784           2.500024      962.47929   \n",
       "std           10.138262    235.184174           2.301191     186.891194   \n",
       "var          102.784362  55311.595654           5.295482    34928.31858   \n",
       "lc_iqr              9.5        -223.5               -2.0          999.0   \n",
       "uc_iqr             69.5         644.5                6.0          999.0   \n",
       "min                23.0          11.0                1.0            3.0   \n",
       "p1                 23.0          11.0                1.0            3.0   \n",
       "p5                 26.0          36.0                1.0          999.0   \n",
       "p10                28.0          59.0                1.0          999.0   \n",
       "p25                32.0         102.0                1.0          999.0   \n",
       "p50                38.0         180.0                2.0          999.0   \n",
       "p75                47.0         319.0                3.0          999.0   \n",
       "p90                55.0         551.0                5.0          999.0   \n",
       "p95                58.0        752.65                7.0          999.0   \n",
       "p99                71.0     1271.0169               14.0          999.0   \n",
       "max                71.0       1271.13               14.0          999.0   \n",
       "\n",
       "            previous_savings emp_var_rate cons_price_idx  nr_employed  \\\n",
       "dtype                float64      float64        float64      float64   \n",
       "cardinality                3           10             24           11   \n",
       "n_tot                  41188        41188          41188        41188   \n",
       "n                      41188        41188          41188        41188   \n",
       "nmiss                      0            0              0            0   \n",
       "perc_miss                0.0          0.0            0.0          0.0   \n",
       "sum                   6689.0       3372.7    3854128.064  212819875.1   \n",
       "mean                0.162402     0.081886      93.574052  5167.035911   \n",
       "std                 0.433241      1.57096        0.57603    72.251528   \n",
       "var                 0.187697     2.467915       0.331811   5220.28325   \n",
       "lc_iqr                   0.0         -6.6        91.6965       4905.6   \n",
       "uc_iqr                   0.0          6.2        95.3725       5421.6   \n",
       "min                      0.0         -3.4         92.201       4963.6   \n",
       "p1                       0.0         -3.4         92.201       4963.6   \n",
       "p5                       0.0         -2.9         92.713       5017.5   \n",
       "p10                      0.0         -1.8         92.893       5076.2   \n",
       "p25                      0.0         -1.8         93.075       5099.1   \n",
       "p50                      0.0          1.1         93.749       5191.0   \n",
       "p75                      0.0          1.4         93.994       5228.1   \n",
       "p90                      1.0          1.4         94.465       5228.1   \n",
       "p95                      1.0          1.4         94.465       5228.1   \n",
       "p99                      2.0          1.4         94.465       5228.1   \n",
       "max                      2.0          1.4         94.465       5228.1   \n",
       "\n",
       "               output  \n",
       "dtype           int64  \n",
       "cardinality         2  \n",
       "n_tot           41188  \n",
       "n               41188  \n",
       "nmiss               0  \n",
       "perc_miss         0.0  \n",
       "sum              4640  \n",
       "mean         0.112654  \n",
       "std          0.316173  \n",
       "var          0.099966  \n",
       "lc_iqr            0.0  \n",
       "uc_iqr            0.0  \n",
       "min                 0  \n",
       "p1                0.0  \n",
       "p5                0.0  \n",
       "p10               0.0  \n",
       "p25               0.0  \n",
       "p50               0.0  \n",
       "p75               0.0  \n",
       "p90               1.0  \n",
       "p95               1.0  \n",
       "p99               1.0  \n",
       "max                 1  "
      ]
     },
     "execution_count": 19,
     "metadata": {},
     "output_type": "execute_result"
    }
   ],
   "source": [
    "bankcalls.select_dtypes(['int64', 'float64']).apply(conti_var_summary)"
   ]
  },
  {
   "cell_type": "markdown",
   "id": "cc212eb4",
   "metadata": {},
   "source": [
    "### Treating the `Unknown`s"
   ]
  },
  {
   "cell_type": "code",
   "execution_count": 20,
   "id": "2ed34b97",
   "metadata": {
    "ExecuteTime": {
     "end_time": "2022-09-02T21:21:26.011106Z",
     "start_time": "2022-09-02T21:21:25.981462Z"
    }
   },
   "outputs": [
    {
     "data": {
      "text/html": [
       "<div>\n",
       "<style scoped>\n",
       "    .dataframe tbody tr th:only-of-type {\n",
       "        vertical-align: middle;\n",
       "    }\n",
       "\n",
       "    .dataframe tbody tr th {\n",
       "        vertical-align: top;\n",
       "    }\n",
       "\n",
       "    .dataframe thead th {\n",
       "        text-align: right;\n",
       "    }\n",
       "</style>\n",
       "<table border=\"1\" class=\"dataframe\">\n",
       "  <thead>\n",
       "    <tr style=\"text-align: right;\">\n",
       "      <th></th>\n",
       "      <th>Unkown</th>\n",
       "      <th>%</th>\n",
       "    </tr>\n",
       "    <tr>\n",
       "      <th>Category</th>\n",
       "      <th></th>\n",
       "      <th></th>\n",
       "    </tr>\n",
       "  </thead>\n",
       "  <tbody>\n",
       "    <tr>\n",
       "      <th>job</th>\n",
       "      <td>330</td>\n",
       "      <td>0.801204</td>\n",
       "    </tr>\n",
       "    <tr>\n",
       "      <th>marital</th>\n",
       "      <td>80</td>\n",
       "      <td>0.194231</td>\n",
       "    </tr>\n",
       "    <tr>\n",
       "      <th>housing</th>\n",
       "      <td>990</td>\n",
       "      <td>2.403613</td>\n",
       "    </tr>\n",
       "    <tr>\n",
       "      <th>loan</th>\n",
       "      <td>990</td>\n",
       "      <td>2.403613</td>\n",
       "    </tr>\n",
       "  </tbody>\n",
       "</table>\n",
       "</div>"
      ],
      "text/plain": [
       "          Unkown         %\n",
       "Category                  \n",
       "job          330  0.801204\n",
       "marital       80  0.194231\n",
       "housing      990  2.403613\n",
       "loan         990  2.403613"
      ]
     },
     "execution_count": 20,
     "metadata": {},
     "output_type": "execute_result"
    }
   ],
   "source": [
    "l = []\n",
    "for i in bankcalls.select_dtypes('object').columns:\n",
    "    try:\n",
    "        a = bankcalls[i].value_counts().unknown\n",
    "        b = bankcalls[i].value_counts().unknown / bankcalls[i].count() * 100\n",
    "        l.append((i, a, b))\n",
    "    except:\n",
    "        pass\n",
    "df_u = pd.DataFrame(l, columns=['Category', 'Unkown', '%']).set_index('Category')\n",
    "df_u"
   ]
  },
  {
   "cell_type": "markdown",
   "id": "1ffe73ca",
   "metadata": {},
   "source": [
    "Since the % of `unknown` is very less we can drop those rows."
   ]
  },
  {
   "cell_type": "code",
   "execution_count": 21,
   "id": "e17e26f0",
   "metadata": {
    "ExecuteTime": {
     "end_time": "2022-09-02T21:21:26.041881Z",
     "start_time": "2022-09-02T21:21:26.012501Z"
    }
   },
   "outputs": [
    {
     "name": "stdout",
     "output_type": "stream",
     "text": [
      "(41188, 14)\n",
      "(39803, 14)\n"
     ]
    }
   ],
   "source": [
    "# Dropping Unknowns\n",
    "print(bankcalls.shape)\n",
    "bankcalls.replace('unknown', np.NAN, inplace=True)\n",
    "bankcalls.dropna(inplace=True)\n",
    "print(bankcalls.shape)"
   ]
  },
  {
   "cell_type": "code",
   "execution_count": 22,
   "id": "13231582",
   "metadata": {
    "ExecuteTime": {
     "end_time": "2022-09-02T21:21:26.057730Z",
     "start_time": "2022-09-02T21:21:26.043031Z"
    }
   },
   "outputs": [
    {
     "data": {
      "text/html": [
       "<div>\n",
       "<style scoped>\n",
       "    .dataframe tbody tr th:only-of-type {\n",
       "        vertical-align: middle;\n",
       "    }\n",
       "\n",
       "    .dataframe tbody tr th {\n",
       "        vertical-align: top;\n",
       "    }\n",
       "\n",
       "    .dataframe thead th {\n",
       "        text-align: right;\n",
       "    }\n",
       "</style>\n",
       "<table border=\"1\" class=\"dataframe\">\n",
       "  <thead>\n",
       "    <tr style=\"text-align: right;\">\n",
       "      <th></th>\n",
       "      <th>Unkown</th>\n",
       "      <th>%</th>\n",
       "    </tr>\n",
       "    <tr>\n",
       "      <th>Category</th>\n",
       "      <th></th>\n",
       "      <th></th>\n",
       "    </tr>\n",
       "  </thead>\n",
       "  <tbody>\n",
       "  </tbody>\n",
       "</table>\n",
       "</div>"
      ],
      "text/plain": [
       "Empty DataFrame\n",
       "Columns: [Unkown, %]\n",
       "Index: []"
      ]
     },
     "execution_count": 22,
     "metadata": {},
     "output_type": "execute_result"
    }
   ],
   "source": [
    "l = []\n",
    "for i in bankcalls.select_dtypes('object').columns:\n",
    "    try:\n",
    "        a = bankcalls[i].value_counts().unknown\n",
    "        b = bankcalls[i].value_counts().unknown / bankcalls[i].count() * 100\n",
    "        l.append((i, a, b))\n",
    "    except:\n",
    "        pass\n",
    "df_u = pd.DataFrame(l, columns=['Category', 'Unkown', '%']).set_index('Category')\n",
    "df_u"
   ]
  },
  {
   "cell_type": "markdown",
   "id": "5b7d094f",
   "metadata": {
    "ExecuteTime": {
     "end_time": "2022-08-30T14:15:21.053661Z",
     "start_time": "2022-08-30T14:15:21.048154Z"
    }
   },
   "source": [
    "All Unknowns are removed successfully."
   ]
  },
  {
   "cell_type": "markdown",
   "id": "4dcea290",
   "metadata": {},
   "source": [
    "## Creating Dummies for the Categorical Columns (One-Hot-Encoding)"
   ]
  },
  {
   "cell_type": "code",
   "execution_count": 23,
   "id": "25a4ec5e",
   "metadata": {
    "ExecuteTime": {
     "end_time": "2022-09-02T21:21:26.088691Z",
     "start_time": "2022-09-02T21:21:26.059243Z"
    },
    "scrolled": true
   },
   "outputs": [],
   "source": [
    "bankcalls = pd.get_dummies(bankcalls, drop_first=True).reset_index(drop=True)"
   ]
  },
  {
   "cell_type": "code",
   "execution_count": 24,
   "id": "20e34252",
   "metadata": {
    "ExecuteTime": {
     "end_time": "2022-09-02T21:21:26.103886Z",
     "start_time": "2022-09-02T21:21:26.089840Z"
    }
   },
   "outputs": [],
   "source": [
    "# Fixing the column names\n",
    "\n",
    "bankcalls.rename(columns=lambda x: x.lower().strip().replace(\"-\", \"_\"),\n",
    "                 inplace=True)"
   ]
  },
  {
   "cell_type": "code",
   "execution_count": 25,
   "id": "7ee5fca4",
   "metadata": {
    "ExecuteTime": {
     "end_time": "2022-09-02T21:21:26.134765Z",
     "start_time": "2022-09-02T21:21:26.105012Z"
    }
   },
   "outputs": [
    {
     "data": {
      "text/html": [
       "<div>\n",
       "<style scoped>\n",
       "    .dataframe tbody tr th:only-of-type {\n",
       "        vertical-align: middle;\n",
       "    }\n",
       "\n",
       "    .dataframe tbody tr th {\n",
       "        vertical-align: top;\n",
       "    }\n",
       "\n",
       "    .dataframe thead th {\n",
       "        text-align: right;\n",
       "    }\n",
       "</style>\n",
       "<table border=\"1\" class=\"dataframe\">\n",
       "  <thead>\n",
       "    <tr style=\"text-align: right;\">\n",
       "      <th></th>\n",
       "      <th>age</th>\n",
       "      <th>duration</th>\n",
       "      <th>campaign_attending</th>\n",
       "      <th>customer_since</th>\n",
       "      <th>previous_savings</th>\n",
       "      <th>emp_var_rate</th>\n",
       "      <th>cons_price_idx</th>\n",
       "      <th>nr_employed</th>\n",
       "      <th>output</th>\n",
       "      <th>job_blue_collar</th>\n",
       "      <th>...</th>\n",
       "      <th>loan_yes</th>\n",
       "      <th>month_aug</th>\n",
       "      <th>month_dec</th>\n",
       "      <th>month_jul</th>\n",
       "      <th>month_jun</th>\n",
       "      <th>month_mar</th>\n",
       "      <th>month_may</th>\n",
       "      <th>month_nov</th>\n",
       "      <th>month_oct</th>\n",
       "      <th>month_sep</th>\n",
       "    </tr>\n",
       "  </thead>\n",
       "  <tbody>\n",
       "    <tr>\n",
       "      <th>0</th>\n",
       "      <td>44.0</td>\n",
       "      <td>210.0</td>\n",
       "      <td>1.0</td>\n",
       "      <td>999.0</td>\n",
       "      <td>0.0</td>\n",
       "      <td>1.4</td>\n",
       "      <td>93.444</td>\n",
       "      <td>5228.1</td>\n",
       "      <td>0</td>\n",
       "      <td>1</td>\n",
       "      <td>...</td>\n",
       "      <td>0</td>\n",
       "      <td>1</td>\n",
       "      <td>0</td>\n",
       "      <td>0</td>\n",
       "      <td>0</td>\n",
       "      <td>0</td>\n",
       "      <td>0</td>\n",
       "      <td>0</td>\n",
       "      <td>0</td>\n",
       "      <td>0</td>\n",
       "    </tr>\n",
       "    <tr>\n",
       "      <th>1</th>\n",
       "      <td>53.0</td>\n",
       "      <td>138.0</td>\n",
       "      <td>1.0</td>\n",
       "      <td>999.0</td>\n",
       "      <td>0.0</td>\n",
       "      <td>-0.1</td>\n",
       "      <td>93.200</td>\n",
       "      <td>5195.8</td>\n",
       "      <td>0</td>\n",
       "      <td>0</td>\n",
       "      <td>...</td>\n",
       "      <td>0</td>\n",
       "      <td>0</td>\n",
       "      <td>0</td>\n",
       "      <td>0</td>\n",
       "      <td>0</td>\n",
       "      <td>0</td>\n",
       "      <td>0</td>\n",
       "      <td>1</td>\n",
       "      <td>0</td>\n",
       "      <td>0</td>\n",
       "    </tr>\n",
       "    <tr>\n",
       "      <th>2</th>\n",
       "      <td>28.0</td>\n",
       "      <td>339.0</td>\n",
       "      <td>3.0</td>\n",
       "      <td>6.0</td>\n",
       "      <td>2.0</td>\n",
       "      <td>-1.7</td>\n",
       "      <td>94.055</td>\n",
       "      <td>4991.6</td>\n",
       "      <td>1</td>\n",
       "      <td>0</td>\n",
       "      <td>...</td>\n",
       "      <td>0</td>\n",
       "      <td>0</td>\n",
       "      <td>0</td>\n",
       "      <td>0</td>\n",
       "      <td>1</td>\n",
       "      <td>0</td>\n",
       "      <td>0</td>\n",
       "      <td>0</td>\n",
       "      <td>0</td>\n",
       "      <td>0</td>\n",
       "    </tr>\n",
       "    <tr>\n",
       "      <th>3</th>\n",
       "      <td>39.0</td>\n",
       "      <td>185.0</td>\n",
       "      <td>2.0</td>\n",
       "      <td>999.0</td>\n",
       "      <td>0.0</td>\n",
       "      <td>-1.8</td>\n",
       "      <td>93.075</td>\n",
       "      <td>5099.1</td>\n",
       "      <td>0</td>\n",
       "      <td>0</td>\n",
       "      <td>...</td>\n",
       "      <td>0</td>\n",
       "      <td>0</td>\n",
       "      <td>0</td>\n",
       "      <td>0</td>\n",
       "      <td>0</td>\n",
       "      <td>0</td>\n",
       "      <td>0</td>\n",
       "      <td>0</td>\n",
       "      <td>0</td>\n",
       "      <td>0</td>\n",
       "    </tr>\n",
       "    <tr>\n",
       "      <th>4</th>\n",
       "      <td>55.0</td>\n",
       "      <td>137.0</td>\n",
       "      <td>1.0</td>\n",
       "      <td>3.0</td>\n",
       "      <td>1.0</td>\n",
       "      <td>-2.9</td>\n",
       "      <td>92.201</td>\n",
       "      <td>5076.2</td>\n",
       "      <td>1</td>\n",
       "      <td>0</td>\n",
       "      <td>...</td>\n",
       "      <td>0</td>\n",
       "      <td>1</td>\n",
       "      <td>0</td>\n",
       "      <td>0</td>\n",
       "      <td>0</td>\n",
       "      <td>0</td>\n",
       "      <td>0</td>\n",
       "      <td>0</td>\n",
       "      <td>0</td>\n",
       "      <td>0</td>\n",
       "    </tr>\n",
       "    <tr>\n",
       "      <th>...</th>\n",
       "      <td>...</td>\n",
       "      <td>...</td>\n",
       "      <td>...</td>\n",
       "      <td>...</td>\n",
       "      <td>...</td>\n",
       "      <td>...</td>\n",
       "      <td>...</td>\n",
       "      <td>...</td>\n",
       "      <td>...</td>\n",
       "      <td>...</td>\n",
       "      <td>...</td>\n",
       "      <td>...</td>\n",
       "      <td>...</td>\n",
       "      <td>...</td>\n",
       "      <td>...</td>\n",
       "      <td>...</td>\n",
       "      <td>...</td>\n",
       "      <td>...</td>\n",
       "      <td>...</td>\n",
       "      <td>...</td>\n",
       "      <td>...</td>\n",
       "    </tr>\n",
       "    <tr>\n",
       "      <th>39798</th>\n",
       "      <td>59.0</td>\n",
       "      <td>222.0</td>\n",
       "      <td>1.0</td>\n",
       "      <td>999.0</td>\n",
       "      <td>0.0</td>\n",
       "      <td>1.4</td>\n",
       "      <td>94.465</td>\n",
       "      <td>5228.1</td>\n",
       "      <td>0</td>\n",
       "      <td>0</td>\n",
       "      <td>...</td>\n",
       "      <td>1</td>\n",
       "      <td>0</td>\n",
       "      <td>0</td>\n",
       "      <td>0</td>\n",
       "      <td>1</td>\n",
       "      <td>0</td>\n",
       "      <td>0</td>\n",
       "      <td>0</td>\n",
       "      <td>0</td>\n",
       "      <td>0</td>\n",
       "    </tr>\n",
       "    <tr>\n",
       "      <th>39799</th>\n",
       "      <td>31.0</td>\n",
       "      <td>196.0</td>\n",
       "      <td>2.0</td>\n",
       "      <td>999.0</td>\n",
       "      <td>0.0</td>\n",
       "      <td>1.1</td>\n",
       "      <td>93.994</td>\n",
       "      <td>5191.0</td>\n",
       "      <td>0</td>\n",
       "      <td>0</td>\n",
       "      <td>...</td>\n",
       "      <td>0</td>\n",
       "      <td>0</td>\n",
       "      <td>0</td>\n",
       "      <td>0</td>\n",
       "      <td>0</td>\n",
       "      <td>0</td>\n",
       "      <td>1</td>\n",
       "      <td>0</td>\n",
       "      <td>0</td>\n",
       "      <td>0</td>\n",
       "    </tr>\n",
       "    <tr>\n",
       "      <th>39800</th>\n",
       "      <td>42.0</td>\n",
       "      <td>62.0</td>\n",
       "      <td>3.0</td>\n",
       "      <td>999.0</td>\n",
       "      <td>0.0</td>\n",
       "      <td>1.1</td>\n",
       "      <td>93.994</td>\n",
       "      <td>5191.0</td>\n",
       "      <td>0</td>\n",
       "      <td>0</td>\n",
       "      <td>...</td>\n",
       "      <td>1</td>\n",
       "      <td>0</td>\n",
       "      <td>0</td>\n",
       "      <td>0</td>\n",
       "      <td>0</td>\n",
       "      <td>0</td>\n",
       "      <td>1</td>\n",
       "      <td>0</td>\n",
       "      <td>0</td>\n",
       "      <td>0</td>\n",
       "    </tr>\n",
       "    <tr>\n",
       "      <th>39801</th>\n",
       "      <td>48.0</td>\n",
       "      <td>200.0</td>\n",
       "      <td>2.0</td>\n",
       "      <td>999.0</td>\n",
       "      <td>0.0</td>\n",
       "      <td>-3.4</td>\n",
       "      <td>92.431</td>\n",
       "      <td>5017.5</td>\n",
       "      <td>0</td>\n",
       "      <td>0</td>\n",
       "      <td>...</td>\n",
       "      <td>1</td>\n",
       "      <td>0</td>\n",
       "      <td>0</td>\n",
       "      <td>0</td>\n",
       "      <td>0</td>\n",
       "      <td>0</td>\n",
       "      <td>0</td>\n",
       "      <td>0</td>\n",
       "      <td>1</td>\n",
       "      <td>0</td>\n",
       "    </tr>\n",
       "    <tr>\n",
       "      <th>39802</th>\n",
       "      <td>25.0</td>\n",
       "      <td>112.0</td>\n",
       "      <td>4.0</td>\n",
       "      <td>999.0</td>\n",
       "      <td>0.0</td>\n",
       "      <td>1.1</td>\n",
       "      <td>93.994</td>\n",
       "      <td>5191.0</td>\n",
       "      <td>0</td>\n",
       "      <td>0</td>\n",
       "      <td>...</td>\n",
       "      <td>0</td>\n",
       "      <td>0</td>\n",
       "      <td>0</td>\n",
       "      <td>0</td>\n",
       "      <td>0</td>\n",
       "      <td>0</td>\n",
       "      <td>1</td>\n",
       "      <td>0</td>\n",
       "      <td>0</td>\n",
       "      <td>0</td>\n",
       "    </tr>\n",
       "  </tbody>\n",
       "</table>\n",
       "<p>39803 rows × 32 columns</p>\n",
       "</div>"
      ],
      "text/plain": [
       "        age  duration  campaign_attending  customer_since  previous_savings  \\\n",
       "0      44.0     210.0                 1.0           999.0               0.0   \n",
       "1      53.0     138.0                 1.0           999.0               0.0   \n",
       "2      28.0     339.0                 3.0             6.0               2.0   \n",
       "3      39.0     185.0                 2.0           999.0               0.0   \n",
       "4      55.0     137.0                 1.0             3.0               1.0   \n",
       "...     ...       ...                 ...             ...               ...   \n",
       "39798  59.0     222.0                 1.0           999.0               0.0   \n",
       "39799  31.0     196.0                 2.0           999.0               0.0   \n",
       "39800  42.0      62.0                 3.0           999.0               0.0   \n",
       "39801  48.0     200.0                 2.0           999.0               0.0   \n",
       "39802  25.0     112.0                 4.0           999.0               0.0   \n",
       "\n",
       "       emp_var_rate  cons_price_idx  nr_employed  output  job_blue_collar  \\\n",
       "0               1.4          93.444       5228.1       0                1   \n",
       "1              -0.1          93.200       5195.8       0                0   \n",
       "2              -1.7          94.055       4991.6       1                0   \n",
       "3              -1.8          93.075       5099.1       0                0   \n",
       "4              -2.9          92.201       5076.2       1                0   \n",
       "...             ...             ...          ...     ...              ...   \n",
       "39798           1.4          94.465       5228.1       0                0   \n",
       "39799           1.1          93.994       5191.0       0                0   \n",
       "39800           1.1          93.994       5191.0       0                0   \n",
       "39801          -3.4          92.431       5017.5       0                0   \n",
       "39802           1.1          93.994       5191.0       0                0   \n",
       "\n",
       "       ...  loan_yes  month_aug  month_dec  month_jul  month_jun  month_mar  \\\n",
       "0      ...         0          1          0          0          0          0   \n",
       "1      ...         0          0          0          0          0          0   \n",
       "2      ...         0          0          0          0          1          0   \n",
       "3      ...         0          0          0          0          0          0   \n",
       "4      ...         0          1          0          0          0          0   \n",
       "...    ...       ...        ...        ...        ...        ...        ...   \n",
       "39798  ...         1          0          0          0          1          0   \n",
       "39799  ...         0          0          0          0          0          0   \n",
       "39800  ...         1          0          0          0          0          0   \n",
       "39801  ...         1          0          0          0          0          0   \n",
       "39802  ...         0          0          0          0          0          0   \n",
       "\n",
       "       month_may  month_nov  month_oct  month_sep  \n",
       "0              0          0          0          0  \n",
       "1              0          1          0          0  \n",
       "2              0          0          0          0  \n",
       "3              0          0          0          0  \n",
       "4              0          0          0          0  \n",
       "...          ...        ...        ...        ...  \n",
       "39798          0          0          0          0  \n",
       "39799          1          0          0          0  \n",
       "39800          1          0          0          0  \n",
       "39801          0          0          1          0  \n",
       "39802          1          0          0          0  \n",
       "\n",
       "[39803 rows x 32 columns]"
      ]
     },
     "execution_count": 25,
     "metadata": {},
     "output_type": "execute_result"
    }
   ],
   "source": [
    "bankcalls"
   ]
  },
  {
   "cell_type": "markdown",
   "id": "65efa140",
   "metadata": {},
   "source": [
    "## Bi-variate analysis to identify corr"
   ]
  },
  {
   "cell_type": "code",
   "execution_count": 26,
   "id": "dbd0a543",
   "metadata": {
    "ExecuteTime": {
     "end_time": "2022-09-02T21:21:26.916379Z",
     "start_time": "2022-09-02T21:21:26.135787Z"
    }
   },
   "outputs": [
    {
     "data": {
      "image/png": "[encoded data removed]",
      "text/plain": [
       "<Figure size 1080x720 with 2 Axes>"
      ]
     },
     "metadata": {},
     "output_type": "display_data"
    }
   ],
   "source": [
    "# Visualizing correlation matrix in Seaborn using a heatmap\n",
    "bankcalls.corr().to_excel('bankcalls_corr.xlsx')\n",
    "plt.figure(figsize=(15, 10))\n",
    "sns.heatmap(bankcalls.corr(), annot=False, cmap='YlGnBu')\n",
    "plt.show()"
   ]
  },
  {
   "cell_type": "code",
   "execution_count": 27,
   "id": "1526d197",
   "metadata": {
    "ExecuteTime": {
     "end_time": "2022-09-02T21:21:27.299372Z",
     "start_time": "2022-09-02T21:21:26.918394Z"
    }
   },
   "outputs": [
    {
     "data": {
      "image/png": "[encoded data removed]",
      "text/plain": [
       "<Figure size 1080x576 with 2 Axes>"
      ]
     },
     "metadata": {},
     "output_type": "display_data"
    }
   ],
   "source": [
    "plt.figure(figsize=(15, 8))\n",
    "sns.heatmap(bankcalls.select_dtypes(['int64', 'float64']).corr(), annot=True, cmap='YlGnBu')\n",
    "plt.show()"
   ]
  },
  {
   "cell_type": "markdown",
   "id": "30281bf8",
   "metadata": {},
   "source": [
    "* `cons_price_idx` and `nr_employed` are highly co-related with `emp_var_rate`."
   ]
  },
  {
   "cell_type": "markdown",
   "id": "f97e839b",
   "metadata": {},
   "source": [
    "## Building Logistic Regression Model"
   ]
  },
  {
   "cell_type": "code",
   "execution_count": 28,
   "id": "6acf044b",
   "metadata": {
    "ExecuteTime": {
     "end_time": "2022-09-02T21:21:27.330205Z",
     "start_time": "2022-09-02T21:21:27.302687Z"
    }
   },
   "outputs": [],
   "source": [
    "# Train and Test split\n",
    "train, test = train_test_split(bankcalls,\n",
    "                               test_size=0.3,\n",
    "                               random_state=2,\n",
    "                               stratify=bankcalls.output)"
   ]
  },
  {
   "cell_type": "code",
   "execution_count": 29,
   "id": "5f9b62dd",
   "metadata": {
    "ExecuteTime": {
     "end_time": "2022-09-02T21:21:27.345205Z",
     "start_time": "2022-09-02T21:21:27.331240Z"
    }
   },
   "outputs": [
    {
     "data": {
      "text/plain": [
       "Index(['age', 'duration', 'campaign_attending', 'customer_since',\n",
       "       'previous_savings', 'emp_var_rate', 'cons_price_idx', 'nr_employed',\n",
       "       'output', 'job_blue_collar', 'job_entrepreneur', 'job_housemaid',\n",
       "       'job_management', 'job_retired', 'job_self_employed', 'job_services',\n",
       "       'job_student', 'job_technician', 'job_unemployed', 'marital_married',\n",
       "       'marital_single', 'housing_yes', 'loan_yes', 'month_aug', 'month_dec',\n",
       "       'month_jul', 'month_jun', 'month_mar', 'month_may', 'month_nov',\n",
       "       'month_oct', 'month_sep'],\n",
       "      dtype='object')"
      ]
     },
     "execution_count": 29,
     "metadata": {},
     "output_type": "execute_result"
    }
   ],
   "source": [
    "# Printing the columns\n",
    "train.columns"
   ]
  },
  {
   "cell_type": "code",
   "execution_count": 30,
   "id": "17f823ad",
   "metadata": {
    "ExecuteTime": {
     "end_time": "2022-09-02T21:21:27.360430Z",
     "start_time": "2022-09-02T21:21:27.346709Z"
    }
   },
   "outputs": [
    {
     "data": {
      "text/plain": [
       "'output ~ age + campaign_attending + cons_price_idx + customer_since + duration + emp_var_rate + housing_yes + job_blue_collar + job_entrepreneur + job_housemaid + job_management + job_retired + job_self_employed + job_services + job_student + job_technician + job_unemployed + loan_yes + marital_married + marital_single + month_aug + month_dec + month_jul + month_jun + month_mar + month_may + month_nov + month_oct + month_sep + nr_employed + previous_savings'"
      ]
     },
     "execution_count": 30,
     "metadata": {},
     "output_type": "execute_result"
    }
   ],
   "source": [
    "model_eq = 'output ~ ' + ' + '.join(train.columns.difference(['output']))\n",
    "model_eq"
   ]
  },
  {
   "cell_type": "code",
   "execution_count": 31,
   "id": "6561db75",
   "metadata": {
    "ExecuteTime": {
     "end_time": "2022-09-02T21:21:27.500407Z",
     "start_time": "2022-09-02T21:21:27.361664Z"
    },
    "scrolled": false
   },
   "outputs": [
    {
     "name": "stdout",
     "output_type": "stream",
     "text": [
      "Optimization terminated successfully.\n",
      "         Current function value: 0.202991\n",
      "         Iterations 9\n"
     ]
    }
   ],
   "source": [
    "# Executing a model for the X variables\n",
    "m1 = smf.logit(formula=model_eq, data=train).fit()"
   ]
  },
  {
   "cell_type": "code",
   "execution_count": 32,
   "id": "cd95db56",
   "metadata": {
    "ExecuteTime": {
     "end_time": "2022-09-02T21:21:27.562105Z",
     "start_time": "2022-09-02T21:21:27.501909Z"
    }
   },
   "outputs": [
    {
     "name": "stdout",
     "output_type": "stream",
     "text": [
      "                             Results: Logit\n",
      "=========================================================================\n",
      "Model:                  Logit              Pseudo R-squared:   0.424     \n",
      "Dependent Variable:     output             AIC:                11375.4750\n",
      "Date:                   2022-09-03 02:51   BIC:                11638.9956\n",
      "No. Observations:       27862              Log-Likelihood:     -5655.7   \n",
      "Df Model:               31                 LL-Null:            -9812.8   \n",
      "Df Residuals:           27830              LLR p-value:        0.0000    \n",
      "Converged:              1.0000             Scale:              1.0000    \n",
      "No. Iterations:         9.0000                                           \n",
      "-------------------------------------------------------------------------\n",
      "                     Coef.   Std.Err.    z     P>|z|    [0.025    0.975] \n",
      "-------------------------------------------------------------------------\n",
      "Intercept          -175.7590  32.8001  -5.3585 0.0000 -240.0460 -111.4720\n",
      "age                  -0.0023   0.0030  -0.7695 0.4416   -0.0083    0.0036\n",
      "campaign_attending   -0.0491   0.0150  -3.2620 0.0011   -0.0786   -0.0196\n",
      "cons_price_idx        1.6149   0.2364   6.8299 0.0000    1.1515    2.0783\n",
      "customer_since       -0.0019   0.0001 -17.7865 0.0000   -0.0021   -0.0017\n",
      "duration              0.0052   0.0001  55.9265 0.0000    0.0050    0.0054\n",
      "emp_var_rate         -1.3341   0.1519  -8.7814 0.0000   -1.6319   -1.0363\n",
      "housing_yes          -0.0370   0.0500  -0.7412 0.4586   -0.1350    0.0609\n",
      "job_blue_collar      -0.3260   0.0795  -4.1004 0.0000   -0.4818   -0.1702\n",
      "job_entrepreneur     -0.1759   0.1503  -1.1699 0.2420   -0.4705    0.1188\n",
      "job_housemaid        -0.0052   0.1743  -0.0297 0.9763   -0.3468    0.3364\n",
      "job_management       -0.1251   0.1052  -1.1894 0.2343   -0.3313    0.0811\n",
      "job_retired           0.1910   0.1252   1.5251 0.1272   -0.0545    0.4365\n",
      "job_self_employed    -0.1557   0.1409  -1.1051 0.2691   -0.4318    0.1204\n",
      "job_services         -0.1941   0.1009  -1.9241 0.0543   -0.3918    0.0036\n",
      "job_student           0.1161   0.1294   0.8978 0.3693   -0.1374    0.3697\n",
      "job_technician       -0.0189   0.0783  -0.2415 0.8092   -0.1724    0.1346\n",
      "job_unemployed        0.0912   0.1465   0.6222 0.5338   -0.1960    0.3784\n",
      "loan_yes              0.0382   0.0686   0.5562 0.5781   -0.0963    0.1726\n",
      "marital_married      -0.0204   0.0835  -0.2444 0.8069   -0.1841    0.1432\n",
      "marital_single        0.0278   0.0952   0.2925 0.7699   -0.1587    0.2144\n",
      "month_aug             1.0932   0.1370   7.9808 0.0000    0.8247    1.3617\n",
      "month_dec             0.6342   0.2356   2.6917 0.0071    0.1724    1.0961\n",
      "month_jul             0.5249   0.1051   4.9961 0.0000    0.3190    0.7308\n",
      "month_jun            -0.2071   0.1363  -1.5195 0.1286   -0.4743    0.0600\n",
      "month_mar             2.0049   0.1613  12.4332 0.0000    1.6888    2.3209\n",
      "month_may            -0.5602   0.0949  -5.9004 0.0000   -0.7463   -0.3741\n",
      "month_nov             0.0374   0.1127   0.3321 0.7398   -0.1835    0.2584\n",
      "month_oct             0.7130   0.1461   4.8792 0.0000    0.4266    0.9994\n",
      "month_sep             0.6199   0.1808   3.4278 0.0006    0.2654    0.9743\n",
      "nr_employed           0.0043   0.0021   2.0278 0.0426    0.0001    0.0085\n",
      "previous_savings     -0.3373   0.0587  -5.7420 0.0000   -0.4525   -0.2222\n",
      "=========================================================================\n",
      "\n"
     ]
    }
   ],
   "source": [
    "# Printing the model summary stats\n",
    "print(m1.summary2())"
   ]
  },
  {
   "cell_type": "markdown",
   "id": "b7ba7ba5",
   "metadata": {
    "ExecuteTime": {
     "end_time": "2022-08-28T18:55:00.216206Z",
     "start_time": "2022-08-28T18:55:00.200215Z"
    }
   },
   "source": [
    ">* **Exploratory Data Analysis**\n",
    ">  - Checking Optimum no of features using RFE\n",
    ">  - Variable Reduction using Somers' D values and VIF\n",
    "      - Bi-variate analysis technique to check the predictive power of each independent against dependent\n",
    "      - cutoff is 0.2 or 20% below which the variable is insignificant\n",
    ">  - Fixing the problem of Multi-collinearity using VIF\n",
    "      - cutoff is 4, the variable is significant only if VIF < 4"
   ]
  },
  {
   "cell_type": "markdown",
   "id": "fbf6c9fe",
   "metadata": {},
   "source": [
    "### Checking Optimum no of features using RFE"
   ]
  },
  {
   "cell_type": "code",
   "execution_count": 33,
   "id": "95f7ee85",
   "metadata": {
    "ExecuteTime": {
     "end_time": "2022-09-02T21:22:32.356989Z",
     "start_time": "2022-09-02T21:21:27.563705Z"
    }
   },
   "outputs": [
    {
     "name": "stdout",
     "output_type": "stream",
     "text": [
      "Optimum number of features: 30\n",
      "Score with 30 features: 0.910662\n"
     ]
    },
    {
     "data": {
      "image/png": "[encoded data removed]",
      "text/plain": [
       "<Figure size 432x432 with 1 Axes>"
      ]
     },
     "metadata": {},
     "output_type": "display_data"
    }
   ],
   "source": [
    "X_vars = bankcalls.columns.difference(['output'])\n",
    "y_var = 'output'\n",
    "X, y = bankcalls[X_vars], bankcalls[y_var]\n",
    "X = pd.get_dummies(X, drop_first=True)\n",
    "y_act = y\n",
    "nof_list = np.arange(1, bankcalls.shape[1])\n",
    "high_score = 0\n",
    "\n",
    "# Variable to store the optimum features\n",
    "nof = 0\n",
    "score_list = []\n",
    "X_train, X_test, y_train, y_test = train_test_split(X,\n",
    "                                                    y,\n",
    "                                                    test_size=0.25,\n",
    "                                                    random_state=2,\n",
    "                                                    stratify=y)\n",
    "for n in range(len(nof_list)):\n",
    "    model = LogisticRegression()\n",
    "    rfe = RFE(model, n_features_to_select=nof_list[n], step=1)\n",
    "    X_train_rfe = rfe.fit_transform(X_train, y_train)\n",
    "    X_test_rfe = rfe.transform(X_test)\n",
    "    model.fit(X_train_rfe, y_train)\n",
    "    score = model.score(X_test_rfe, y_test)\n",
    "    score_list.append(score)\n",
    "    if (score > high_score):\n",
    "        high_score = score\n",
    "        nof = nof_list[n]\n",
    "        # print(np.array(X_train.columns)[rfe.support_])\n",
    "\n",
    "print(\"Optimum number of features: %d\" % nof)\n",
    "print(\"Score with %d features: %f\" % (nof, high_score))\n",
    "plt.figure(figsize=(6, 6))\n",
    "sns.lineplot(data=pd.DataFrame(np.array([nof_list, score_list]).T,\n",
    "                               columns=['nof_list', 'score_list']),\n",
    "             x='nof_list',\n",
    "             y='score_list',\n",
    "             markers=True,\n",
    "             dashes=False)\n",
    "plt.show()"
   ]
  },
  {
   "cell_type": "markdown",
   "id": "8999e768",
   "metadata": {},
   "source": [
    "Since there are lots of dummy variables in this data set and multi-collinearity exists between a few continuous variables, it is not feasible to get the optimum no. of features from RFE directly. We need to check for interdependency among the variables with different combinations in this case. So, it will be better to check with corresponding Somers' D values > 0.2 and then filtering recursively with VIF < 4."
   ]
  },
  {
   "cell_type": "markdown",
   "id": "4ded6f3c",
   "metadata": {},
   "source": [
    "### Getting the Somers' D values for all the X variables"
   ]
  },
  {
   "cell_type": "code",
   "execution_count": 34,
   "id": "9fc4d794",
   "metadata": {
    "ExecuteTime": {
     "end_time": "2022-09-02T21:22:33.413056Z",
     "start_time": "2022-09-02T21:22:32.358537Z"
    }
   },
   "outputs": [
    {
     "name": "stdout",
     "output_type": "stream",
     "text": [
      "Optimization terminated successfully.\n",
      "         Current function value: 0.351895\n",
      "         Iterations 6\n",
      "Optimization terminated successfully.\n",
      "         Current function value: 0.349275\n",
      "         Iterations 7\n",
      "Optimization terminated successfully.\n",
      "         Current function value: 0.342630\n",
      "         Iterations 7\n",
      "Optimization terminated successfully.\n",
      "         Current function value: 0.321352\n",
      "         Iterations 6\n",
      "Optimization terminated successfully.\n",
      "         Current function value: 0.287685\n",
      "         Iterations 7\n",
      "Optimization terminated successfully.\n",
      "         Current function value: 0.311194\n",
      "         Iterations 7\n",
      "Optimization terminated successfully.\n",
      "         Current function value: 0.352117\n",
      "         Iterations 6\n",
      "Optimization terminated successfully.\n",
      "         Current function value: 0.349070\n",
      "         Iterations 7\n",
      "Optimization terminated successfully.\n",
      "         Current function value: 0.352029\n",
      "         Iterations 6\n",
      "Optimization terminated successfully.\n",
      "         Current function value: 0.352164\n",
      "         Iterations 6\n",
      "Optimization terminated successfully.\n",
      "         Current function value: 0.352185\n",
      "         Iterations 6\n",
      "Optimization terminated successfully.\n",
      "         Current function value: 0.348806\n",
      "         Iterations 6\n",
      "Optimization terminated successfully.\n",
      "         Current function value: 0.352179\n",
      "         Iterations 6\n",
      "Optimization terminated successfully.\n",
      "         Current function value: 0.351630\n",
      "         Iterations 6\n",
      "Optimization terminated successfully.\n",
      "         Current function value: 0.349093\n",
      "         Iterations 6\n",
      "Optimization terminated successfully.\n",
      "         Current function value: 0.352157\n",
      "         Iterations 6\n",
      "Optimization terminated successfully.\n",
      "         Current function value: 0.352059\n",
      "         Iterations 6\n",
      "Optimization terminated successfully.\n",
      "         Current function value: 0.352177\n",
      "         Iterations 6\n",
      "Optimization terminated successfully.\n",
      "         Current function value: 0.351291\n",
      "         Iterations 6\n",
      "Optimization terminated successfully.\n",
      "         Current function value: 0.350818\n",
      "         Iterations 6\n",
      "Optimization terminated successfully.\n",
      "         Current function value: 0.352132\n",
      "         Iterations 6\n",
      "Optimization terminated successfully.\n",
      "         Current function value: 0.350272\n",
      "         Iterations 6\n",
      "Optimization terminated successfully.\n",
      "         Current function value: 0.351628\n",
      "         Iterations 6\n",
      "Optimization terminated successfully.\n",
      "         Current function value: 0.352151\n",
      "         Iterations 6\n",
      "Optimization terminated successfully.\n",
      "         Current function value: 0.345721\n",
      "         Iterations 6\n",
      "Optimization terminated successfully.\n",
      "         Current function value: 0.346013\n",
      "         Iterations 7\n",
      "Optimization terminated successfully.\n",
      "         Current function value: 0.352109\n",
      "         Iterations 6\n",
      "Optimization terminated successfully.\n",
      "         Current function value: 0.346140\n",
      "         Iterations 6\n",
      "Optimization terminated successfully.\n",
      "         Current function value: 0.347220\n",
      "         Iterations 6\n",
      "Optimization terminated successfully.\n",
      "         Current function value: 0.298402\n",
      "         Iterations 7\n",
      "Optimization terminated successfully.\n",
      "         Current function value: 0.333726\n",
      "         Iterations 6\n"
     ]
    }
   ],
   "source": [
    "# Empty dataframe to store the information\n",
    "df = pd.DataFrame()\n",
    "\n",
    "# Iterating on each X variable\n",
    "for var_name in bankcalls.columns.difference(['output']):\n",
    "\n",
    "    # Building the bivariate model and fit\n",
    "    model = smf.logit(formula='output ~ ' + var_name, data=bankcalls).fit()\n",
    "\n",
    "    # Predicting the y\n",
    "    y_predicted = model.predict(bankcalls)\n",
    "\n",
    "    # Getting the roc_auc_score\n",
    "    roc_score = roc_auc_score(bankcalls.output, y_predicted)\n",
    "\n",
    "    # Getting the Somers' D value\n",
    "    somers_d = 2 * roc_score - 1\n",
    "\n",
    "    # Storing the data in temp df\n",
    "    temp_df = pd.DataFrame([var_name, roc_score, somers_d]).T\n",
    "\n",
    "    # Concating the data with the output dataframe\n",
    "    df = pd.concat([df, temp_df], axis=0)\n",
    "\n",
    "# Adding the column names\n",
    "df.columns = ['Feature', 'ROC_AUC_SCORE', 'SomersD']"
   ]
  },
  {
   "cell_type": "code",
   "execution_count": 35,
   "id": "a9653410",
   "metadata": {
    "ExecuteTime": {
     "end_time": "2022-09-02T21:22:33.427711Z",
     "start_time": "2022-09-02T21:22:33.414039Z"
    }
   },
   "outputs": [
    {
     "data": {
      "text/html": [
       "<div>\n",
       "<style scoped>\n",
       "    .dataframe tbody tr th:only-of-type {\n",
       "        vertical-align: middle;\n",
       "    }\n",
       "\n",
       "    .dataframe tbody tr th {\n",
       "        vertical-align: top;\n",
       "    }\n",
       "\n",
       "    .dataframe thead th {\n",
       "        text-align: right;\n",
       "    }\n",
       "</style>\n",
       "<table border=\"1\" class=\"dataframe\">\n",
       "  <thead>\n",
       "    <tr style=\"text-align: right;\">\n",
       "      <th></th>\n",
       "      <th>Feature</th>\n",
       "      <th>ROC_AUC_SCORE</th>\n",
       "      <th>SomersD</th>\n",
       "    </tr>\n",
       "  </thead>\n",
       "  <tbody>\n",
       "    <tr>\n",
       "      <th>0</th>\n",
       "      <td>age</td>\n",
       "      <td>0.489237</td>\n",
       "      <td>-0.021526</td>\n",
       "    </tr>\n",
       "    <tr>\n",
       "      <th>1</th>\n",
       "      <td>campaign_attending</td>\n",
       "      <td>0.553545</td>\n",
       "      <td>0.107089</td>\n",
       "    </tr>\n",
       "    <tr>\n",
       "      <th>2</th>\n",
       "      <td>cons_price_idx</td>\n",
       "      <td>0.611982</td>\n",
       "      <td>0.223964</td>\n",
       "    </tr>\n",
       "    <tr>\n",
       "      <th>3</th>\n",
       "      <td>customer_since</td>\n",
       "      <td>0.596502</td>\n",
       "      <td>0.193005</td>\n",
       "    </tr>\n",
       "    <tr>\n",
       "      <th>4</th>\n",
       "      <td>duration</td>\n",
       "      <td>0.818546</td>\n",
       "      <td>0.637092</td>\n",
       "    </tr>\n",
       "    <tr>\n",
       "      <th>5</th>\n",
       "      <td>emp_var_rate</td>\n",
       "      <td>0.716108</td>\n",
       "      <td>0.432217</td>\n",
       "    </tr>\n",
       "    <tr>\n",
       "      <th>6</th>\n",
       "      <td>housing_yes</td>\n",
       "      <td>0.509203</td>\n",
       "      <td>0.018406</td>\n",
       "    </tr>\n",
       "    <tr>\n",
       "      <th>7</th>\n",
       "      <td>job_blue_collar</td>\n",
       "      <td>0.549694</td>\n",
       "      <td>0.099389</td>\n",
       "    </tr>\n",
       "    <tr>\n",
       "      <th>8</th>\n",
       "      <td>job_entrepreneur</td>\n",
       "      <td>0.504991</td>\n",
       "      <td>0.009982</td>\n",
       "    </tr>\n",
       "    <tr>\n",
       "      <th>9</th>\n",
       "      <td>job_housemaid</td>\n",
       "      <td>0.501618</td>\n",
       "      <td>0.003237</td>\n",
       "    </tr>\n",
       "    <tr>\n",
       "      <th>10</th>\n",
       "      <td>job_management</td>\n",
       "      <td>0.500341</td>\n",
       "      <td>0.000683</td>\n",
       "    </tr>\n",
       "    <tr>\n",
       "      <th>11</th>\n",
       "      <td>job_retired</td>\n",
       "      <td>0.529467</td>\n",
       "      <td>0.058934</td>\n",
       "    </tr>\n",
       "    <tr>\n",
       "      <th>12</th>\n",
       "      <td>job_self_employed</td>\n",
       "      <td>0.501019</td>\n",
       "      <td>0.002039</td>\n",
       "    </tr>\n",
       "    <tr>\n",
       "      <th>13</th>\n",
       "      <td>job_services</td>\n",
       "      <td>0.514991</td>\n",
       "      <td>0.029982</td>\n",
       "    </tr>\n",
       "    <tr>\n",
       "      <th>14</th>\n",
       "      <td>job_student</td>\n",
       "      <td>0.521108</td>\n",
       "      <td>0.042215</td>\n",
       "    </tr>\n",
       "    <tr>\n",
       "      <th>15</th>\n",
       "      <td>job_technician</td>\n",
       "      <td>0.504423</td>\n",
       "      <td>0.008846</td>\n",
       "    </tr>\n",
       "    <tr>\n",
       "      <th>16</th>\n",
       "      <td>job_unemployed</td>\n",
       "      <td>0.504056</td>\n",
       "      <td>0.008113</td>\n",
       "    </tr>\n",
       "    <tr>\n",
       "      <th>17</th>\n",
       "      <td>loan_yes</td>\n",
       "      <td>0.502388</td>\n",
       "      <td>0.004775</td>\n",
       "    </tr>\n",
       "    <tr>\n",
       "      <th>18</th>\n",
       "      <td>marital_married</td>\n",
       "      <td>0.532895</td>\n",
       "      <td>0.065791</td>\n",
       "    </tr>\n",
       "    <tr>\n",
       "      <th>19</th>\n",
       "      <td>marital_single</td>\n",
       "      <td>0.537895</td>\n",
       "      <td>0.075789</td>\n",
       "    </tr>\n",
       "    <tr>\n",
       "      <th>20</th>\n",
       "      <td>month_aug</td>\n",
       "      <td>0.505779</td>\n",
       "      <td>0.011558</td>\n",
       "    </tr>\n",
       "    <tr>\n",
       "      <th>21</th>\n",
       "      <td>month_dec</td>\n",
       "      <td>0.508212</td>\n",
       "      <td>0.016424</td>\n",
       "    </tr>\n",
       "    <tr>\n",
       "      <th>22</th>\n",
       "      <td>month_jul</td>\n",
       "      <td>0.519572</td>\n",
       "      <td>0.039145</td>\n",
       "    </tr>\n",
       "    <tr>\n",
       "      <th>23</th>\n",
       "      <td>month_jun</td>\n",
       "      <td>0.504338</td>\n",
       "      <td>0.008676</td>\n",
       "    </tr>\n",
       "    <tr>\n",
       "      <th>24</th>\n",
       "      <td>month_mar</td>\n",
       "      <td>0.526294</td>\n",
       "      <td>0.052589</td>\n",
       "    </tr>\n",
       "    <tr>\n",
       "      <th>25</th>\n",
       "      <td>month_may</td>\n",
       "      <td>0.579421</td>\n",
       "      <td>0.158843</td>\n",
       "    </tr>\n",
       "    <tr>\n",
       "      <th>26</th>\n",
       "      <td>month_nov</td>\n",
       "      <td>0.505797</td>\n",
       "      <td>0.011595</td>\n",
       "    </tr>\n",
       "    <tr>\n",
       "      <th>27</th>\n",
       "      <td>month_oct</td>\n",
       "      <td>0.528202</td>\n",
       "      <td>0.056404</td>\n",
       "    </tr>\n",
       "    <tr>\n",
       "      <th>28</th>\n",
       "      <td>month_sep</td>\n",
       "      <td>0.522914</td>\n",
       "      <td>0.045828</td>\n",
       "    </tr>\n",
       "    <tr>\n",
       "      <th>29</th>\n",
       "      <td>nr_employed</td>\n",
       "      <td>0.748036</td>\n",
       "      <td>0.496073</td>\n",
       "    </tr>\n",
       "    <tr>\n",
       "      <th>30</th>\n",
       "      <td>previous_savings</td>\n",
       "      <td>0.607511</td>\n",
       "      <td>0.215022</td>\n",
       "    </tr>\n",
       "  </tbody>\n",
       "</table>\n",
       "</div>"
      ],
      "text/plain": [
       "               Feature ROC_AUC_SCORE   SomersD\n",
       "0                  age      0.489237 -0.021526\n",
       "1   campaign_attending      0.553545  0.107089\n",
       "2       cons_price_idx      0.611982  0.223964\n",
       "3       customer_since      0.596502  0.193005\n",
       "4             duration      0.818546  0.637092\n",
       "5         emp_var_rate      0.716108  0.432217\n",
       "6          housing_yes      0.509203  0.018406\n",
       "7      job_blue_collar      0.549694  0.099389\n",
       "8     job_entrepreneur      0.504991  0.009982\n",
       "9        job_housemaid      0.501618  0.003237\n",
       "10      job_management      0.500341  0.000683\n",
       "11         job_retired      0.529467  0.058934\n",
       "12   job_self_employed      0.501019  0.002039\n",
       "13        job_services      0.514991  0.029982\n",
       "14         job_student      0.521108  0.042215\n",
       "15      job_technician      0.504423  0.008846\n",
       "16      job_unemployed      0.504056  0.008113\n",
       "17            loan_yes      0.502388  0.004775\n",
       "18     marital_married      0.532895  0.065791\n",
       "19      marital_single      0.537895  0.075789\n",
       "20           month_aug      0.505779  0.011558\n",
       "21           month_dec      0.508212  0.016424\n",
       "22           month_jul      0.519572  0.039145\n",
       "23           month_jun      0.504338  0.008676\n",
       "24           month_mar      0.526294  0.052589\n",
       "25           month_may      0.579421  0.158843\n",
       "26           month_nov      0.505797  0.011595\n",
       "27           month_oct      0.528202  0.056404\n",
       "28           month_sep      0.522914  0.045828\n",
       "29         nr_employed      0.748036  0.496073\n",
       "30    previous_savings      0.607511  0.215022"
      ]
     },
     "execution_count": 35,
     "metadata": {},
     "output_type": "execute_result"
    }
   ],
   "source": [
    "df.reset_index(drop=True, inplace=True)\n",
    "df"
   ]
  },
  {
   "cell_type": "code",
   "execution_count": 36,
   "id": "f1255c4b",
   "metadata": {
    "ExecuteTime": {
     "end_time": "2022-09-02T21:22:33.443186Z",
     "start_time": "2022-09-02T21:22:33.429421Z"
    }
   },
   "outputs": [
    {
     "data": {
      "text/plain": [
       "['cons_price_idx',\n",
       " 'duration',\n",
       " 'emp_var_rate',\n",
       " 'nr_employed',\n",
       " 'previous_savings']"
      ]
     },
     "execution_count": 36,
     "metadata": {},
     "output_type": "execute_result"
    }
   ],
   "source": [
    "features = list(df.loc[df.SomersD >= 0.2, 'Feature'])\n",
    "features"
   ]
  },
  {
   "cell_type": "markdown",
   "id": "0cd4168c",
   "metadata": {},
   "source": [
    "### VIF - Variance Inflation Factor"
   ]
  },
  {
   "cell_type": "code",
   "execution_count": 37,
   "id": "a4c3a321",
   "metadata": {
    "ExecuteTime": {
     "end_time": "2022-09-02T21:22:33.459280Z",
     "start_time": "2022-09-02T21:22:33.445185Z"
    }
   },
   "outputs": [],
   "source": [
    "def vif_fun(df, features):\n",
    "    # Running the dmatrices\n",
    "    equation = 'output ~ ' + ' + '.join(features)\n",
    "\n",
    "    a, b = dmatrices(equation, data=df, return_type='dataframe')\n",
    "\n",
    "    # Getting the VIF\n",
    "    vif = pd.DataFrame()\n",
    "    vif[\"features\"] = b.columns\n",
    "    vif[\"VIF Factor\"] = [variance_inflation_factor(b.values, i) \n",
    "                         for i in range(b.shape[1])]\n",
    "    pd.options.display.float_format = '{:.2f}'.format\n",
    "    return vif"
   ]
  },
  {
   "cell_type": "code",
   "execution_count": 38,
   "id": "2f2d4b75",
   "metadata": {
    "ExecuteTime": {
     "end_time": "2022-09-02T21:22:33.523583Z",
     "start_time": "2022-09-02T21:22:33.461084Z"
    }
   },
   "outputs": [
    {
     "data": {
      "text/html": [
       "<div>\n",
       "<style scoped>\n",
       "    .dataframe tbody tr th:only-of-type {\n",
       "        vertical-align: middle;\n",
       "    }\n",
       "\n",
       "    .dataframe tbody tr th {\n",
       "        vertical-align: top;\n",
       "    }\n",
       "\n",
       "    .dataframe thead th {\n",
       "        text-align: right;\n",
       "    }\n",
       "</style>\n",
       "<table border=\"1\" class=\"dataframe\">\n",
       "  <thead>\n",
       "    <tr style=\"text-align: right;\">\n",
       "      <th></th>\n",
       "      <th>features</th>\n",
       "      <th>VIF Factor</th>\n",
       "    </tr>\n",
       "  </thead>\n",
       "  <tbody>\n",
       "    <tr>\n",
       "      <th>0</th>\n",
       "      <td>Intercept</td>\n",
       "      <td>286831.61</td>\n",
       "    </tr>\n",
       "    <tr>\n",
       "      <th>1</th>\n",
       "      <td>cons_price_idx</td>\n",
       "      <td>4.67</td>\n",
       "    </tr>\n",
       "    <tr>\n",
       "      <th>2</th>\n",
       "      <td>duration</td>\n",
       "      <td>1.00</td>\n",
       "    </tr>\n",
       "    <tr>\n",
       "      <th>3</th>\n",
       "      <td>emp_var_rate</td>\n",
       "      <td>18.89</td>\n",
       "    </tr>\n",
       "    <tr>\n",
       "      <th>4</th>\n",
       "      <td>nr_employed</td>\n",
       "      <td>10.73</td>\n",
       "    </tr>\n",
       "    <tr>\n",
       "      <th>5</th>\n",
       "      <td>previous_savings</td>\n",
       "      <td>1.35</td>\n",
       "    </tr>\n",
       "  </tbody>\n",
       "</table>\n",
       "</div>"
      ],
      "text/plain": [
       "           features  VIF Factor\n",
       "0         Intercept   286831.61\n",
       "1    cons_price_idx        4.67\n",
       "2          duration        1.00\n",
       "3      emp_var_rate       18.89\n",
       "4       nr_employed       10.73\n",
       "5  previous_savings        1.35"
      ]
     },
     "execution_count": 38,
     "metadata": {},
     "output_type": "execute_result"
    }
   ],
   "source": [
    "vif_fun(bankcalls, features)"
   ]
  },
  {
   "cell_type": "markdown",
   "id": "3bd69785",
   "metadata": {},
   "source": [
    "From the `corr()` values we have seen that both `cons_price_idx` and `nr_employed` are highly co-related with `emp_var_rate`. In VIF analysis `emp_var_rate` is having the maximum VIF factor. Hence this column should be dropped and we need to check the VIF factors again to make sure that all the features have VIF < 4."
   ]
  },
  {
   "cell_type": "code",
   "execution_count": 39,
   "id": "3f3dbb3e",
   "metadata": {
    "ExecuteTime": {
     "end_time": "2022-09-02T21:22:33.570511Z",
     "start_time": "2022-09-02T21:22:33.525096Z"
    }
   },
   "outputs": [
    {
     "data": {
      "text/html": [
       "<div>\n",
       "<style scoped>\n",
       "    .dataframe tbody tr th:only-of-type {\n",
       "        vertical-align: middle;\n",
       "    }\n",
       "\n",
       "    .dataframe tbody tr th {\n",
       "        vertical-align: top;\n",
       "    }\n",
       "\n",
       "    .dataframe thead th {\n",
       "        text-align: right;\n",
       "    }\n",
       "</style>\n",
       "<table border=\"1\" class=\"dataframe\">\n",
       "  <thead>\n",
       "    <tr style=\"text-align: right;\">\n",
       "      <th></th>\n",
       "      <th>features</th>\n",
       "      <th>VIF Factor</th>\n",
       "    </tr>\n",
       "  </thead>\n",
       "  <tbody>\n",
       "    <tr>\n",
       "      <th>0</th>\n",
       "      <td>Intercept</td>\n",
       "      <td>28360.07</td>\n",
       "    </tr>\n",
       "    <tr>\n",
       "      <th>1</th>\n",
       "      <td>cons_price_idx</td>\n",
       "      <td>1.40</td>\n",
       "    </tr>\n",
       "    <tr>\n",
       "      <th>2</th>\n",
       "      <td>nr_employed</td>\n",
       "      <td>1.77</td>\n",
       "    </tr>\n",
       "    <tr>\n",
       "      <th>3</th>\n",
       "      <td>duration</td>\n",
       "      <td>1.00</td>\n",
       "    </tr>\n",
       "    <tr>\n",
       "      <th>4</th>\n",
       "      <td>previous_savings</td>\n",
       "      <td>1.35</td>\n",
       "    </tr>\n",
       "  </tbody>\n",
       "</table>\n",
       "</div>"
      ],
      "text/plain": [
       "           features  VIF Factor\n",
       "0         Intercept    28360.07\n",
       "1    cons_price_idx        1.40\n",
       "2       nr_employed        1.77\n",
       "3          duration        1.00\n",
       "4  previous_savings        1.35"
      ]
     },
     "execution_count": 39,
     "metadata": {},
     "output_type": "execute_result"
    }
   ],
   "source": [
    "# Based on the VIF factor, selected features are :\n",
    "features = ['cons_price_idx', 'nr_employed', 'duration', 'previous_savings']\n",
    "vif_fun(bankcalls, features)"
   ]
  },
  {
   "cell_type": "markdown",
   "id": "d4006404",
   "metadata": {
    "ExecuteTime": {
     "end_time": "2022-09-02T20:36:51.605520Z",
     "start_time": "2022-09-02T20:36:51.589458Z"
    }
   },
   "source": [
    "All the features have VIF < 4. Hence, we can proceed with the model building process."
   ]
  },
  {
   "cell_type": "markdown",
   "id": "be50a1ba",
   "metadata": {
    "ExecuteTime": {
     "end_time": "2022-08-28T19:09:44.664544Z",
     "start_time": "2022-08-28T19:09:44.651518Z"
    }
   },
   "source": [
    "### Building the actual model"
   ]
  },
  {
   "cell_type": "code",
   "execution_count": 40,
   "id": "a1a48e51",
   "metadata": {
    "ExecuteTime": {
     "end_time": "2022-09-02T21:22:33.586374Z",
     "start_time": "2022-09-02T21:22:33.572021Z"
    }
   },
   "outputs": [
    {
     "data": {
      "text/plain": [
       "['cons_price_idx', 'nr_employed', 'duration', 'previous_savings']"
      ]
     },
     "execution_count": 40,
     "metadata": {},
     "output_type": "execute_result"
    }
   ],
   "source": [
    "features"
   ]
  },
  {
   "cell_type": "code",
   "execution_count": 41,
   "id": "298cc611",
   "metadata": {
    "ExecuteTime": {
     "end_time": "2022-09-02T21:22:33.679609Z",
     "start_time": "2022-09-02T21:22:33.587883Z"
    }
   },
   "outputs": [
    {
     "name": "stdout",
     "output_type": "stream",
     "text": [
      "Optimization terminated successfully.\n",
      "         Current function value: 0.223640\n",
      "         Iterations 8\n",
      "                          Results: Logit\n",
      "==================================================================\n",
      "Model:               Logit            Pseudo R-squared: 0.365     \n",
      "Dependent Variable:  output           AIC:              12472.1418\n",
      "Date:                2022-09-03 02:52 BIC:              12513.3169\n",
      "No. Observations:    27862            Log-Likelihood:   -6231.1   \n",
      "Df Model:            4                LL-Null:          -9812.8   \n",
      "Df Residuals:        27857            LLR p-value:      0.0000    \n",
      "Converged:           1.0000           Scale:            1.0000    \n",
      "No. Iterations:      8.0000                                       \n",
      "------------------------------------------------------------------\n",
      "                  Coef.  Std.Err.    z     P>|z|   [0.025  0.975] \n",
      "------------------------------------------------------------------\n",
      "Intercept        97.2830   3.7608  25.8676 0.0000 89.9120 104.6541\n",
      "cons_price_idx   -0.2319   0.0390  -5.9474 0.0000 -0.3083  -0.1555\n",
      "nr_employed      -0.0155   0.0004 -42.6322 0.0000 -0.0162  -0.0148\n",
      "duration          0.0050   0.0001  56.1112 0.0000  0.0048   0.0052\n",
      "previous_savings  0.2405   0.0428   5.6175 0.0000  0.1566   0.3244\n",
      "==================================================================\n",
      "\n"
     ]
    }
   ],
   "source": [
    "model_eq = 'output ~ ' + ' + '.join(features)\n",
    "m2 = smf.logit(model_eq, data=train).fit()\n",
    "print(m2.summary2())"
   ]
  },
  {
   "cell_type": "markdown",
   "id": "d5804183",
   "metadata": {},
   "source": [
    "We can see that all the Variables are significant as `P>|z| < 0.05`."
   ]
  },
  {
   "cell_type": "markdown",
   "id": "f4158d92",
   "metadata": {},
   "source": [
    "## Predicting the values "
   ]
  },
  {
   "cell_type": "code",
   "execution_count": 42,
   "id": "9b73b73b",
   "metadata": {
    "ExecuteTime": {
     "end_time": "2022-09-02T21:22:33.695257Z",
     "start_time": "2022-09-02T21:22:33.680790Z"
    }
   },
   "outputs": [],
   "source": [
    "# Predicting the values on training and testing\n",
    "train_predict = m2.predict(train)\n",
    "test_predict = m2.predict(test)"
   ]
  },
  {
   "cell_type": "code",
   "execution_count": 43,
   "id": "4d8c98a9",
   "metadata": {
    "ExecuteTime": {
     "end_time": "2022-09-02T21:22:33.710488Z",
     "start_time": "2022-09-02T21:22:33.696718Z"
    }
   },
   "outputs": [
    {
     "data": {
      "text/plain": [
       "25670   0.03\n",
       "15664   0.01\n",
       "15733   0.35\n",
       "2028    0.05\n",
       "37412   0.33\n",
       "dtype: float64"
      ]
     },
     "execution_count": 43,
     "metadata": {},
     "output_type": "execute_result"
    }
   ],
   "source": [
    "train_predict.head(5)"
   ]
  },
  {
   "cell_type": "markdown",
   "id": "e9853ad7",
   "metadata": {},
   "source": [
    "## Model Scoring"
   ]
  },
  {
   "cell_type": "code",
   "execution_count": 44,
   "id": "242e4858",
   "metadata": {
    "ExecuteTime": {
     "end_time": "2022-09-02T21:22:33.726348Z",
     "start_time": "2022-09-02T21:22:33.712160Z"
    }
   },
   "outputs": [],
   "source": [
    "# Combining the y actual and y predicted\n",
    "train_data = pd.concat([train.output, train_predict], axis=1)\n",
    "test_data = pd.concat([test.output, test_predict], axis=1)\n",
    "\n",
    "train_data.columns = ['y_actual', 'y_pred_proba']\n",
    "test_data.columns = ['y_actual', 'y_pred_proba']"
   ]
  },
  {
   "cell_type": "code",
   "execution_count": 45,
   "id": "dd1d838f",
   "metadata": {
    "ExecuteTime": {
     "end_time": "2022-09-02T21:22:33.757321Z",
     "start_time": "2022-09-02T21:22:33.727353Z"
    }
   },
   "outputs": [
    {
     "name": "stdout",
     "output_type": "stream",
     "text": [
      "Train: 0.9149187195900261 | Test:  0.9149726839947352\n"
     ]
    }
   ],
   "source": [
    "# roc_auc_score\n",
    "concordance_train = roc_auc_score(train_data.y_actual, train_data.y_pred_proba)\n",
    "concordance_test = roc_auc_score(test_data.y_actual, test_data.y_pred_proba)\n",
    "\n",
    "print('Train:', concordance_train, '| Test: ', concordance_test)"
   ]
  },
  {
   "cell_type": "markdown",
   "id": "d7c9b941",
   "metadata": {
    "ExecuteTime": {
     "end_time": "2022-08-28T19:53:16.655199Z",
     "start_time": "2022-08-28T19:53:16.643189Z"
    }
   },
   "source": [
    "### Finding the model accuracy at cutoff 0.5"
   ]
  },
  {
   "cell_type": "code",
   "execution_count": 46,
   "id": "c2181ea8",
   "metadata": {
    "ExecuteTime": {
     "end_time": "2022-09-02T21:22:33.772937Z",
     "start_time": "2022-09-02T21:22:33.758324Z"
    }
   },
   "outputs": [],
   "source": [
    "train_data['y_pred'] = np.where(train_data.y_pred_proba >= 0.5, 1, 0)"
   ]
  },
  {
   "cell_type": "markdown",
   "id": "2afa718b",
   "metadata": {},
   "source": [
    "#### Confusion Matrix"
   ]
  },
  {
   "cell_type": "code",
   "execution_count": 47,
   "id": "a694c29f",
   "metadata": {
    "ExecuteTime": {
     "end_time": "2022-09-02T21:22:33.788435Z",
     "start_time": "2022-09-02T21:22:33.773937Z"
    }
   },
   "outputs": [
    {
     "data": {
      "text/html": [
       "<div>\n",
       "<style scoped>\n",
       "    .dataframe tbody tr th:only-of-type {\n",
       "        vertical-align: middle;\n",
       "    }\n",
       "\n",
       "    .dataframe tbody tr th {\n",
       "        vertical-align: top;\n",
       "    }\n",
       "\n",
       "    .dataframe thead th {\n",
       "        text-align: right;\n",
       "    }\n",
       "</style>\n",
       "<table border=\"1\" class=\"dataframe\">\n",
       "  <thead>\n",
       "    <tr style=\"text-align: right;\">\n",
       "      <th>y_pred</th>\n",
       "      <th>1</th>\n",
       "      <th>0</th>\n",
       "    </tr>\n",
       "    <tr>\n",
       "      <th>y_actual</th>\n",
       "      <th></th>\n",
       "      <th></th>\n",
       "    </tr>\n",
       "  </thead>\n",
       "  <tbody>\n",
       "    <tr>\n",
       "      <th>1</th>\n",
       "      <td>1084</td>\n",
       "      <td>2057</td>\n",
       "    </tr>\n",
       "    <tr>\n",
       "      <th>0</th>\n",
       "      <td>643</td>\n",
       "      <td>24078</td>\n",
       "    </tr>\n",
       "  </tbody>\n",
       "</table>\n",
       "</div>"
      ],
      "text/plain": [
       "y_pred       1      0\n",
       "y_actual             \n",
       "1         1084   2057\n",
       "0          643  24078"
      ]
     },
     "execution_count": 47,
     "metadata": {},
     "output_type": "execute_result"
    }
   ],
   "source": [
    "# confusion matrix (using crosstab)\n",
    "pd.crosstab(train_data.y_actual, train_data.y_pred).loc[::-1, ::-1]"
   ]
  },
  {
   "cell_type": "code",
   "execution_count": 48,
   "id": "c2299d40",
   "metadata": {
    "ExecuteTime": {
     "end_time": "2022-09-02T21:22:33.804350Z",
     "start_time": "2022-09-02T21:22:33.789181Z"
    }
   },
   "outputs": [
    {
     "name": "stdout",
     "output_type": "stream",
     "text": [
      "[[ 1084  2057]\n",
      " [  643 24078]]\n",
      "accuracy:  0.9030938195391572 | tpr:  0.34511302133078636 | fpr:  0.02601027466526435\n"
     ]
    }
   ],
   "source": [
    "# confusion matrix (using sklearn.metrics)\n",
    "cm_p50 = confusion_matrix(train_data.y_actual, train_data.y_pred)[::-1, ::-1]\n",
    "\n",
    "tp = cm_p50[0, 0]\n",
    "tn = cm_p50[1, 1]\n",
    "fp = cm_p50[1, 0]\n",
    "fn = cm_p50[0, 1]\n",
    "\n",
    "accuracy = (tp + tn) / cm_p50.sum()\n",
    "tpr = tp / (tp + fn)\n",
    "fpr = fp / (fp + tn)\n",
    "\n",
    "print(cm_p50)\n",
    "print('accuracy: ', accuracy, '| tpr: ', tpr, '| fpr: ', fpr)"
   ]
  },
  {
   "cell_type": "markdown",
   "id": "689ce42c",
   "metadata": {},
   "source": [
    "#### Classification Report"
   ]
  },
  {
   "cell_type": "code",
   "execution_count": 49,
   "id": "f3e49e32",
   "metadata": {
    "ExecuteTime": {
     "end_time": "2022-09-02T21:22:33.835438Z",
     "start_time": "2022-09-02T21:22:33.805349Z"
    }
   },
   "outputs": [
    {
     "name": "stdout",
     "output_type": "stream",
     "text": [
      "              precision    recall  f1-score   support\n",
      "\n",
      "           0       0.92      0.97      0.95     24721\n",
      "           1       0.63      0.35      0.45      3141\n",
      "\n",
      "    accuracy                           0.90     27862\n",
      "   macro avg       0.77      0.66      0.70     27862\n",
      "weighted avg       0.89      0.90      0.89     27862\n",
      "\n"
     ]
    }
   ],
   "source": [
    "print(classification_report(train_data.y_actual, train_data.y_pred))"
   ]
  },
  {
   "cell_type": "markdown",
   "id": "50ce0948",
   "metadata": {},
   "source": [
    "### Getting the best Cut-offs \n",
    "Based on :\n",
    "1. Accuracy, \n",
    "2. [ Sensitivity + Specificity ]"
   ]
  },
  {
   "cell_type": "code",
   "execution_count": 50,
   "id": "159965b1",
   "metadata": {
    "ExecuteTime": {
     "end_time": "2022-09-02T21:22:34.471725Z",
     "start_time": "2022-09-02T21:22:33.836708Z"
    },
    "scrolled": false
   },
   "outputs": [
    {
     "data": {
      "image/png": "[encoded data removed]",
      "text/plain": [
       "<Figure size 972x360 with 3 Axes>"
      ]
     },
     "metadata": {},
     "output_type": "display_data"
    }
   ],
   "source": [
    "# Empty dataframe to store the information\n",
    "cm_scores = pd.DataFrame()\n",
    "\n",
    "# Loop for different probability values\n",
    "for prob_val in np.arange(0, 1.01, 0.01):\n",
    "\n",
    "    # Getting the y_pred\n",
    "    train_data['y_pred'] = np.where(train_data.y_pred_proba >= prob_val, 1, 0)\n",
    "\n",
    "    # Getting the confusion matrix\n",
    "    cm = confusion_matrix(train_data.y_actual, train_data.y_pred)[::-1, ::-1]\n",
    "\n",
    "    # Getting the metric values\n",
    "    tp = cm[0, 0]\n",
    "    tn = cm[1, 1]\n",
    "    fp = cm[1, 0]\n",
    "    fn = cm[0, 1]\n",
    "\n",
    "    accuracy = (tp + tn) / cm.sum()\n",
    "    tpr = tp / (tp + fn)\n",
    "    fpr = fp / (fp + tn)\n",
    "    s_s = tpr + 1 - fpr\n",
    "\n",
    "    # Storing the data in temp dataframe\n",
    "    temp_df = pd.DataFrame([prob_val, tp, tn, fp, fn, accuracy, tpr, fpr,\n",
    "                            s_s]).T\n",
    "\n",
    "    # Adding the data to final dataframe\n",
    "    cm_scores = pd.concat([cm_scores, temp_df], axis=0)\n",
    "\n",
    "# Adding the column names\n",
    "cm_scores.columns = [\n",
    "    'prob_val', 'tp', 'tn', 'fp', 'fn', 'accuracy', 'tpr', 'fpr', 's_s'\n",
    "]\n",
    "\n",
    "# Creating Heatmap\n",
    "class_names = [0, 1]\n",
    "fig, axs = plt.subplots(1, 3, figsize=(13.5, 5))\n",
    "plt.subplots_adjust(wspace=0, hspace=0)\n",
    "tick_marks = np.arange(len(class_names))\n",
    "plt.xticks(tick_marks, class_names)\n",
    "plt.yticks(tick_marks, class_names)\n",
    "best_cutoff = {}\n",
    "j = 0\n",
    "for i in ['random', 'accuracy', 's_s']:\n",
    "    if i == 'random':\n",
    "        best_cutoff[i] = 0.5\n",
    "        cm_best_df = pd.DataFrame(cm_p50, index=[1, 0], columns=[1, 0])\n",
    "        acc_ = cm_scores[cm_scores.prob_val == 0.5].accuracy[0]\n",
    "        s_s_ = cm_scores[cm_scores.prob_val == 0.5].s_s[0]\n",
    "    else:\n",
    "        # Getting the best cutoff\n",
    "        cm_scores_ = cm_scores.sort_values(by=[i, 'fn'],\n",
    "                                           ascending=[False, True]).head(1)\n",
    "        best_cutoff[i] = cm_scores_.loc[:, 'prob_val'][0]\n",
    "        cm_best = cm_scores_.loc[:, ['tp', 'tn', 'fp', 'fn']]\n",
    "        pd.options.display.float_format = '{:.0f}'.format\n",
    "        cm_best_df = pd.DataFrame(np.array(\n",
    "            [[cm_best.loc[0][0], cm_best.loc[0][3]],\n",
    "             [cm_best.loc[0][2], cm_best.loc[0][1]]]),\n",
    "            index=[1, 0],\n",
    "            columns=[1, 0])\n",
    "        acc_ = cm_scores_.accuracy[0]\n",
    "        s_s_ = cm_scores_.s_s[0]\n",
    "\n",
    "    # Plotting the Heat-map\n",
    "    sns.heatmap(cm_best_df,\n",
    "                annot=True,\n",
    "                cmap=\"YlGnBu\",\n",
    "                fmt='g',\n",
    "                ax=axs[j],\n",
    "                cbar=False,\n",
    "                square=True)\n",
    "    axs[j].xaxis.tick_top()\n",
    "    axs[j].xaxis.set_label_position(\"top\")\n",
    "    if i == 'random':\n",
    "        axs[j].set_title(\n",
    "            f'Confusion Matrix \\n Cut-off : {best_cutoff[i]} \\n Accuracy : {acc_:.2f} \\n TPR + 1 - FPR : {s_s_:.2f}',\n",
    "            y=-0.35,\n",
    "            fontsize=13)\n",
    "    else:\n",
    "        axs[j].set_title(\n",
    "            f'Confusion Matrix for best {i.upper()} \\n Cut-off : {best_cutoff[i]} \\n Accuracy : {acc_:.2f} \\n TPR + 1 - FPR : {s_s_:.2f}',\n",
    "            y=-0.35,\n",
    "            fontsize=13)\n",
    "    axs[j].set_ylabel('Actual Output', fontsize=14, fontweight='bold')\n",
    "    axs[j].set_xlabel('Predicted Output', fontsize=14, fontweight='bold')\n",
    "    j += 1\n",
    "fig.tight_layout()\n",
    "plt.show()"
   ]
  },
  {
   "cell_type": "markdown",
   "id": "e8dfc384",
   "metadata": {},
   "source": [
    "As per the business problem our target is to decrease the FN count to get maximum of the customers who are willing to subscribe to the bank Scheme and also need to decrease FP to control the campaign costs for the bank.Now, if the Bank is willing to invest more in campaigns, then we need to choose the cut off with **max `s_s` [Sensitivity + Specificity = TPR + 1 - FPR]**, otherwise we can proceed with the cut off with **max `accuracy`**.\n",
    "\n",
    "Here, the cut off with **max `accuracy`** is chosen."
   ]
  },
  {
   "cell_type": "code",
   "execution_count": 51,
   "id": "6bb580f9",
   "metadata": {
    "ExecuteTime": {
     "end_time": "2022-09-02T21:22:34.486904Z",
     "start_time": "2022-09-02T21:22:34.472817Z"
    }
   },
   "outputs": [
    {
     "data": {
      "text/plain": [
       "0.43"
      ]
     },
     "execution_count": 51,
     "metadata": {},
     "output_type": "execute_result"
    }
   ],
   "source": [
    "cutoff_chosen = best_cutoff['accuracy']\n",
    "#cutoff_chosen = best_cutoff['s_s']\n",
    "cutoff_chosen"
   ]
  },
  {
   "cell_type": "markdown",
   "id": "c7b2496f",
   "metadata": {},
   "source": [
    "### Final predictions at best cutoff"
   ]
  },
  {
   "cell_type": "code",
   "execution_count": 52,
   "id": "00a7ce98",
   "metadata": {
    "ExecuteTime": {
     "end_time": "2022-09-02T21:22:34.502238Z",
     "start_time": "2022-09-02T21:22:34.488094Z"
    }
   },
   "outputs": [],
   "source": [
    "train_data['y_pred'] = np.where(train_data.y_pred_proba >= cutoff_chosen, 1, 0)\n",
    "test_data['y_pred'] = np.where(test_data.y_pred_proba >= cutoff_chosen, 1, 0)"
   ]
  },
  {
   "cell_type": "markdown",
   "id": "a98c7ff8",
   "metadata": {
    "ExecuteTime": {
     "end_time": "2022-08-28T20:08:13.065249Z",
     "start_time": "2022-08-28T20:08:13.058427Z"
    }
   },
   "source": [
    "### Classification report at best cutoff"
   ]
  },
  {
   "cell_type": "code",
   "execution_count": 53,
   "id": "4c0d1e3a",
   "metadata": {
    "ExecuteTime": {
     "end_time": "2022-09-02T21:22:34.547451Z",
     "start_time": "2022-09-02T21:22:34.503274Z"
    }
   },
   "outputs": [
    {
     "name": "stdout",
     "output_type": "stream",
     "text": [
      "TRAIN DATA\n",
      "              precision    recall  f1-score   support\n",
      "\n",
      "           0       0.93      0.97      0.95     24721\n",
      "           1       0.62      0.42      0.50      3141\n",
      "\n",
      "    accuracy                           0.91     27862\n",
      "   macro avg       0.77      0.69      0.72     27862\n",
      "weighted avg       0.89      0.91      0.90     27862\n",
      "\n",
      "-----------------------------------------------------\n",
      "TEST DATA\n",
      "              precision    recall  f1-score   support\n",
      "\n",
      "           0       0.93      0.97      0.95     10595\n",
      "           1       0.63      0.43      0.51      1346\n",
      "\n",
      "    accuracy                           0.91     11941\n",
      "   macro avg       0.78      0.70      0.73     11941\n",
      "weighted avg       0.90      0.91      0.90     11941\n",
      "\n"
     ]
    }
   ],
   "source": [
    "print('TRAIN DATA')\n",
    "print(classification_report(train_data.y_actual, train_data.y_pred))\n",
    "print('-----------------------------------------------------')\n",
    "print('TEST DATA')\n",
    "print(classification_report(test_data.y_actual, test_data.y_pred))"
   ]
  },
  {
   "cell_type": "markdown",
   "id": "b6ec93ea",
   "metadata": {},
   "source": [
    "### Model Performance in Test data"
   ]
  },
  {
   "cell_type": "code",
   "execution_count": 54,
   "id": "7af06fb9",
   "metadata": {
    "ExecuteTime": {
     "end_time": "2022-09-02T21:22:34.562618Z",
     "start_time": "2022-09-02T21:22:34.548548Z"
    }
   },
   "outputs": [
    {
     "name": "stdout",
     "output_type": "stream",
     "text": [
      "Train Accuracy: 0.9054267461058072\n",
      "Test Accuracy: 0.9067079809061218\n",
      "Test Precision: 0.6263616557734205\n",
      "Test Recall: 0.42719167904903416\n"
     ]
    }
   ],
   "source": [
    "print(\"Train Accuracy:\", accuracy_score(train_data.y_actual, train_data.y_pred))\n",
    "print(\"Test Accuracy:\", accuracy_score(test_data.y_actual, test_data.y_pred))\n",
    "print(\"Test Precision:\", precision_score(test_data.y_actual, test_data.y_pred))\n",
    "print(\"Test Recall:\", recall_score(test_data.y_actual, test_data.y_pred))"
   ]
  },
  {
   "cell_type": "markdown",
   "id": "15f69d16",
   "metadata": {},
   "source": [
    "<p style=\"background-color:SeaGreen; color:White; text-align: center; font-size:16px; font-family:Monospace\"><b>\n",
    "##########################################################<br>\n",
    "## Train Accuracy = Test Accuracy. The model is stable. ##<br>\n",
    "##########################################################\n",
    "</p>\n"
   ]
  },
  {
   "cell_type": "markdown",
   "id": "71f4a4fd",
   "metadata": {},
   "source": [
    "### Plotting the ROC Curve "
   ]
  },
  {
   "cell_type": "code",
   "execution_count": 55,
   "id": "8d6d4a43",
   "metadata": {
    "ExecuteTime": {
     "end_time": "2022-09-02T21:22:34.672476Z",
     "start_time": "2022-09-02T21:22:34.563624Z"
    }
   },
   "outputs": [
    {
     "data": {
      "image/png": "[encoded data removed]",
      "text/plain": [
       "<Figure size 576x432 with 1 Axes>"
      ]
     },
     "metadata": {},
     "output_type": "display_data"
    }
   ],
   "source": [
    "plt.figure(figsize=(8, 6))\n",
    "r_auc = [0 for i in range(len(test_data.y_actual))]\n",
    "r_fpr, r_tpr, _ = roc_curve(test_data.y_actual, r_auc)\n",
    "r_auc = roc_auc_score(test_data.y_actual, r_auc)\n",
    "plt.plot(r_fpr,\n",
    "         r_tpr,\n",
    "         linestyle=\"--\",\n",
    "         label=\"Random Prediction (AUROC = %0.3f)\" % r_auc)\n",
    "\n",
    "fpr, tpr, _ = roc_curve(test_data.y_actual, test_data.y_pred_proba)\n",
    "auc = roc_auc_score(test_data.y_actual, test_data.y_pred_proba)\n",
    "plt.plot(fpr, tpr, label=\"Logistic Regression, (AUROC = %0.3f)\" % auc)\n",
    "\n",
    "plt.legend(loc=4)\n",
    "plt.xlabel('False Positive Rate')\n",
    "plt.ylabel('True Positive Rate')\n",
    "plt.title('ROC Curve')\n",
    "plt.show()"
   ]
  },
  {
   "cell_type": "markdown",
   "id": "faca18b0",
   "metadata": {},
   "source": [
    "## Decile Analysis"
   ]
  },
  {
   "cell_type": "markdown",
   "id": "232bfee3",
   "metadata": {
    "ExecuteTime": {
     "end_time": "2022-08-28T20:23:35.981880Z",
     "start_time": "2022-08-28T20:23:35.970441Z"
    }
   },
   "source": [
    "**Decile Range : [0 - 9]**\n",
    "- Top-5 deciles - Low gain customers - will not open Savings Scheme\n",
    "- 5th to 8th deciles - Medium gain customers - will open Savings Scheme with proper scrutiny\n",
    "- 9th decile only - High gain customers - will open Savings Scheme"
   ]
  },
  {
   "cell_type": "code",
   "execution_count": 56,
   "id": "6e3b34c8",
   "metadata": {
    "ExecuteTime": {
     "end_time": "2022-09-02T21:22:34.687463Z",
     "start_time": "2022-09-02T21:22:34.673485Z"
    }
   },
   "outputs": [],
   "source": [
    "# Decile analysis for validation of models - Business validation\n",
    "train_data['Deciles'] = pd.qcut(train_data.y_pred_proba, 10, labels=False)\n",
    "test_data['Deciles'] = pd.qcut(test_data.y_pred_proba, 10, labels=False)"
   ]
  },
  {
   "cell_type": "markdown",
   "id": "4bd132ac",
   "metadata": {},
   "source": [
    "### Decile Analysis for train data"
   ]
  },
  {
   "cell_type": "code",
   "execution_count": 57,
   "id": "d16c3bf3",
   "metadata": {
    "ExecuteTime": {
     "end_time": "2022-09-02T21:22:34.718467Z",
     "start_time": "2022-09-02T21:22:34.688483Z"
    }
   },
   "outputs": [
    {
     "data": {
      "text/html": [
       "<div>\n",
       "<style scoped>\n",
       "    .dataframe tbody tr th:only-of-type {\n",
       "        vertical-align: middle;\n",
       "    }\n",
       "\n",
       "    .dataframe tbody tr th {\n",
       "        vertical-align: top;\n",
       "    }\n",
       "\n",
       "    .dataframe thead tr th {\n",
       "        text-align: left;\n",
       "    }\n",
       "</style>\n",
       "<table border=\"1\" class=\"dataframe\">\n",
       "  <thead>\n",
       "    <tr>\n",
       "      <th></th>\n",
       "      <th>Deciles</th>\n",
       "      <th colspan=\"2\" halign=\"left\">y_pred_proba</th>\n",
       "      <th colspan=\"2\" halign=\"left\">y_actual</th>\n",
       "    </tr>\n",
       "    <tr>\n",
       "      <th></th>\n",
       "      <th></th>\n",
       "      <th>min</th>\n",
       "      <th>max</th>\n",
       "      <th>sum</th>\n",
       "      <th>count</th>\n",
       "    </tr>\n",
       "  </thead>\n",
       "  <tbody>\n",
       "    <tr>\n",
       "      <th>9</th>\n",
       "      <td>9</td>\n",
       "      <td>0</td>\n",
       "      <td>1</td>\n",
       "      <td>1634</td>\n",
       "      <td>2787</td>\n",
       "    </tr>\n",
       "    <tr>\n",
       "      <th>8</th>\n",
       "      <td>8</td>\n",
       "      <td>0</td>\n",
       "      <td>0</td>\n",
       "      <td>799</td>\n",
       "      <td>2786</td>\n",
       "    </tr>\n",
       "    <tr>\n",
       "      <th>7</th>\n",
       "      <td>7</td>\n",
       "      <td>0</td>\n",
       "      <td>0</td>\n",
       "      <td>405</td>\n",
       "      <td>2779</td>\n",
       "    </tr>\n",
       "    <tr>\n",
       "      <th>6</th>\n",
       "      <td>6</td>\n",
       "      <td>0</td>\n",
       "      <td>0</td>\n",
       "      <td>188</td>\n",
       "      <td>2783</td>\n",
       "    </tr>\n",
       "    <tr>\n",
       "      <th>5</th>\n",
       "      <td>5</td>\n",
       "      <td>0</td>\n",
       "      <td>0</td>\n",
       "      <td>73</td>\n",
       "      <td>2795</td>\n",
       "    </tr>\n",
       "    <tr>\n",
       "      <th>4</th>\n",
       "      <td>4</td>\n",
       "      <td>0</td>\n",
       "      <td>0</td>\n",
       "      <td>20</td>\n",
       "      <td>2785</td>\n",
       "    </tr>\n",
       "    <tr>\n",
       "      <th>3</th>\n",
       "      <td>3</td>\n",
       "      <td>0</td>\n",
       "      <td>0</td>\n",
       "      <td>15</td>\n",
       "      <td>2784</td>\n",
       "    </tr>\n",
       "    <tr>\n",
       "      <th>2</th>\n",
       "      <td>2</td>\n",
       "      <td>0</td>\n",
       "      <td>0</td>\n",
       "      <td>6</td>\n",
       "      <td>2780</td>\n",
       "    </tr>\n",
       "    <tr>\n",
       "      <th>1</th>\n",
       "      <td>1</td>\n",
       "      <td>0</td>\n",
       "      <td>0</td>\n",
       "      <td>1</td>\n",
       "      <td>2788</td>\n",
       "    </tr>\n",
       "    <tr>\n",
       "      <th>0</th>\n",
       "      <td>0</td>\n",
       "      <td>0</td>\n",
       "      <td>0</td>\n",
       "      <td>0</td>\n",
       "      <td>2795</td>\n",
       "    </tr>\n",
       "  </tbody>\n",
       "</table>\n",
       "</div>"
      ],
      "text/plain": [
       "  Deciles y_pred_proba     y_actual      \n",
       "                   min max      sum count\n",
       "9       9            0   1     1634  2787\n",
       "8       8            0   0      799  2786\n",
       "7       7            0   0      405  2779\n",
       "6       6            0   0      188  2783\n",
       "5       5            0   0       73  2795\n",
       "4       4            0   0       20  2785\n",
       "3       3            0   0       15  2784\n",
       "2       2            0   0        6  2780\n",
       "1       1            0   0        1  2788\n",
       "0       0            0   0        0  2795"
      ]
     },
     "execution_count": 57,
     "metadata": {},
     "output_type": "execute_result"
    }
   ],
   "source": [
    "train_deciles = train_data.groupby('Deciles')[[\n",
    "    'y_pred_proba', 'y_actual'\n",
    "]].agg({\n",
    "    'y_pred_proba': ['min', 'max'],\n",
    "    'y_actual': ['sum', 'count']\n",
    "}).reset_index().sort_values(by='Deciles', ascending=False)\n",
    "train_deciles"
   ]
  },
  {
   "cell_type": "code",
   "execution_count": 58,
   "id": "b9ae103c",
   "metadata": {
    "ExecuteTime": {
     "end_time": "2022-09-02T21:22:34.843365Z",
     "start_time": "2022-09-02T21:22:34.720594Z"
    }
   },
   "outputs": [
    {
     "data": {
      "image/png": "[encoded data removed]",
      "text/plain": [
       "<Figure size 576x360 with 1 Axes>"
      ]
     },
     "metadata": {},
     "output_type": "display_data"
    }
   ],
   "source": [
    "plt.figure(figsize=(8, 5))\n",
    "sns.scatterplot(train_data.Deciles, train_data.y_pred_proba);"
   ]
  },
  {
   "cell_type": "markdown",
   "id": "6316871b",
   "metadata": {},
   "source": [
    "### Decile Analysis for test data"
   ]
  },
  {
   "cell_type": "code",
   "execution_count": 59,
   "id": "0bb1c1d5",
   "metadata": {
    "ExecuteTime": {
     "end_time": "2022-09-02T21:22:34.858678Z",
     "start_time": "2022-09-02T21:22:34.845568Z"
    }
   },
   "outputs": [
    {
     "data": {
      "text/html": [
       "<div>\n",
       "<style scoped>\n",
       "    .dataframe tbody tr th:only-of-type {\n",
       "        vertical-align: middle;\n",
       "    }\n",
       "\n",
       "    .dataframe tbody tr th {\n",
       "        vertical-align: top;\n",
       "    }\n",
       "\n",
       "    .dataframe thead tr th {\n",
       "        text-align: left;\n",
       "    }\n",
       "</style>\n",
       "<table border=\"1\" class=\"dataframe\">\n",
       "  <thead>\n",
       "    <tr>\n",
       "      <th></th>\n",
       "      <th>Deciles</th>\n",
       "      <th colspan=\"2\" halign=\"left\">y_pred_proba</th>\n",
       "      <th colspan=\"2\" halign=\"left\">y_actual</th>\n",
       "    </tr>\n",
       "    <tr>\n",
       "      <th></th>\n",
       "      <th></th>\n",
       "      <th>min</th>\n",
       "      <th>max</th>\n",
       "      <th>sum</th>\n",
       "      <th>count</th>\n",
       "    </tr>\n",
       "  </thead>\n",
       "  <tbody>\n",
       "    <tr>\n",
       "      <th>9</th>\n",
       "      <td>9</td>\n",
       "      <td>0</td>\n",
       "      <td>1</td>\n",
       "      <td>713</td>\n",
       "      <td>1194</td>\n",
       "    </tr>\n",
       "    <tr>\n",
       "      <th>8</th>\n",
       "      <td>8</td>\n",
       "      <td>0</td>\n",
       "      <td>0</td>\n",
       "      <td>325</td>\n",
       "      <td>1194</td>\n",
       "    </tr>\n",
       "    <tr>\n",
       "      <th>7</th>\n",
       "      <td>7</td>\n",
       "      <td>0</td>\n",
       "      <td>0</td>\n",
       "      <td>171</td>\n",
       "      <td>1194</td>\n",
       "    </tr>\n",
       "    <tr>\n",
       "      <th>6</th>\n",
       "      <td>6</td>\n",
       "      <td>0</td>\n",
       "      <td>0</td>\n",
       "      <td>89</td>\n",
       "      <td>1192</td>\n",
       "    </tr>\n",
       "    <tr>\n",
       "      <th>5</th>\n",
       "      <td>5</td>\n",
       "      <td>0</td>\n",
       "      <td>0</td>\n",
       "      <td>27</td>\n",
       "      <td>1191</td>\n",
       "    </tr>\n",
       "    <tr>\n",
       "      <th>4</th>\n",
       "      <td>4</td>\n",
       "      <td>0</td>\n",
       "      <td>0</td>\n",
       "      <td>14</td>\n",
       "      <td>1199</td>\n",
       "    </tr>\n",
       "    <tr>\n",
       "      <th>3</th>\n",
       "      <td>3</td>\n",
       "      <td>0</td>\n",
       "      <td>0</td>\n",
       "      <td>7</td>\n",
       "      <td>1194</td>\n",
       "    </tr>\n",
       "    <tr>\n",
       "      <th>2</th>\n",
       "      <td>2</td>\n",
       "      <td>0</td>\n",
       "      <td>0</td>\n",
       "      <td>0</td>\n",
       "      <td>1193</td>\n",
       "    </tr>\n",
       "    <tr>\n",
       "      <th>1</th>\n",
       "      <td>1</td>\n",
       "      <td>0</td>\n",
       "      <td>0</td>\n",
       "      <td>0</td>\n",
       "      <td>1193</td>\n",
       "    </tr>\n",
       "    <tr>\n",
       "      <th>0</th>\n",
       "      <td>0</td>\n",
       "      <td>0</td>\n",
       "      <td>0</td>\n",
       "      <td>0</td>\n",
       "      <td>1197</td>\n",
       "    </tr>\n",
       "  </tbody>\n",
       "</table>\n",
       "</div>"
      ],
      "text/plain": [
       "  Deciles y_pred_proba     y_actual      \n",
       "                   min max      sum count\n",
       "9       9            0   1      713  1194\n",
       "8       8            0   0      325  1194\n",
       "7       7            0   0      171  1194\n",
       "6       6            0   0       89  1192\n",
       "5       5            0   0       27  1191\n",
       "4       4            0   0       14  1199\n",
       "3       3            0   0        7  1194\n",
       "2       2            0   0        0  1193\n",
       "1       1            0   0        0  1193\n",
       "0       0            0   0        0  1197"
      ]
     },
     "execution_count": 59,
     "metadata": {},
     "output_type": "execute_result"
    }
   ],
   "source": [
    "test_deciles = test_data.groupby('Deciles')[['y_pred_proba', 'y_actual']].agg({\n",
    "    'y_pred_proba': ['min', 'max'],\n",
    "    'y_actual': ['sum', 'count']\n",
    "}).reset_index().sort_values(by='Deciles', ascending=False)\n",
    "test_deciles"
   ]
  },
  {
   "cell_type": "code",
   "execution_count": 60,
   "id": "900f4632",
   "metadata": {
    "ExecuteTime": {
     "end_time": "2022-09-02T21:22:34.965606Z",
     "start_time": "2022-09-02T21:22:34.859737Z"
    }
   },
   "outputs": [
    {
     "data": {
      "image/png": "[encoded data removed]",
      "text/plain": [
       "<Figure size 576x360 with 1 Axes>"
      ]
     },
     "metadata": {},
     "output_type": "display_data"
    }
   ],
   "source": [
    "plt.figure(figsize=(8, 5))\n",
    "sns.scatterplot(test_data.Deciles, test_data.y_pred_proba);"
   ]
  },
  {
   "cell_type": "markdown",
   "id": "76c80fae",
   "metadata": {},
   "source": [
    "### Histogram of predicted probabilities"
   ]
  },
  {
   "cell_type": "code",
   "execution_count": 61,
   "id": "de778ace",
   "metadata": {
    "ExecuteTime": {
     "end_time": "2022-09-02T21:22:35.120735Z",
     "start_time": "2022-09-02T21:22:34.966693Z"
    }
   },
   "outputs": [
    {
     "data": {
      "image/png": "[encoded data removed]",
      "text/plain": [
       "<Figure size 864x288 with 2 Axes>"
      ]
     },
     "metadata": {},
     "output_type": "display_data"
    }
   ],
   "source": [
    "params = {'figure.figsize': (12, 4), 'axes.labelsize': 12}\n",
    "plt.rcParams.update(params)\n",
    "fig, axs = plt.subplots(1, 2, sharey=True)\n",
    "plt.subplots_adjust(wspace=0.02, hspace=0)\n",
    "# Train\n",
    "axs[0].hist(train_data.y_pred_proba, bins=5)\n",
    "axs[0].set_title('Train Data', fontdict={'fontsize': 15, 'fontweight': 'bold'})\n",
    "axs[0].set_ylabel('Frequency')\n",
    "axs[0].set_xlabel('Predicted probability of Scheme Subscription')\n",
    "axs[0].text(0.85,\n",
    "            0.9,\n",
    "            str(train.shape[0]),\n",
    "            horizontalalignment='center',\n",
    "            verticalalignment='center',\n",
    "            transform=axs[0].transAxes,\n",
    "            fontsize=16,\n",
    "            fontweight='bold',\n",
    "            color='b')\n",
    "# Test\n",
    "axs[1].hist(test_data.y_pred_proba, bins=5)\n",
    "axs[1].set_title('Test Data', fontdict={'fontsize': 15, 'fontweight': 'bold'})\n",
    "axs[1].set_xlabel('Predicted probability of Scheme Subscription')\n",
    "axs[1].text(0.85,\n",
    "            0.9,\n",
    "            str(test.shape[0]),\n",
    "            horizontalalignment='center',\n",
    "            verticalalignment='center',\n",
    "            transform=axs[1].transAxes,\n",
    "            fontsize=16,\n",
    "            fontweight='bold',\n",
    "            color='b')\n",
    "plt.show()"
   ]
  },
  {
   "cell_type": "markdown",
   "id": "dee84db5",
   "metadata": {},
   "source": [
    "### Checking the Ratios of Output variables in Total, Train, Test"
   ]
  },
  {
   "cell_type": "code",
   "execution_count": 62,
   "id": "9e1ee9b0",
   "metadata": {
    "ExecuteTime": {
     "end_time": "2022-09-02T21:22:35.136792Z",
     "start_time": "2022-09-02T21:22:35.121744Z"
    }
   },
   "outputs": [
    {
     "data": {
      "text/html": [
       "<div>\n",
       "<style scoped>\n",
       "    .dataframe tbody tr th:only-of-type {\n",
       "        vertical-align: middle;\n",
       "    }\n",
       "\n",
       "    .dataframe tbody tr th {\n",
       "        vertical-align: top;\n",
       "    }\n",
       "\n",
       "    .dataframe thead th {\n",
       "        text-align: right;\n",
       "    }\n",
       "</style>\n",
       "<table border=\"1\" class=\"dataframe\">\n",
       "  <thead>\n",
       "    <tr style=\"text-align: right;\">\n",
       "      <th></th>\n",
       "      <th>0</th>\n",
       "      <th>1</th>\n",
       "    </tr>\n",
       "  </thead>\n",
       "  <tbody>\n",
       "    <tr>\n",
       "      <th>Total Dataset</th>\n",
       "      <td>0.8873</td>\n",
       "      <td>0.1127</td>\n",
       "    </tr>\n",
       "    <tr>\n",
       "      <th>Train</th>\n",
       "      <td>0.8873</td>\n",
       "      <td>0.1127</td>\n",
       "    </tr>\n",
       "    <tr>\n",
       "      <th>Test</th>\n",
       "      <td>0.8873</td>\n",
       "      <td>0.1127</td>\n",
       "    </tr>\n",
       "  </tbody>\n",
       "</table>\n",
       "</div>"
      ],
      "text/plain": [
       "                   0      1\n",
       "Total Dataset 0.8873 0.1127\n",
       "Train         0.8873 0.1127\n",
       "Test          0.8873 0.1127"
      ]
     },
     "execution_count": 62,
     "metadata": {},
     "output_type": "execute_result"
    }
   ],
   "source": [
    "pd.options.display.float_format = '{:.4f}'.format\n",
    "pd.DataFrame([\n",
    "    bankcalls.output.value_counts() / bankcalls.output.notna().sum(),\n",
    "    train_data.y_actual.value_counts() / train_data.y_actual.notna().sum(),\n",
    "    test_data.y_actual.value_counts() / test_data.y_actual.notna().sum()\n",
    "],\n",
    "             index=['Total Dataset', 'Train', 'Test'])"
   ]
  },
  {
   "cell_type": "markdown",
   "id": "3311ced8",
   "metadata": {},
   "source": [
    "Although the output variable is split in a stratified manner in both Train and Test, the real Problem with the dataset is that the dataset is unbalanced with 89% data with Output 0 and 11% with Output 1. Hence, the model is better trained to predict which customers will not consider taking the Scheme."
   ]
  },
  {
   "cell_type": "markdown",
   "id": "f46c262a",
   "metadata": {
    "ExecuteTime": {
     "end_time": "2022-08-28T22:27:46.396831Z",
     "start_time": "2022-08-28T22:27:46.379226Z"
    }
   },
   "source": [
    "## Significant Features"
   ]
  },
  {
   "cell_type": "markdown",
   "id": "99196d82",
   "metadata": {},
   "source": [
    "### By ROC_AUC_SCORE"
   ]
  },
  {
   "cell_type": "code",
   "execution_count": 63,
   "id": "96b6a3de",
   "metadata": {
    "ExecuteTime": {
     "end_time": "2022-09-02T21:22:35.151767Z",
     "start_time": "2022-09-02T21:22:35.138416Z"
    },
    "scrolled": true
   },
   "outputs": [
    {
     "data": {
      "text/html": [
       "<div>\n",
       "<style scoped>\n",
       "    .dataframe tbody tr th:only-of-type {\n",
       "        vertical-align: middle;\n",
       "    }\n",
       "\n",
       "    .dataframe tbody tr th {\n",
       "        vertical-align: top;\n",
       "    }\n",
       "\n",
       "    .dataframe thead th {\n",
       "        text-align: right;\n",
       "    }\n",
       "</style>\n",
       "<table border=\"1\" class=\"dataframe\">\n",
       "  <thead>\n",
       "    <tr style=\"text-align: right;\">\n",
       "      <th></th>\n",
       "      <th>Feature</th>\n",
       "      <th>ROC_AUC_SCORE</th>\n",
       "      <th>SomersD</th>\n",
       "    </tr>\n",
       "  </thead>\n",
       "  <tbody>\n",
       "    <tr>\n",
       "      <th>0</th>\n",
       "      <td>duration</td>\n",
       "      <td>0.8185</td>\n",
       "      <td>0.6371</td>\n",
       "    </tr>\n",
       "    <tr>\n",
       "      <th>1</th>\n",
       "      <td>nr_employed</td>\n",
       "      <td>0.7480</td>\n",
       "      <td>0.4961</td>\n",
       "    </tr>\n",
       "    <tr>\n",
       "      <th>2</th>\n",
       "      <td>cons_price_idx</td>\n",
       "      <td>0.6120</td>\n",
       "      <td>0.2240</td>\n",
       "    </tr>\n",
       "    <tr>\n",
       "      <th>3</th>\n",
       "      <td>previous_savings</td>\n",
       "      <td>0.6075</td>\n",
       "      <td>0.2150</td>\n",
       "    </tr>\n",
       "  </tbody>\n",
       "</table>\n",
       "</div>"
      ],
      "text/plain": [
       "            Feature ROC_AUC_SCORE SomersD\n",
       "0          duration        0.8185  0.6371\n",
       "1       nr_employed        0.7480  0.4961\n",
       "2    cons_price_idx        0.6120  0.2240\n",
       "3  previous_savings        0.6075  0.2150"
      ]
     },
     "execution_count": 63,
     "metadata": {},
     "output_type": "execute_result"
    }
   ],
   "source": [
    "df[df.Feature.isin(features)].sort_values(by='ROC_AUC_SCORE', ascending = False).reset_index(drop=True)"
   ]
  },
  {
   "cell_type": "markdown",
   "id": "2165c706",
   "metadata": {},
   "source": [
    "### Calculating Odds Ratios"
   ]
  },
  {
   "cell_type": "code",
   "execution_count": 64,
   "id": "80e80f16",
   "metadata": {
    "ExecuteTime": {
     "end_time": "2022-09-02T21:22:35.166715Z",
     "start_time": "2022-09-02T21:22:35.153595Z"
    }
   },
   "outputs": [
    {
     "name": "stdout",
     "output_type": "stream",
     "text": [
      "                    Odds Ratio      Lower CI      Upper CI\n",
      "Intercept         1.776172e+42  1.117601e+39  2.822822e+45\n",
      "cons_price_idx    7.930571e-01  7.347171e-01  8.560296e-01\n",
      "nr_employed       9.846364e-01  9.839358e-01  9.853375e-01\n",
      "duration          1.005014e+00  1.004838e+00  1.005189e+00\n",
      "previous_savings  1.271842e+00  1.169489e+00  1.383152e+00\n"
     ]
    }
   ],
   "source": [
    "odds_ratios = pd.DataFrame({\n",
    "    \"Odds Ratio\": m2.params,\n",
    "    \"Lower CI\": m2.conf_int()[0],\n",
    "    \"Upper CI\": m2.conf_int()[1],\n",
    "})\n",
    "odds_ratios = np.exp(odds_ratios)\n",
    "pd.reset_option('^display.', silent=True)\n",
    "print(odds_ratios)"
   ]
  },
  {
   "cell_type": "markdown",
   "id": "f9924626",
   "metadata": {},
   "source": [
    "### By p-values for z-scores"
   ]
  },
  {
   "cell_type": "code",
   "execution_count": 65,
   "id": "ad92bf64",
   "metadata": {
    "ExecuteTime": {
     "end_time": "2022-09-02T21:22:35.274834Z",
     "start_time": "2022-09-02T21:22:35.168158Z"
    }
   },
   "outputs": [
    {
     "name": "stdout",
     "output_type": "stream",
     "text": [
      "4\n"
     ]
    },
    {
     "data": {
      "text/html": [
       "<div>\n",
       "<style scoped>\n",
       "    .dataframe tbody tr th:only-of-type {\n",
       "        vertical-align: middle;\n",
       "    }\n",
       "\n",
       "    .dataframe tbody tr th {\n",
       "        vertical-align: top;\n",
       "    }\n",
       "\n",
       "    .dataframe thead th {\n",
       "        text-align: right;\n",
       "    }\n",
       "</style>\n",
       "<table border=\"1\" class=\"dataframe\">\n",
       "  <thead>\n",
       "    <tr style=\"text-align: right;\">\n",
       "      <th></th>\n",
       "      <th>coef</th>\n",
       "      <th>std err</th>\n",
       "      <th>z</th>\n",
       "      <th>P&gt;|z|</th>\n",
       "      <th>[0.025</th>\n",
       "      <th>0.975]</th>\n",
       "    </tr>\n",
       "  </thead>\n",
       "  <tbody>\n",
       "    <tr>\n",
       "      <th>Intercept</th>\n",
       "      <td>97.28300</td>\n",
       "      <td>3.76100</td>\n",
       "      <td>25.86800</td>\n",
       "      <td>0.00000</td>\n",
       "      <td>89.91200</td>\n",
       "      <td>104.65400</td>\n",
       "    </tr>\n",
       "    <tr>\n",
       "      <th>previous_savings</th>\n",
       "      <td>0.24050</td>\n",
       "      <td>0.04300</td>\n",
       "      <td>5.61800</td>\n",
       "      <td>0.00000</td>\n",
       "      <td>0.15700</td>\n",
       "      <td>0.32400</td>\n",
       "    </tr>\n",
       "    <tr>\n",
       "      <th>duration</th>\n",
       "      <td>0.00500</td>\n",
       "      <td>0.00009</td>\n",
       "      <td>56.11100</td>\n",
       "      <td>0.00000</td>\n",
       "      <td>0.00500</td>\n",
       "      <td>0.00500</td>\n",
       "    </tr>\n",
       "    <tr>\n",
       "      <th>nr_employed</th>\n",
       "      <td>-0.01550</td>\n",
       "      <td>0.00000</td>\n",
       "      <td>-42.63200</td>\n",
       "      <td>0.00000</td>\n",
       "      <td>-0.01600</td>\n",
       "      <td>-0.01500</td>\n",
       "    </tr>\n",
       "    <tr>\n",
       "      <th>cons_price_idx</th>\n",
       "      <td>-0.23190</td>\n",
       "      <td>0.03900</td>\n",
       "      <td>-5.94700</td>\n",
       "      <td>0.00000</td>\n",
       "      <td>-0.30800</td>\n",
       "      <td>-0.15500</td>\n",
       "    </tr>\n",
       "  </tbody>\n",
       "</table>\n",
       "</div>"
      ],
      "text/plain": [
       "                     coef  std err         z   P>|z|   [0.025    0.975]\n",
       "Intercept        97.28300  3.76100  25.86800 0.00000 89.91200 104.65400\n",
       "previous_savings  0.24050  0.04300   5.61800 0.00000  0.15700   0.32400\n",
       "duration          0.00500  0.00009  56.11100 0.00000  0.00500   0.00500\n",
       "nr_employed      -0.01550  0.00000 -42.63200 0.00000 -0.01600  -0.01500\n",
       "cons_price_idx   -0.23190  0.03900  -5.94700 0.00000 -0.30800  -0.15500"
      ]
     },
     "execution_count": 65,
     "metadata": {},
     "output_type": "execute_result"
    }
   ],
   "source": [
    "pd.options.display.float_format = '{:.5f}'.format\n",
    "results_as_html = m2.summary().tables[1].as_html()\n",
    "ms = (pd.read_html(results_as_html, header=0,\n",
    "                   index_col=0)[0]).sort_values(by='P>|z|')\n",
    "ms_significant = ms[(ms['P>|z|'] < 0.05) | (ms.index == 'Intercept')]\n",
    "print(ms_significant.shape[0]-1)\n",
    "ms_significant.sort_values(by='coef', ascending=False)"
   ]
  },
  {
   "cell_type": "code",
   "execution_count": 66,
   "id": "9e3f9960",
   "metadata": {
    "ExecuteTime": {
     "end_time": "2022-09-02T21:22:35.290120Z",
     "start_time": "2022-09-02T21:22:35.276333Z"
    }
   },
   "outputs": [
    {
     "data": {
      "text/plain": [
       "97.283"
      ]
     },
     "execution_count": 66,
     "metadata": {},
     "output_type": "execute_result"
    }
   ],
   "source": [
    "# Intercept Value\n",
    "ms_significant.T.Intercept[0]"
   ]
  },
  {
   "cell_type": "markdown",
   "id": "894a62d0",
   "metadata": {},
   "source": [
    "### Final Comments"
   ]
  },
  {
   "cell_type": "markdown",
   "id": "50b656d1",
   "metadata": {},
   "source": [
    "> <p style=\"color:Blue; font-size:16px;\"><b>MODEL DETAILS</b></p>\n",
    "\n",
    ">Logistic Regression : \n",
    "`statsmodels.formula.api.logit` <br>\n",
    "CUT-OFF : 0.43 (BEST Accuracy) <br>\n",
    "TRAIN ACCURACY : 0.91 <br>\n",
    "TEST ACCURACY : 0.91 <br>\n",
    "TEST PRECISION : 0.63 <br>\n",
    "TEST RECALL : 0.43 <br>\n",
    "TEST F1-SCORE : 0.51\n",
    "<br>\n",
    "\n",
    "> <p style=\"color:Red; font-size:16px;\"><b>SIGNIFICANT VARIABLES</b></p>\n",
    "\n",
    "> So, while campaigning for new Savings Scheme the bank may focus on : \n",
    "> 1. **previous_savings** : number of contacts performed before this campaign and for this client (numeric)\n",
    "> 2. **cons_price_idx** : consumer price index. monthly indicator (numeric)\n",
    "> 3. **nr_employed** : number of employees. quarterly indicator (numeric)\n",
    "> 4. **duration** : last contact duration, in seconds (numeric)\n"
   ]
  },
  {
   "cell_type": "code",
   "execution_count": null,
   "id": "e09a24f0",
   "metadata": {},
   "outputs": [],
   "source": []
  }
 ],
 "metadata": {
  "kernelspec": {
   "display_name": "Python 3 (ipykernel)",
   "language": "python",
   "name": "python3"
  },
  "language_info": {
   "codemirror_mode": {
    "name": "ipython",
    "version": 3
   },
   "file_extension": ".py",
   "mimetype": "text/x-python",
   "name": "python",
   "nbconvert_exporter": "python",
   "pygments_lexer": "ipython3",
   "version": "3.9.12"
  },
  "latex_envs": {
   "LaTeX_envs_menu_present": true,
   "autoclose": false,
   "autocomplete": true,
   "bibliofile": "biblio.bib",
   "cite_by": "apalike",
   "current_citInitial": 1,
   "eqLabelWithNumbers": true,
   "eqNumInitial": 1,
   "hotkeys": {
    "equation": "Ctrl-E",
    "itemize": "Ctrl-I"
   },
   "labels_anchors": false,
   "latex_user_defs": false,
   "report_style_numbering": false,
   "user_envs_cfg": false
  },
  "toc": {
   "base_numbering": 1,
   "nav_menu": {},
   "number_sections": true,
   "sideBar": true,
   "skip_h1_title": false,
   "title_cell": "Table of Contents",
   "title_sidebar": "Contents",
   "toc_cell": false,
   "toc_position": {
    "height": "calc(100% - 180px)",
    "left": "10px",
    "top": "150px",
    "width": "469.167px"
   },
   "toc_section_display": true,
   "toc_window_display": true
  },
  "varInspector": {
   "cols": {
    "lenName": 16,
    "lenType": 16,
    "lenVar": 40
   },
   "kernels_config": {
    "python": {
     "delete_cmd_postfix": "",
     "delete_cmd_prefix": "del ",
     "library": "var_list.py",
     "varRefreshCmd": "print(var_dic_list())"
    },
    "r": {
     "delete_cmd_postfix": ") ",
     "delete_cmd_prefix": "rm(",
     "library": "var_list.r",
     "varRefreshCmd": "cat(var_dic_list()) "
    }
   },
   "position": {
    "height": "728.85px",
    "left": "1550px",
    "right": "20px",
    "top": "120px",
    "width": "350px"
   },
   "types_to_exclude": [
    "module",
    "function",
    "builtin_function_or_method",
    "instance",
    "_Feature"
   ],
   "window_display": false
  }
 },
 "nbformat": 4,
 "nbformat_minor": 5
}
