{
 "cells": [
  {
   "cell_type": "raw",
   "id": "10a4817d",
   "metadata": {
    "ExecuteTime": {
     "end_time": "2022-08-27T13:31:00.084553Z",
     "start_time": "2022-08-27T13:31:00.074487Z"
    }
   },
   "source": [
    "'''\n",
    "This Notebook file is for creating a Logistic regression model to find\n",
    "out the features responsible for a Bank customer subscribing to a Savings Scheme.\n",
    "'''"
   ]
  },
  {
   "cell_type": "markdown",
   "id": "deeedcc6",
   "metadata": {},
   "source": [
    "## Importing the packages"
   ]
  },
  {
   "cell_type": "code",
   "execution_count": 1,
   "id": "c20dfad4",
   "metadata": {
    "ExecuteTime": {
     "end_time": "2022-08-30T09:59:54.340140Z",
     "start_time": "2022-08-30T09:59:52.229066Z"
    }
   },
   "outputs": [],
   "source": [
    "import warnings\n",
    "import pandas as pd\n",
    "import numpy as np\n",
    "import seaborn as sns\n",
    "import matplotlib.pyplot as plt\n",
    "%matplotlib inline\n",
    "sns.set(style='ticks', font_scale=1.25)\n",
    "\n",
    "warnings.filterwarnings('ignore')"
   ]
  },
  {
   "cell_type": "code",
   "execution_count": 2,
   "id": "69e4b328",
   "metadata": {
    "ExecuteTime": {
     "end_time": "2022-08-30T09:59:54.678865Z",
     "start_time": "2022-08-30T09:59:54.342521Z"
    }
   },
   "outputs": [],
   "source": [
    "from patsy import dmatrices\n",
    "from statsmodels.stats.outliers_influence import variance_inflation_factor\n",
    "import scipy.stats as stats\n",
    "import statsmodels.formula.api as smf\n",
    "from sklearn.model_selection import train_test_split\n",
    "#from sklearn.feature_selection import RFE\n",
    "#from sklearn.linear_model import LogisticRegression\n",
    "from sklearn.metrics import roc_auc_score, confusion_matrix, roc_curve, \\\n",
    "    classification_report, accuracy_score, precision_score, recall_score"
   ]
  },
  {
   "cell_type": "markdown",
   "id": "ccb99186",
   "metadata": {
    "ExecuteTime": {
     "end_time": "2022-08-28T13:00:03.294492Z",
     "start_time": "2022-08-28T13:00:03.288438Z"
    }
   },
   "source": [
    "## Importing Data"
   ]
  },
  {
   "cell_type": "code",
   "execution_count": 3,
   "id": "c1b3c01f",
   "metadata": {
    "ExecuteTime": {
     "end_time": "2022-08-30T09:59:59.360727Z",
     "start_time": "2022-08-30T09:59:54.679407Z"
    }
   },
   "outputs": [],
   "source": [
    "bankcalls = pd.read_excel('./BankCalls.xlsx')"
   ]
  },
  {
   "cell_type": "markdown",
   "id": "64e0fb28",
   "metadata": {},
   "source": [
    "## UDFs"
   ]
  },
  {
   "cell_type": "code",
   "execution_count": 4,
   "id": "017e6222",
   "metadata": {
    "ExecuteTime": {
     "end_time": "2022-08-30T09:59:59.376698Z",
     "start_time": "2022-08-30T09:59:59.360899Z"
    }
   },
   "outputs": [],
   "source": [
    "def conti_var_summary(x):\n",
    "\n",
    "    # freq and missings\n",
    "    n_total = x.shape[0]\n",
    "    n_miss = x.isna().sum()\n",
    "    perc_miss = n_miss * 100 / n_total\n",
    "\n",
    "    # outliers - iqr\n",
    "    q1 = x.quantile(0.25)\n",
    "    q3 = x.quantile(0.75)\n",
    "    iqr = q3 - q1\n",
    "    lc_iqr = q1 - 1.5 * iqr\n",
    "    uc_iqr = q3 + 1.5 * iqr\n",
    "\n",
    "    return pd.Series([\n",
    "        x.dtype,\n",
    "        x.nunique(), n_total,\n",
    "        x.count(), n_miss, perc_miss,\n",
    "        x.sum(),\n",
    "        x.mean(),\n",
    "        x.std(),\n",
    "        x.var(), lc_iqr, uc_iqr,\n",
    "        x.min(),\n",
    "        x.quantile(0.01),\n",
    "        x.quantile(0.05),\n",
    "        x.quantile(0.10),\n",
    "        x.quantile(0.25),\n",
    "        x.quantile(0.5),\n",
    "        x.quantile(0.75),\n",
    "        x.quantile(0.90),\n",
    "        x.quantile(0.95),\n",
    "        x.quantile(0.99),\n",
    "        x.max()\n",
    "    ],\n",
    "                     index=[\n",
    "                         'dtype', 'cardinality', 'n_tot', 'n', 'nmiss',\n",
    "                         'perc_miss', 'sum', 'mean', 'std', 'var', 'lc_iqr',\n",
    "                         'uc_iqr', 'min', 'p1', 'p5', 'p10', 'p25', 'p50',\n",
    "                         'p75', 'p90', 'p95', 'p99', 'max'\n",
    "                     ])"
   ]
  },
  {
   "cell_type": "code",
   "execution_count": 5,
   "id": "d5424d1a",
   "metadata": {
    "ExecuteTime": {
     "end_time": "2022-08-30T09:59:59.393448Z",
     "start_time": "2022-08-30T09:59:59.377694Z"
    }
   },
   "outputs": [],
   "source": [
    "def cat_var_summary(x):\n",
    "    Mode = x.value_counts().sort_values(ascending=False)[0:1].reset_index()\n",
    "    return pd.Series([\n",
    "        x.count(),\n",
    "        x.isnull().sum(), Mode.iloc[0, 0], Mode.iloc[0, 1],\n",
    "        round(Mode.iloc[0, 1] * 100 / x.count(), 2)\n",
    "    ],\n",
    "                     index=['N', 'NMISS', 'MODE', 'FREQ', 'PERCENT'])"
   ]
  },
  {
   "cell_type": "code",
   "execution_count": 6,
   "id": "7399d5c9",
   "metadata": {
    "ExecuteTime": {
     "end_time": "2022-08-30T09:59:59.425484Z",
     "start_time": "2022-08-30T09:59:59.394190Z"
    }
   },
   "outputs": [
    {
     "data": {
      "text/plain": [
       "age                   0\n",
       "job                   0\n",
       "marital               0\n",
       "housing               0\n",
       "loan                  0\n",
       "month                 0\n",
       "duration              0\n",
       "campaign attending    0\n",
       "Customer since        0\n",
       "previous Savings      0\n",
       "emp_var_rate          0\n",
       "cons_price_idx        0\n",
       "nr_employed           0\n",
       "Output                0\n",
       "dtype: int64"
      ]
     },
     "execution_count": 6,
     "metadata": {},
     "output_type": "execute_result"
    }
   ],
   "source": [
    "bankcalls.isnull().sum()"
   ]
  },
  {
   "cell_type": "markdown",
   "id": "9a78e4fa",
   "metadata": {
    "ExecuteTime": {
     "end_time": "2022-08-28T13:09:59.045641Z",
     "start_time": "2022-08-28T13:09:59.039589Z"
    }
   },
   "source": [
    "## Data Inspection"
   ]
  },
  {
   "cell_type": "code",
   "execution_count": 7,
   "id": "9e7135e9",
   "metadata": {
    "ExecuteTime": {
     "end_time": "2022-08-30T09:59:59.441167Z",
     "start_time": "2022-08-30T09:59:59.425484Z"
    }
   },
   "outputs": [
    {
     "data": {
      "text/plain": [
       "Index(['age', 'job', 'marital', 'housing', 'loan', 'month', 'duration',\n",
       "       'campaign attending', 'Customer since ', 'previous Savings',\n",
       "       'emp_var_rate', 'cons_price_idx', 'nr_employed', 'Output'],\n",
       "      dtype='object')"
      ]
     },
     "execution_count": 7,
     "metadata": {},
     "output_type": "execute_result"
    }
   ],
   "source": [
    "bankcalls.columns"
   ]
  },
  {
   "cell_type": "markdown",
   "id": "9b36c9ec",
   "metadata": {},
   "source": [
    "### Fixing the Column Names"
   ]
  },
  {
   "cell_type": "code",
   "execution_count": 8,
   "id": "a1ca907c",
   "metadata": {
    "ExecuteTime": {
     "end_time": "2022-08-30T09:59:59.457616Z",
     "start_time": "2022-08-30T09:59:59.441856Z"
    },
    "scrolled": false
   },
   "outputs": [],
   "source": [
    "bankcalls.rename(columns=lambda x: x.lower().strip().replace(\" \", \"_\"),\n",
    "                 inplace=True)"
   ]
  },
  {
   "cell_type": "code",
   "execution_count": 9,
   "id": "fccfca61",
   "metadata": {
    "ExecuteTime": {
     "end_time": "2022-08-30T09:59:59.477080Z",
     "start_time": "2022-08-30T09:59:59.457616Z"
    }
   },
   "outputs": [
    {
     "data": {
      "text/plain": [
       "Index(['age', 'job', 'marital', 'housing', 'loan', 'month', 'duration',\n",
       "       'campaign_attending', 'customer_since', 'previous_savings',\n",
       "       'emp_var_rate', 'cons_price_idx', 'nr_employed', 'output'],\n",
       "      dtype='object')"
      ]
     },
     "execution_count": 9,
     "metadata": {},
     "output_type": "execute_result"
    }
   ],
   "source": [
    "bankcalls.columns"
   ]
  },
  {
   "cell_type": "markdown",
   "id": "411e01bc",
   "metadata": {},
   "source": [
    "### Checking the metadata"
   ]
  },
  {
   "cell_type": "code",
   "execution_count": 10,
   "id": "7dbb0f02",
   "metadata": {
    "ExecuteTime": {
     "end_time": "2022-08-30T09:59:59.509201Z",
     "start_time": "2022-08-30T09:59:59.477788Z"
    }
   },
   "outputs": [
    {
     "name": "stdout",
     "output_type": "stream",
     "text": [
      "<class 'pandas.core.frame.DataFrame'>\n",
      "RangeIndex: 41188 entries, 0 to 41187\n",
      "Data columns (total 14 columns):\n",
      " #   Column              Non-Null Count  Dtype  \n",
      "---  ------              --------------  -----  \n",
      " 0   age                 41188 non-null  int64  \n",
      " 1   job                 41188 non-null  object \n",
      " 2   marital             41188 non-null  object \n",
      " 3   housing             41188 non-null  object \n",
      " 4   loan                41188 non-null  object \n",
      " 5   month               41188 non-null  object \n",
      " 6   duration            41188 non-null  int64  \n",
      " 7   campaign_attending  41188 non-null  int64  \n",
      " 8   customer_since      41188 non-null  int64  \n",
      " 9   previous_savings    41188 non-null  int64  \n",
      " 10  emp_var_rate        41188 non-null  float64\n",
      " 11  cons_price_idx      41188 non-null  float64\n",
      " 12  nr_employed         41188 non-null  float64\n",
      " 13  output              41188 non-null  int64  \n",
      "dtypes: float64(3), int64(6), object(5)\n",
      "memory usage: 4.4+ MB\n"
     ]
    }
   ],
   "source": [
    "bankcalls.info()"
   ]
  },
  {
   "cell_type": "markdown",
   "id": "8cd4a370",
   "metadata": {
    "ExecuteTime": {
     "end_time": "2022-08-29T12:31:01.487566Z",
     "start_time": "2022-08-29T12:31:01.473556Z"
    }
   },
   "source": [
    "### Attribute Information:\n",
    "Source : [UCI Machine Learning Repository](https://archive.ics.uci.edu/ml/datasets/bank+marketing)\n",
    "\n",
    "#### Input variables:\n",
    "* *Bank client data:*\n",
    "    1. **age** (numeric)\n",
    "    2. **job** : type of job (categorical: 'admin.','blue-collar','entrepreneur','housemaid','management','retired','self-employed','services','student','technician','unemployed','unknown')\n",
    "    3. **marital** : marital status (categorical: 'divorced','married','single','unknown'; note: 'divorced' means divorced or widowed)\n",
    "    4. **housing** : has housing loan? (categorical: 'no','yes','unknown')\n",
    "    5. **loan** : has personal loan? (categorical: 'no','yes','unknown')\n",
    "\n",
    "\n",
    "* *Related with the last contact of the current campaign:*\n",
    "    6. **month** : last contact month of year (categorical: 'jan', 'feb', 'mar', ..., 'nov', 'dec')\n",
    "    7. **duration** : last contact duration, in seconds (numeric). Important note: this attribute highly affects the output target (e.g., if duration=0 then y='no'). Yet, the duration is not known before a call is performed. Also, after the end of the call y is obviously known. Thus, this input should only be included for benchmark purposes and should be discarded if the intention is to have a realistic predictive model.\n",
    "\n",
    "\n",
    "* *Other attributes:*\n",
    "    8. **campaign_attending** : number of contacts performed during this campaign and for this client (numeric, includes last contact)\n",
    "    9. **customer_since** : number of days that passed by after the client was last contacted from a previous campaign (numeric; 999 means client was not previously contacted)\n",
    "    10. **previous_savings** : number of contacts performed before this campaign and for this client (numeric)\n",
    "\n",
    "\n",
    "* *Social and Economic context attributes:*\n",
    "    11. **emp_var_rate** : employment variation rate. quarterly indicator (numeric)\n",
    "    12. **cons_price_idx** : consumer price index. monthly indicator (numeric)\n",
    "    13. **nr_employed** : number of employees. quarterly indicator (numeric)\n",
    "\n",
    "#### Output variable (desired target):\n",
    "* \n",
    "    14. **output** : has the client subscribed a term deposit? (binary: 'yes'[1], 'no'[0])\n",
    "\n"
   ]
  },
  {
   "cell_type": "code",
   "execution_count": 11,
   "id": "5d9933a9",
   "metadata": {
    "ExecuteTime": {
     "end_time": "2022-08-30T09:59:59.540620Z",
     "start_time": "2022-08-30T09:59:59.509201Z"
    }
   },
   "outputs": [
    {
     "data": {
      "text/html": [
       "<div>\n",
       "<style scoped>\n",
       "    .dataframe tbody tr th:only-of-type {\n",
       "        vertical-align: middle;\n",
       "    }\n",
       "\n",
       "    .dataframe tbody tr th {\n",
       "        vertical-align: top;\n",
       "    }\n",
       "\n",
       "    .dataframe thead th {\n",
       "        text-align: right;\n",
       "    }\n",
       "</style>\n",
       "<table border=\"1\" class=\"dataframe\">\n",
       "  <thead>\n",
       "    <tr style=\"text-align: right;\">\n",
       "      <th></th>\n",
       "      <th>age</th>\n",
       "      <th>job</th>\n",
       "      <th>marital</th>\n",
       "      <th>housing</th>\n",
       "      <th>loan</th>\n",
       "      <th>month</th>\n",
       "      <th>duration</th>\n",
       "      <th>campaign_attending</th>\n",
       "      <th>customer_since</th>\n",
       "      <th>previous_savings</th>\n",
       "      <th>emp_var_rate</th>\n",
       "      <th>cons_price_idx</th>\n",
       "      <th>nr_employed</th>\n",
       "      <th>output</th>\n",
       "    </tr>\n",
       "  </thead>\n",
       "  <tbody>\n",
       "    <tr>\n",
       "      <th>0</th>\n",
       "      <td>44</td>\n",
       "      <td>blue-collar</td>\n",
       "      <td>married</td>\n",
       "      <td>yes</td>\n",
       "      <td>no</td>\n",
       "      <td>aug</td>\n",
       "      <td>210</td>\n",
       "      <td>1</td>\n",
       "      <td>999</td>\n",
       "      <td>0</td>\n",
       "      <td>1.4</td>\n",
       "      <td>93.444</td>\n",
       "      <td>5228.1</td>\n",
       "      <td>0</td>\n",
       "    </tr>\n",
       "    <tr>\n",
       "      <th>1</th>\n",
       "      <td>53</td>\n",
       "      <td>technician</td>\n",
       "      <td>married</td>\n",
       "      <td>no</td>\n",
       "      <td>no</td>\n",
       "      <td>nov</td>\n",
       "      <td>138</td>\n",
       "      <td>1</td>\n",
       "      <td>999</td>\n",
       "      <td>0</td>\n",
       "      <td>-0.1</td>\n",
       "      <td>93.200</td>\n",
       "      <td>5195.8</td>\n",
       "      <td>0</td>\n",
       "    </tr>\n",
       "    <tr>\n",
       "      <th>2</th>\n",
       "      <td>28</td>\n",
       "      <td>management</td>\n",
       "      <td>single</td>\n",
       "      <td>yes</td>\n",
       "      <td>no</td>\n",
       "      <td>jun</td>\n",
       "      <td>339</td>\n",
       "      <td>3</td>\n",
       "      <td>6</td>\n",
       "      <td>2</td>\n",
       "      <td>-1.7</td>\n",
       "      <td>94.055</td>\n",
       "      <td>4991.6</td>\n",
       "      <td>1</td>\n",
       "    </tr>\n",
       "    <tr>\n",
       "      <th>3</th>\n",
       "      <td>39</td>\n",
       "      <td>services</td>\n",
       "      <td>married</td>\n",
       "      <td>no</td>\n",
       "      <td>no</td>\n",
       "      <td>apr</td>\n",
       "      <td>185</td>\n",
       "      <td>2</td>\n",
       "      <td>999</td>\n",
       "      <td>0</td>\n",
       "      <td>-1.8</td>\n",
       "      <td>93.075</td>\n",
       "      <td>5099.1</td>\n",
       "      <td>0</td>\n",
       "    </tr>\n",
       "    <tr>\n",
       "      <th>4</th>\n",
       "      <td>55</td>\n",
       "      <td>retired</td>\n",
       "      <td>married</td>\n",
       "      <td>yes</td>\n",
       "      <td>no</td>\n",
       "      <td>aug</td>\n",
       "      <td>137</td>\n",
       "      <td>1</td>\n",
       "      <td>3</td>\n",
       "      <td>1</td>\n",
       "      <td>-2.9</td>\n",
       "      <td>92.201</td>\n",
       "      <td>5076.2</td>\n",
       "      <td>1</td>\n",
       "    </tr>\n",
       "  </tbody>\n",
       "</table>\n",
       "</div>"
      ],
      "text/plain": [
       "   age          job  marital housing loan month  duration  campaign_attending  \\\n",
       "0   44  blue-collar  married     yes   no   aug       210                   1   \n",
       "1   53   technician  married      no   no   nov       138                   1   \n",
       "2   28   management   single     yes   no   jun       339                   3   \n",
       "3   39     services  married      no   no   apr       185                   2   \n",
       "4   55      retired  married     yes   no   aug       137                   1   \n",
       "\n",
       "   customer_since  previous_savings  emp_var_rate  cons_price_idx  \\\n",
       "0             999                 0           1.4          93.444   \n",
       "1             999                 0          -0.1          93.200   \n",
       "2               6                 2          -1.7          94.055   \n",
       "3             999                 0          -1.8          93.075   \n",
       "4               3                 1          -2.9          92.201   \n",
       "\n",
       "   nr_employed  output  \n",
       "0       5228.1       0  \n",
       "1       5195.8       0  \n",
       "2       4991.6       1  \n",
       "3       5099.1       0  \n",
       "4       5076.2       1  "
      ]
     },
     "execution_count": 11,
     "metadata": {},
     "output_type": "execute_result"
    }
   ],
   "source": [
    "bankcalls.head()"
   ]
  },
  {
   "cell_type": "markdown",
   "id": "2036fe8a",
   "metadata": {},
   "source": [
    "### Distribution of the Output variable"
   ]
  },
  {
   "cell_type": "code",
   "execution_count": 12,
   "id": "cb7c4180",
   "metadata": {
    "ExecuteTime": {
     "end_time": "2022-08-30T09:59:59.556835Z",
     "start_time": "2022-08-30T09:59:59.541119Z"
    }
   },
   "outputs": [
    {
     "data": {
      "text/plain": [
       "0    0.887346\n",
       "1    0.112654\n",
       "Name: output, dtype: float64"
      ]
     },
     "execution_count": 12,
     "metadata": {},
     "output_type": "execute_result"
    }
   ],
   "source": [
    "bankcalls.output.value_counts() / bankcalls.output.notna().sum()"
   ]
  },
  {
   "cell_type": "code",
   "execution_count": 13,
   "id": "c372d993",
   "metadata": {
    "ExecuteTime": {
     "end_time": "2022-08-30T09:59:59.572587Z",
     "start_time": "2022-08-30T09:59:59.556835Z"
    }
   },
   "outputs": [
    {
     "data": {
      "text/plain": [
       "(41188, 14)"
      ]
     },
     "execution_count": 13,
     "metadata": {},
     "output_type": "execute_result"
    }
   ],
   "source": [
    "bankcalls.shape"
   ]
  },
  {
   "cell_type": "code",
   "execution_count": 14,
   "id": "e9699c3d",
   "metadata": {
    "ExecuteTime": {
     "end_time": "2022-08-30T09:59:59.651370Z",
     "start_time": "2022-08-30T09:59:59.572587Z"
    }
   },
   "outputs": [
    {
     "data": {
      "text/html": [
       "<div>\n",
       "<style scoped>\n",
       "    .dataframe tbody tr th:only-of-type {\n",
       "        vertical-align: middle;\n",
       "    }\n",
       "\n",
       "    .dataframe tbody tr th {\n",
       "        vertical-align: top;\n",
       "    }\n",
       "\n",
       "    .dataframe thead th {\n",
       "        text-align: right;\n",
       "    }\n",
       "</style>\n",
       "<table border=\"1\" class=\"dataframe\">\n",
       "  <thead>\n",
       "    <tr style=\"text-align: right;\">\n",
       "      <th></th>\n",
       "      <th>age</th>\n",
       "      <th>duration</th>\n",
       "      <th>campaign_attending</th>\n",
       "      <th>customer_since</th>\n",
       "      <th>previous_savings</th>\n",
       "      <th>emp_var_rate</th>\n",
       "      <th>cons_price_idx</th>\n",
       "      <th>nr_employed</th>\n",
       "      <th>output</th>\n",
       "    </tr>\n",
       "  </thead>\n",
       "  <tbody>\n",
       "    <tr>\n",
       "      <th>dtype</th>\n",
       "      <td>int64</td>\n",
       "      <td>int64</td>\n",
       "      <td>int64</td>\n",
       "      <td>int64</td>\n",
       "      <td>int64</td>\n",
       "      <td>float64</td>\n",
       "      <td>float64</td>\n",
       "      <td>float64</td>\n",
       "      <td>int64</td>\n",
       "    </tr>\n",
       "    <tr>\n",
       "      <th>cardinality</th>\n",
       "      <td>78</td>\n",
       "      <td>1544</td>\n",
       "      <td>42</td>\n",
       "      <td>27</td>\n",
       "      <td>8</td>\n",
       "      <td>10</td>\n",
       "      <td>26</td>\n",
       "      <td>11</td>\n",
       "      <td>2</td>\n",
       "    </tr>\n",
       "    <tr>\n",
       "      <th>n_tot</th>\n",
       "      <td>41188</td>\n",
       "      <td>41188</td>\n",
       "      <td>41188</td>\n",
       "      <td>41188</td>\n",
       "      <td>41188</td>\n",
       "      <td>41188</td>\n",
       "      <td>41188</td>\n",
       "      <td>41188</td>\n",
       "      <td>41188</td>\n",
       "    </tr>\n",
       "    <tr>\n",
       "      <th>n</th>\n",
       "      <td>41188</td>\n",
       "      <td>41188</td>\n",
       "      <td>41188</td>\n",
       "      <td>41188</td>\n",
       "      <td>41188</td>\n",
       "      <td>41188</td>\n",
       "      <td>41188</td>\n",
       "      <td>41188</td>\n",
       "      <td>41188</td>\n",
       "    </tr>\n",
       "    <tr>\n",
       "      <th>nmiss</th>\n",
       "      <td>0</td>\n",
       "      <td>0</td>\n",
       "      <td>0</td>\n",
       "      <td>0</td>\n",
       "      <td>0</td>\n",
       "      <td>0</td>\n",
       "      <td>0</td>\n",
       "      <td>0</td>\n",
       "      <td>0</td>\n",
       "    </tr>\n",
       "    <tr>\n",
       "      <th>perc_miss</th>\n",
       "      <td>0.0</td>\n",
       "      <td>0.0</td>\n",
       "      <td>0.0</td>\n",
       "      <td>0.0</td>\n",
       "      <td>0.0</td>\n",
       "      <td>0.0</td>\n",
       "      <td>0.0</td>\n",
       "      <td>0.0</td>\n",
       "      <td>0.0</td>\n",
       "    </tr>\n",
       "    <tr>\n",
       "      <th>sum</th>\n",
       "      <td>1648511</td>\n",
       "      <td>10638243</td>\n",
       "      <td>105754</td>\n",
       "      <td>39642439</td>\n",
       "      <td>7124</td>\n",
       "      <td>3372.7</td>\n",
       "      <td>3854194.464</td>\n",
       "      <td>212819875.1</td>\n",
       "      <td>4640</td>\n",
       "    </tr>\n",
       "    <tr>\n",
       "      <th>mean</th>\n",
       "      <td>40.02406</td>\n",
       "      <td>258.28501</td>\n",
       "      <td>2.567593</td>\n",
       "      <td>962.475454</td>\n",
       "      <td>0.172963</td>\n",
       "      <td>0.081886</td>\n",
       "      <td>93.575664</td>\n",
       "      <td>5167.035911</td>\n",
       "      <td>0.112654</td>\n",
       "    </tr>\n",
       "    <tr>\n",
       "      <th>std</th>\n",
       "      <td>10.42125</td>\n",
       "      <td>259.279249</td>\n",
       "      <td>2.770014</td>\n",
       "      <td>186.910907</td>\n",
       "      <td>0.494901</td>\n",
       "      <td>1.57096</td>\n",
       "      <td>0.57884</td>\n",
       "      <td>72.251528</td>\n",
       "      <td>0.316173</td>\n",
       "    </tr>\n",
       "    <tr>\n",
       "      <th>var</th>\n",
       "      <td>108.602451</td>\n",
       "      <td>67225.728877</td>\n",
       "      <td>7.672975</td>\n",
       "      <td>34935.687284</td>\n",
       "      <td>0.244927</td>\n",
       "      <td>2.467915</td>\n",
       "      <td>0.335056</td>\n",
       "      <td>5220.28325</td>\n",
       "      <td>0.099966</td>\n",
       "    </tr>\n",
       "    <tr>\n",
       "      <th>lc_iqr</th>\n",
       "      <td>9.5</td>\n",
       "      <td>-223.5</td>\n",
       "      <td>-2.0</td>\n",
       "      <td>999.0</td>\n",
       "      <td>0.0</td>\n",
       "      <td>-6.6</td>\n",
       "      <td>91.6965</td>\n",
       "      <td>4905.6</td>\n",
       "      <td>0.0</td>\n",
       "    </tr>\n",
       "    <tr>\n",
       "      <th>uc_iqr</th>\n",
       "      <td>69.5</td>\n",
       "      <td>644.5</td>\n",
       "      <td>6.0</td>\n",
       "      <td>999.0</td>\n",
       "      <td>0.0</td>\n",
       "      <td>6.2</td>\n",
       "      <td>95.3725</td>\n",
       "      <td>5421.6</td>\n",
       "      <td>0.0</td>\n",
       "    </tr>\n",
       "    <tr>\n",
       "      <th>min</th>\n",
       "      <td>17</td>\n",
       "      <td>0</td>\n",
       "      <td>1</td>\n",
       "      <td>0</td>\n",
       "      <td>0</td>\n",
       "      <td>-3.4</td>\n",
       "      <td>92.201</td>\n",
       "      <td>4963.6</td>\n",
       "      <td>0</td>\n",
       "    </tr>\n",
       "    <tr>\n",
       "      <th>p1</th>\n",
       "      <td>23.0</td>\n",
       "      <td>11.0</td>\n",
       "      <td>1.0</td>\n",
       "      <td>3.0</td>\n",
       "      <td>0.0</td>\n",
       "      <td>-3.4</td>\n",
       "      <td>92.201</td>\n",
       "      <td>4963.6</td>\n",
       "      <td>0.0</td>\n",
       "    </tr>\n",
       "    <tr>\n",
       "      <th>p5</th>\n",
       "      <td>26.0</td>\n",
       "      <td>36.0</td>\n",
       "      <td>1.0</td>\n",
       "      <td>999.0</td>\n",
       "      <td>0.0</td>\n",
       "      <td>-2.9</td>\n",
       "      <td>92.713</td>\n",
       "      <td>5017.5</td>\n",
       "      <td>0.0</td>\n",
       "    </tr>\n",
       "    <tr>\n",
       "      <th>p10</th>\n",
       "      <td>28.0</td>\n",
       "      <td>59.0</td>\n",
       "      <td>1.0</td>\n",
       "      <td>999.0</td>\n",
       "      <td>0.0</td>\n",
       "      <td>-1.8</td>\n",
       "      <td>92.893</td>\n",
       "      <td>5076.2</td>\n",
       "      <td>0.0</td>\n",
       "    </tr>\n",
       "    <tr>\n",
       "      <th>p25</th>\n",
       "      <td>32.0</td>\n",
       "      <td>102.0</td>\n",
       "      <td>1.0</td>\n",
       "      <td>999.0</td>\n",
       "      <td>0.0</td>\n",
       "      <td>-1.8</td>\n",
       "      <td>93.075</td>\n",
       "      <td>5099.1</td>\n",
       "      <td>0.0</td>\n",
       "    </tr>\n",
       "    <tr>\n",
       "      <th>p50</th>\n",
       "      <td>38.0</td>\n",
       "      <td>180.0</td>\n",
       "      <td>2.0</td>\n",
       "      <td>999.0</td>\n",
       "      <td>0.0</td>\n",
       "      <td>1.1</td>\n",
       "      <td>93.749</td>\n",
       "      <td>5191.0</td>\n",
       "      <td>0.0</td>\n",
       "    </tr>\n",
       "    <tr>\n",
       "      <th>p75</th>\n",
       "      <td>47.0</td>\n",
       "      <td>319.0</td>\n",
       "      <td>3.0</td>\n",
       "      <td>999.0</td>\n",
       "      <td>0.0</td>\n",
       "      <td>1.4</td>\n",
       "      <td>93.994</td>\n",
       "      <td>5228.1</td>\n",
       "      <td>0.0</td>\n",
       "    </tr>\n",
       "    <tr>\n",
       "      <th>p90</th>\n",
       "      <td>55.0</td>\n",
       "      <td>551.0</td>\n",
       "      <td>5.0</td>\n",
       "      <td>999.0</td>\n",
       "      <td>1.0</td>\n",
       "      <td>1.4</td>\n",
       "      <td>94.465</td>\n",
       "      <td>5228.1</td>\n",
       "      <td>1.0</td>\n",
       "    </tr>\n",
       "    <tr>\n",
       "      <th>p95</th>\n",
       "      <td>58.0</td>\n",
       "      <td>752.65</td>\n",
       "      <td>7.0</td>\n",
       "      <td>999.0</td>\n",
       "      <td>1.0</td>\n",
       "      <td>1.4</td>\n",
       "      <td>94.465</td>\n",
       "      <td>5228.1</td>\n",
       "      <td>1.0</td>\n",
       "    </tr>\n",
       "    <tr>\n",
       "      <th>p99</th>\n",
       "      <td>71.0</td>\n",
       "      <td>1271.13</td>\n",
       "      <td>14.0</td>\n",
       "      <td>999.0</td>\n",
       "      <td>2.0</td>\n",
       "      <td>1.4</td>\n",
       "      <td>94.465</td>\n",
       "      <td>5228.1</td>\n",
       "      <td>1.0</td>\n",
       "    </tr>\n",
       "    <tr>\n",
       "      <th>max</th>\n",
       "      <td>98</td>\n",
       "      <td>4918</td>\n",
       "      <td>56</td>\n",
       "      <td>999</td>\n",
       "      <td>7</td>\n",
       "      <td>1.4</td>\n",
       "      <td>94.767</td>\n",
       "      <td>5228.1</td>\n",
       "      <td>1</td>\n",
       "    </tr>\n",
       "  </tbody>\n",
       "</table>\n",
       "</div>"
      ],
      "text/plain": [
       "                    age      duration campaign_attending customer_since  \\\n",
       "dtype             int64         int64              int64          int64   \n",
       "cardinality          78          1544                 42             27   \n",
       "n_tot             41188         41188              41188          41188   \n",
       "n                 41188         41188              41188          41188   \n",
       "nmiss                 0             0                  0              0   \n",
       "perc_miss           0.0           0.0                0.0            0.0   \n",
       "sum             1648511      10638243             105754       39642439   \n",
       "mean           40.02406     258.28501           2.567593     962.475454   \n",
       "std            10.42125    259.279249           2.770014     186.910907   \n",
       "var          108.602451  67225.728877           7.672975   34935.687284   \n",
       "lc_iqr              9.5        -223.5               -2.0          999.0   \n",
       "uc_iqr             69.5         644.5                6.0          999.0   \n",
       "min                  17             0                  1              0   \n",
       "p1                 23.0          11.0                1.0            3.0   \n",
       "p5                 26.0          36.0                1.0          999.0   \n",
       "p10                28.0          59.0                1.0          999.0   \n",
       "p25                32.0         102.0                1.0          999.0   \n",
       "p50                38.0         180.0                2.0          999.0   \n",
       "p75                47.0         319.0                3.0          999.0   \n",
       "p90                55.0         551.0                5.0          999.0   \n",
       "p95                58.0        752.65                7.0          999.0   \n",
       "p99                71.0       1271.13               14.0          999.0   \n",
       "max                  98          4918                 56            999   \n",
       "\n",
       "            previous_savings emp_var_rate cons_price_idx  nr_employed  \\\n",
       "dtype                  int64      float64        float64      float64   \n",
       "cardinality                8           10             26           11   \n",
       "n_tot                  41188        41188          41188        41188   \n",
       "n                      41188        41188          41188        41188   \n",
       "nmiss                      0            0              0            0   \n",
       "perc_miss                0.0          0.0            0.0          0.0   \n",
       "sum                     7124       3372.7    3854194.464  212819875.1   \n",
       "mean                0.172963     0.081886      93.575664  5167.035911   \n",
       "std                 0.494901      1.57096        0.57884    72.251528   \n",
       "var                 0.244927     2.467915       0.335056   5220.28325   \n",
       "lc_iqr                   0.0         -6.6        91.6965       4905.6   \n",
       "uc_iqr                   0.0          6.2        95.3725       5421.6   \n",
       "min                        0         -3.4         92.201       4963.6   \n",
       "p1                       0.0         -3.4         92.201       4963.6   \n",
       "p5                       0.0         -2.9         92.713       5017.5   \n",
       "p10                      0.0         -1.8         92.893       5076.2   \n",
       "p25                      0.0         -1.8         93.075       5099.1   \n",
       "p50                      0.0          1.1         93.749       5191.0   \n",
       "p75                      0.0          1.4         93.994       5228.1   \n",
       "p90                      1.0          1.4         94.465       5228.1   \n",
       "p95                      1.0          1.4         94.465       5228.1   \n",
       "p99                      2.0          1.4         94.465       5228.1   \n",
       "max                        7          1.4         94.767       5228.1   \n",
       "\n",
       "               output  \n",
       "dtype           int64  \n",
       "cardinality         2  \n",
       "n_tot           41188  \n",
       "n               41188  \n",
       "nmiss               0  \n",
       "perc_miss         0.0  \n",
       "sum              4640  \n",
       "mean         0.112654  \n",
       "std          0.316173  \n",
       "var          0.099966  \n",
       "lc_iqr            0.0  \n",
       "uc_iqr            0.0  \n",
       "min                 0  \n",
       "p1                0.0  \n",
       "p5                0.0  \n",
       "p10               0.0  \n",
       "p25               0.0  \n",
       "p50               0.0  \n",
       "p75               0.0  \n",
       "p90               1.0  \n",
       "p95               1.0  \n",
       "p99               1.0  \n",
       "max                 1  "
      ]
     },
     "execution_count": 14,
     "metadata": {},
     "output_type": "execute_result"
    }
   ],
   "source": [
    "# EDA for all the variables\n",
    "bankcalls.select_dtypes(['int64', 'float64']).apply(conti_var_summary)"
   ]
  },
  {
   "cell_type": "code",
   "execution_count": 15,
   "id": "60467245",
   "metadata": {
    "ExecuteTime": {
     "end_time": "2022-08-30T09:59:59.683258Z",
     "start_time": "2022-08-30T09:59:59.651774Z"
    }
   },
   "outputs": [
    {
     "data": {
      "text/html": [
       "<div>\n",
       "<style scoped>\n",
       "    .dataframe tbody tr th:only-of-type {\n",
       "        vertical-align: middle;\n",
       "    }\n",
       "\n",
       "    .dataframe tbody tr th {\n",
       "        vertical-align: top;\n",
       "    }\n",
       "\n",
       "    .dataframe thead th {\n",
       "        text-align: right;\n",
       "    }\n",
       "</style>\n",
       "<table border=\"1\" class=\"dataframe\">\n",
       "  <thead>\n",
       "    <tr style=\"text-align: right;\">\n",
       "      <th></th>\n",
       "      <th>job</th>\n",
       "      <th>marital</th>\n",
       "      <th>housing</th>\n",
       "      <th>loan</th>\n",
       "      <th>month</th>\n",
       "    </tr>\n",
       "  </thead>\n",
       "  <tbody>\n",
       "    <tr>\n",
       "      <th>N</th>\n",
       "      <td>41188</td>\n",
       "      <td>41188</td>\n",
       "      <td>41188</td>\n",
       "      <td>41188</td>\n",
       "      <td>41188</td>\n",
       "    </tr>\n",
       "    <tr>\n",
       "      <th>NMISS</th>\n",
       "      <td>0</td>\n",
       "      <td>0</td>\n",
       "      <td>0</td>\n",
       "      <td>0</td>\n",
       "      <td>0</td>\n",
       "    </tr>\n",
       "    <tr>\n",
       "      <th>MODE</th>\n",
       "      <td>admin.</td>\n",
       "      <td>married</td>\n",
       "      <td>yes</td>\n",
       "      <td>no</td>\n",
       "      <td>may</td>\n",
       "    </tr>\n",
       "    <tr>\n",
       "      <th>FREQ</th>\n",
       "      <td>10422</td>\n",
       "      <td>24928</td>\n",
       "      <td>21576</td>\n",
       "      <td>33950</td>\n",
       "      <td>13769</td>\n",
       "    </tr>\n",
       "    <tr>\n",
       "      <th>PERCENT</th>\n",
       "      <td>25.3</td>\n",
       "      <td>60.52</td>\n",
       "      <td>52.38</td>\n",
       "      <td>82.43</td>\n",
       "      <td>33.43</td>\n",
       "    </tr>\n",
       "  </tbody>\n",
       "</table>\n",
       "</div>"
      ],
      "text/plain": [
       "            job  marital housing   loan  month\n",
       "N         41188    41188   41188  41188  41188\n",
       "NMISS         0        0       0      0      0\n",
       "MODE     admin.  married     yes     no    may\n",
       "FREQ      10422    24928   21576  33950  13769\n",
       "PERCENT    25.3    60.52   52.38  82.43  33.43"
      ]
     },
     "execution_count": 15,
     "metadata": {},
     "output_type": "execute_result"
    }
   ],
   "source": [
    "bankcalls.select_dtypes(['object']).apply(cat_var_summary)"
   ]
  },
  {
   "cell_type": "markdown",
   "id": "07f677a4",
   "metadata": {},
   "source": [
    "## Plots"
   ]
  },
  {
   "cell_type": "code",
   "execution_count": 16,
   "id": "e6e981ec",
   "metadata": {
    "ExecuteTime": {
     "end_time": "2022-08-30T10:00:04.435932Z",
     "start_time": "2022-08-30T09:59:59.683258Z"
    },
    "scrolled": false
   },
   "outputs": [
    {
     "name": "stdout",
     "output_type": "stream",
     "text": [
      "AGE\n",
      "skewness = 0.7846968157646645\n"
     ]
    },
    {
     "data": {
      "image/png": "[encoded data removed]",
      "text/plain": [
       "<Figure size 720x360 with 2 Axes>"
      ]
     },
     "metadata": {},
     "output_type": "display_data"
    },
    {
     "name": "stdout",
     "output_type": "stream",
     "text": [
      "JOB\n"
     ]
    },
    {
     "data": {
      "image/png": "[encoded data removed]",
      "text/plain": [
       "<Figure size 864x288 with 2 Axes>"
      ]
     },
     "metadata": {},
     "output_type": "display_data"
    },
    {
     "name": "stdout",
     "output_type": "stream",
     "text": [
      "MARITAL\n"
     ]
    },
    {
     "data": {
      "image/png": "[encoded data removed]",
      "text/plain": [
       "<Figure size 864x288 with 2 Axes>"
      ]
     },
     "metadata": {},
     "output_type": "display_data"
    },
    {
     "name": "stdout",
     "output_type": "stream",
     "text": [
      "HOUSING\n"
     ]
    },
    {
     "data": {
      "image/png": "[encoded data removed]",
      "text/plain": [
       "<Figure size 864x288 with 2 Axes>"
      ]
     },
     "metadata": {},
     "output_type": "display_data"
    },
    {
     "name": "stdout",
     "output_type": "stream",
     "text": [
      "LOAN\n"
     ]
    },
    {
     "data": {
      "image/png": "[encoded data removed]",
      "text/plain": [
       "<Figure size 864x288 with 2 Axes>"
      ]
     },
     "metadata": {},
     "output_type": "display_data"
    },
    {
     "name": "stdout",
     "output_type": "stream",
     "text": [
      "MONTH\n"
     ]
    },
    {
     "data": {
      "image/png": "[encoded data removed]",
      "text/plain": [
       "<Figure size 864x288 with 2 Axes>"
      ]
     },
     "metadata": {},
     "output_type": "display_data"
    },
    {
     "name": "stdout",
     "output_type": "stream",
     "text": [
      "DURATION\n",
      "skewness = 3.2631412552628314\n"
     ]
    },
    {
     "data": {
      "image/png": "[encoded data removed]",
      "text/plain": [
       "<Figure size 720x360 with 2 Axes>"
      ]
     },
     "metadata": {},
     "output_type": "display_data"
    },
    {
     "name": "stdout",
     "output_type": "stream",
     "text": [
      "CAMPAIGN_ATTENDING\n",
      "skewness = 4.762506697067007\n"
     ]
    },
    {
     "data": {
      "image/png": "[encoded data removed]",
      "text/plain": [
       "<Figure size 720x360 with 2 Axes>"
      ]
     },
     "metadata": {},
     "output_type": "display_data"
    },
    {
     "name": "stdout",
     "output_type": "stream",
     "text": [
      "CUSTOMER_SINCE\n",
      "skewness = -4.922189916418164\n"
     ]
    },
    {
     "data": {
      "image/png": "[encoded data removed]",
      "text/plain": [
       "<Figure size 720x360 with 2 Axes>"
      ]
     },
     "metadata": {},
     "output_type": "display_data"
    },
    {
     "name": "stdout",
     "output_type": "stream",
     "text": [
      "PREVIOUS_SAVINGS\n",
      "skewness = 3.8320422428611836\n"
     ]
    },
    {
     "data": {
      "image/png": "[encoded data removed]",
      "text/plain": [
       "<Figure size 720x360 with 2 Axes>"
      ]
     },
     "metadata": {},
     "output_type": "display_data"
    },
    {
     "name": "stdout",
     "output_type": "stream",
     "text": [
      "EMP_VAR_RATE\n",
      "skewness = -0.7240955492472559\n"
     ]
    },
    {
     "data": {
      "image/png": "[encoded data removed]",
      "text/plain": [
       "<Figure size 720x360 with 2 Axes>"
      ]
     },
     "metadata": {},
     "output_type": "display_data"
    },
    {
     "name": "stdout",
     "output_type": "stream",
     "text": [
      "CONS_PRICE_IDX\n",
      "skewness = -0.2308876513578066\n"
     ]
    },
    {
     "data": {
      "image/png": "[encoded data removed]",
      "text/plain": [
       "<Figure size 720x360 with 2 Axes>"
      ]
     },
     "metadata": {},
     "output_type": "display_data"
    },
    {
     "name": "stdout",
     "output_type": "stream",
     "text": [
      "NR_EMPLOYED\n",
      "skewness = -1.044262407089151\n"
     ]
    },
    {
     "data": {
      "image/png": "[encoded data removed]",
      "text/plain": [
       "<Figure size 720x360 with 2 Axes>"
      ]
     },
     "metadata": {},
     "output_type": "display_data"
    },
    {
     "name": "stdout",
     "output_type": "stream",
     "text": [
      "OUTPUT\n",
      "skewness = 2.4503301382077263\n"
     ]
    },
    {
     "data": {
      "image/png": "[encoded data removed]",
      "text/plain": [
       "<Figure size 720x360 with 2 Axes>"
      ]
     },
     "metadata": {},
     "output_type": "display_data"
    }
   ],
   "source": [
    "# Using Pairplot to check histograms and relation between two variables\n",
    "for i in bankcalls.columns:\n",
    "    try:\n",
    "        print(i.upper(), '\\nskewness = ', bankcalls.loc[:, i].skew(), sep='')\n",
    "        params = {'figure.figsize': (10, 5), 'axes.labelsize': 14}\n",
    "        plt.rcParams.update(params)\n",
    "        fig, axs = plt.subplots(2, 1, sharex=True)\n",
    "        sns.histplot(data=bankcalls, x=i, kde=True, ax=axs[0])\n",
    "        sns.boxplot(x=bankcalls.loc[:, i], ax=axs[1])\n",
    "        plt.show()\n",
    "    except:\n",
    "        print(i.upper())\n",
    "        params = {'figure.figsize': (10, 5), 'axes.labelsize': 14}\n",
    "        plt.rcParams.update(params)\n",
    "        sns.set(style='ticks', font_scale=1.25)\n",
    "        if i != 'job':\n",
    "            sns.catplot(x=i,\n",
    "                        col='output',\n",
    "                        data=bankcalls,\n",
    "                        kind='count',\n",
    "                        height=4,\n",
    "                        aspect=1.5)\n",
    "        else:\n",
    "            sns.catplot(y=i,\n",
    "                        col='output',\n",
    "                        data=bankcalls,\n",
    "                        kind='count',\n",
    "                        height=4,\n",
    "                        aspect=1.5)\n",
    "        plt.show()"
   ]
  },
  {
   "cell_type": "raw",
   "id": "06b26c0e",
   "metadata": {},
   "source": [
    "### Encoding `housing` & `loan` columns : \n",
    "yes = 1 <br>\n",
    "no, unknown = 0"
   ]
  },
  {
   "cell_type": "code",
   "execution_count": 17,
   "id": "1c4ca977",
   "metadata": {
    "ExecuteTime": {
     "end_time": "2022-08-30T10:00:04.451799Z",
     "start_time": "2022-08-30T10:00:04.436052Z"
    }
   },
   "outputs": [],
   "source": [
    "# bankcalls.housing = bankcalls.housing.apply(lambda x: 1 if 'yes' in x else 0)\n",
    "# bankcalls.loan = bankcalls.loan.apply(lambda x: 1 if 'yes' in x else 0)"
   ]
  },
  {
   "cell_type": "markdown",
   "id": "65efa140",
   "metadata": {},
   "source": [
    "## Bi-variate analysis to identify corr"
   ]
  },
  {
   "cell_type": "code",
   "execution_count": 18,
   "id": "dbd0a543",
   "metadata": {
    "ExecuteTime": {
     "end_time": "2022-08-30T10:00:04.467671Z",
     "start_time": "2022-08-30T10:00:04.451799Z"
    }
   },
   "outputs": [],
   "source": [
    "# correlation matrix\n",
    "corr_matrix = bankcalls.corr()"
   ]
  },
  {
   "cell_type": "code",
   "execution_count": 19,
   "id": "1526d197",
   "metadata": {
    "ExecuteTime": {
     "end_time": "2022-08-30T10:00:04.771067Z",
     "start_time": "2022-08-30T10:00:04.468478Z"
    }
   },
   "outputs": [
    {
     "data": {
      "image/png": "[encoded data removed]",
      "text/plain": [
       "<Figure size 1008x576 with 2 Axes>"
      ]
     },
     "metadata": {},
     "output_type": "display_data"
    }
   ],
   "source": [
    "# visualizing correlation matrix in Seaborn using a heatmap\n",
    "plt.figure(figsize=(14, 8))\n",
    "sns.heatmap(bankcalls.corr(), annot=True)\n",
    "plt.show()"
   ]
  },
  {
   "cell_type": "markdown",
   "id": "f97e839b",
   "metadata": {},
   "source": [
    "## Building Logistic Regression Model"
   ]
  },
  {
   "cell_type": "code",
   "execution_count": 20,
   "id": "6acf044b",
   "metadata": {
    "ExecuteTime": {
     "end_time": "2022-08-30T10:00:04.802831Z",
     "start_time": "2022-08-30T10:00:04.771067Z"
    }
   },
   "outputs": [],
   "source": [
    "# Train and Test split\n",
    "train, test = train_test_split(bankcalls,\n",
    "                               test_size=0.3,\n",
    "                               random_state=2,\n",
    "                               stratify=bankcalls.output)"
   ]
  },
  {
   "cell_type": "code",
   "execution_count": 21,
   "id": "5f9b62dd",
   "metadata": {
    "ExecuteTime": {
     "end_time": "2022-08-30T10:00:04.818609Z",
     "start_time": "2022-08-30T10:00:04.802831Z"
    }
   },
   "outputs": [
    {
     "data": {
      "text/plain": [
       "Index(['age', 'job', 'marital', 'housing', 'loan', 'month', 'duration',\n",
       "       'campaign_attending', 'customer_since', 'previous_savings',\n",
       "       'emp_var_rate', 'cons_price_idx', 'nr_employed', 'output'],\n",
       "      dtype='object')"
      ]
     },
     "execution_count": 21,
     "metadata": {},
     "output_type": "execute_result"
    }
   ],
   "source": [
    "# print the columns\n",
    "train.columns"
   ]
  },
  {
   "cell_type": "code",
   "execution_count": 22,
   "id": "17f823ad",
   "metadata": {
    "ExecuteTime": {
     "end_time": "2022-08-30T10:00:04.834405Z",
     "start_time": "2022-08-30T10:00:04.818609Z"
    }
   },
   "outputs": [
    {
     "data": {
      "text/plain": [
       "'output ~ age + campaign_attending + cons_price_idx + customer_since + duration + emp_var_rate + housing + job + loan + marital + month + nr_employed + previous_savings'"
      ]
     },
     "execution_count": 22,
     "metadata": {},
     "output_type": "execute_result"
    }
   ],
   "source": [
    "model_eq = 'output ~ ' + ' + '.join(train.columns.difference(['output']))\n",
    "model_eq"
   ]
  },
  {
   "cell_type": "code",
   "execution_count": 23,
   "id": "6561db75",
   "metadata": {
    "ExecuteTime": {
     "end_time": "2022-08-30T10:00:05.280486Z",
     "start_time": "2022-08-30T10:00:04.834405Z"
    },
    "scrolled": false
   },
   "outputs": [
    {
     "name": "stdout",
     "output_type": "stream",
     "text": [
      "Optimization terminated successfully.\n",
      "         Current function value: 0.211996\n",
      "         Iterations 9\n"
     ]
    }
   ],
   "source": [
    "# execute a model for the X variables\n",
    "m1 = smf.logit(formula=model_eq, data=train).fit()"
   ]
  },
  {
   "cell_type": "code",
   "execution_count": 24,
   "id": "cd95db56",
   "metadata": {
    "ExecuteTime": {
     "end_time": "2022-08-30T10:00:05.364792Z",
     "start_time": "2022-08-30T10:00:05.280981Z"
    }
   },
   "outputs": [
    {
     "name": "stdout",
     "output_type": "stream",
     "text": [
      "                                     Results: Logit\n",
      "=========================================================================================\n",
      "Model:                      Logit                    Pseudo R-squared:         0.398     \n",
      "Dependent Variable:         output                   AIC:                      12294.1058\n",
      "Date:                       2022-08-30 15:30         BIC:                      12583.5281\n",
      "No. Observations:           28831                    Log-Likelihood:           -6112.1   \n",
      "Df Model:                   34                       LL-Null:                  -10149.   \n",
      "Df Residuals:               28796                    LLR p-value:              0.0000    \n",
      "Converged:                  1.0000                   Scale:                    1.0000    \n",
      "No. Iterations:             9.0000                                                       \n",
      "-----------------------------------------------------------------------------------------\n",
      "                       Coef.      Std.Err.      z     P>|z|      [0.025         0.975]   \n",
      "-----------------------------------------------------------------------------------------\n",
      "Intercept            -173.6963       31.9521  -5.4362 0.0000      -236.3212     -111.0714\n",
      "housing[T.unknown]     -0.1078 31393028.1117  -0.0000 1.0000 -61529204.5725 61529204.3568\n",
      "housing[T.yes]          0.0001        0.0487   0.0017 0.9987        -0.0954        0.0956\n",
      "job[T.blue-collar]     -0.3352        0.0776  -4.3219 0.0000        -0.4872       -0.1832\n",
      "job[T.entrepreneur]    -0.1051        0.1446  -0.7264 0.4676        -0.3885        0.1784\n",
      "job[T.housemaid]       -0.1273        0.1696  -0.7507 0.4528        -0.4596        0.2050\n",
      "job[T.management]      -0.0025        0.0995  -0.0256 0.9796        -0.1976        0.1925\n",
      "job[T.retired]          0.2157        0.1233   1.7489 0.0803        -0.0260        0.4574\n",
      "job[T.self-employed]   -0.1023        0.1389  -0.7363 0.4616        -0.3745        0.1700\n",
      "job[T.services]        -0.2335        0.0977  -2.3889 0.0169        -0.4251       -0.0419\n",
      "job[T.student]          0.1121        0.1267   0.8848 0.3762        -0.1362        0.3604\n",
      "job[T.technician]       0.0042        0.0752   0.0560 0.9554        -0.1432        0.1517\n",
      "job[T.unemployed]      -0.0234        0.1452  -0.1614 0.8718        -0.3080        0.2611\n",
      "job[T.unknown]          0.1694        0.2675   0.6334 0.5265        -0.3549        0.6938\n",
      "loan[T.unknown]        -0.1078 31393028.1117  -0.0000 1.0000 -61529204.5725 61529204.3568\n",
      "loan[T.yes]            -0.0776        0.0679  -1.1422 0.2534        -0.2107        0.0556\n",
      "marital[T.married]      0.0158        0.0815   0.1944 0.8459        -0.1439        0.1756\n",
      "marital[T.single]       0.1214        0.0927   1.3102 0.1901        -0.0602        0.3031\n",
      "marital[T.unknown]      0.3985        0.4623   0.8621 0.3886        -0.5075        1.3046\n",
      "month[T.aug]            1.1226        0.1326   8.4675 0.0000         0.8627        1.3824\n",
      "month[T.dec]            0.6048        0.2317   2.6096 0.0091         0.1505        1.0590\n",
      "month[T.jul]            0.5115        0.1019   5.0219 0.0000         0.3119        0.7111\n",
      "month[T.jun]           -0.1834        0.1323  -1.3860 0.1657        -0.4426        0.0759\n",
      "month[T.mar]            1.9264        0.1578  12.2092 0.0000         1.6171        2.2356\n",
      "month[T.may]           -0.5457        0.0913  -5.9736 0.0000        -0.7247       -0.3666\n",
      "month[T.nov]           -0.1062        0.1087  -0.9772 0.3285        -0.3194        0.1069\n",
      "month[T.oct]            0.5289        0.1409   3.7535 0.0002         0.2527        0.8051\n",
      "month[T.sep]            0.5904        0.1807   3.2680 0.0011         0.2363        0.9445\n",
      "age                    -0.0011        0.0028  -0.3864 0.6992        -0.0066        0.0044\n",
      "campaign_attending     -0.0361        0.0132  -2.7310 0.0063        -0.0620       -0.0102\n",
      "cons_price_idx          1.5839        0.2271   6.9735 0.0000         1.1387        2.0291\n",
      "customer_since         -0.0017        0.0001 -17.0118 0.0000        -0.0019       -0.0015\n",
      "duration                0.0046        0.0001  52.9107 0.0000         0.0045        0.0048\n",
      "emp_var_rate           -1.2889        0.1494  -8.6266 0.0000        -1.5818       -0.9961\n",
      "nr_employed             0.0045        0.0021   2.1004 0.0357         0.0003        0.0087\n",
      "previous_savings       -0.2317        0.0457  -5.0743 0.0000        -0.3212       -0.1422\n",
      "=========================================================================================\n",
      "\n"
     ]
    }
   ],
   "source": [
    "# print the model summary stats\n",
    "print(m1.summary2())"
   ]
  },
  {
   "cell_type": "markdown",
   "id": "b7ba7ba5",
   "metadata": {
    "ExecuteTime": {
     "end_time": "2022-08-28T18:55:00.216206Z",
     "start_time": "2022-08-28T18:55:00.200215Z"
    }
   },
   "source": [
    "* **Exploratory Data Analysis**\n",
    "  - Checking Optimum no of features using RFE\n",
    "  - Variable Reduction using Somer's D values\n",
    "  - Bi-variate analysis technique to check the predictive power of each independent against dependent\n",
    "  - cutoff is 0.2 or 20% below which the variable is insignificant"
   ]
  },
  {
   "cell_type": "markdown",
   "id": "fbf6c9fe",
   "metadata": {},
   "source": [
    "### Checking Optimum no of features using RFE"
   ]
  },
  {
   "cell_type": "code",
   "execution_count": 25,
   "id": "77df5e9d",
   "metadata": {
    "ExecuteTime": {
     "end_time": "2022-08-30T10:00:05.381023Z",
     "start_time": "2022-08-30T10:00:05.365332Z"
    }
   },
   "outputs": [],
   "source": [
    "#"
   ]
  },
  {
   "cell_type": "code",
   "execution_count": null,
   "id": "7c893362",
   "metadata": {
    "ExecuteTime": {
     "end_time": "2022-08-29T23:10:56.173866Z",
     "start_time": "2022-08-29T23:10:56.147221Z"
    }
   },
   "outputs": [],
   "source": []
  },
  {
   "cell_type": "code",
   "execution_count": 26,
   "id": "95f7ee85",
   "metadata": {
    "ExecuteTime": {
     "end_time": "2022-08-30T10:00:05.410899Z",
     "start_time": "2022-08-30T10:00:05.381521Z"
    }
   },
   "outputs": [],
   "source": [
    "# X_vars = bankcalls.columns.difference(['output'])\n",
    "# y_var = 'output'\n",
    "# X, y = bankcalls[X_vars], bankcalls[y_var]\n",
    "# X = pd.get_dummies(X, drop_first=True)\n",
    "# y_act = y\n",
    "# nof_list = np.arange(1, bankcalls.shape[1] + 1)\n",
    "# high_score = 0\n",
    "# # Variable to store the optimum features\n",
    "# nof = 0\n",
    "# score_list = []\n",
    "# X_train, X_test, y_train, y_test = train_test_split(X, y,\n",
    "#                                                     test_size=0.25,\n",
    "#                                                     random_state=0)\n",
    "# for n in range(len(nof_list)):\n",
    "\n",
    "#     model = LogisticRegression()\n",
    "#     rfe = RFE(model, n_features_to_select=nof_list[n])\n",
    "#     X_train_rfe = rfe.fit(X_train, y_train)\n",
    "#     X_test_rfe = rfe.transform(X_test)\n",
    "#     model.fit(X_train_rfe, y_train)\n",
    "# #     rfe.fit(X, y)\n",
    "# #     X = rfe.transform(X)\n",
    "#     score = model.score(X_test_rfe,y_test)\n",
    "#     score_list.append(score)\n",
    "#     print(n)\n",
    "#     if (score > high_score):\n",
    "#         high_score = score\n",
    "#         nof = nof_list[n]\n",
    "\n",
    "# print(\"Optimum number of features: %d\" % nof)\n",
    "# print(\"Score with %d features: %f\" % (nof, high_score))"
   ]
  },
  {
   "cell_type": "markdown",
   "id": "4ded6f3c",
   "metadata": {},
   "source": [
    "### Getting the Somer's D values for all the X variables"
   ]
  },
  {
   "cell_type": "code",
   "execution_count": 27,
   "id": "9fc4d794",
   "metadata": {
    "ExecuteTime": {
     "end_time": "2022-08-30T10:00:06.700881Z",
     "start_time": "2022-08-30T10:00:05.411893Z"
    }
   },
   "outputs": [
    {
     "name": "stdout",
     "output_type": "stream",
     "text": [
      "Optimization terminated successfully.\n",
      "         Current function value: 0.351575\n",
      "         Iterations 6\n",
      "Optimization terminated successfully.\n",
      "         Current function value: 0.348982\n",
      "         Iterations 7\n",
      "Optimization terminated successfully.\n",
      "         Current function value: 0.342848\n",
      "         Iterations 7\n",
      "Optimization terminated successfully.\n",
      "         Current function value: 0.321189\n",
      "         Iterations 6\n",
      "Optimization terminated successfully.\n",
      "         Current function value: 0.292635\n",
      "         Iterations 7\n",
      "Optimization terminated successfully.\n",
      "         Current function value: 0.310731\n",
      "         Iterations 7\n",
      "Optimization terminated successfully.\n",
      "         Current function value: 0.351960\n",
      "         Iterations 6\n",
      "Optimization terminated successfully.\n",
      "         Current function value: 0.342170\n",
      "         Iterations 7\n",
      "Optimization terminated successfully.\n",
      "         Current function value: 0.352015\n",
      "         Iterations 6\n",
      "Optimization terminated successfully.\n",
      "         Current function value: 0.350595\n",
      "         Iterations 6\n",
      "Optimization terminated successfully.\n",
      "         Current function value: 0.325622\n",
      "         Iterations 7\n",
      "Optimization terminated successfully.\n",
      "         Current function value: 0.297725\n",
      "         Iterations 7\n",
      "Optimization terminated successfully.\n",
      "         Current function value: 0.333575\n",
      "         Iterations 6\n"
     ]
    }
   ],
   "source": [
    "# Empty dataframe to store the information\n",
    "df = pd.DataFrame()\n",
    "\n",
    "# Iterating on each X variable\n",
    "for var_name in bankcalls.columns.difference(['output']):\n",
    "\n",
    "    # Building the bivariate model and fit\n",
    "    model = smf.logit(formula='output ~ ' + var_name, data=bankcalls).fit()\n",
    "\n",
    "    # Predicting the y\n",
    "    y_predicted = model.predict(bankcalls)\n",
    "\n",
    "    # Getting the roc_auc_score\n",
    "    roc_score = roc_auc_score(bankcalls.output, y_predicted)\n",
    "\n",
    "    # Getting the Somar's D value\n",
    "    somars_d = 2 * roc_score - 1\n",
    "\n",
    "    # Storing the data in temp df\n",
    "    temp_df = pd.DataFrame([var_name, roc_score, somars_d]).T\n",
    "\n",
    "    # Concating the data with the output dataframe\n",
    "    df = pd.concat([df, temp_df], axis=0)\n",
    "\n",
    "# Adding the column names\n",
    "df.columns = ['Feature', 'ROC_AUC_SCORE', 'SomarsD']"
   ]
  },
  {
   "cell_type": "code",
   "execution_count": 28,
   "id": "a9653410",
   "metadata": {
    "ExecuteTime": {
     "end_time": "2022-08-30T10:00:06.716526Z",
     "start_time": "2022-08-30T10:00:06.701938Z"
    }
   },
   "outputs": [
    {
     "data": {
      "text/html": [
       "<div>\n",
       "<style scoped>\n",
       "    .dataframe tbody tr th:only-of-type {\n",
       "        vertical-align: middle;\n",
       "    }\n",
       "\n",
       "    .dataframe tbody tr th {\n",
       "        vertical-align: top;\n",
       "    }\n",
       "\n",
       "    .dataframe thead th {\n",
       "        text-align: right;\n",
       "    }\n",
       "</style>\n",
       "<table border=\"1\" class=\"dataframe\">\n",
       "  <thead>\n",
       "    <tr style=\"text-align: right;\">\n",
       "      <th></th>\n",
       "      <th>Feature</th>\n",
       "      <th>ROC_AUC_SCORE</th>\n",
       "      <th>SomarsD</th>\n",
       "    </tr>\n",
       "  </thead>\n",
       "  <tbody>\n",
       "    <tr>\n",
       "      <th>0</th>\n",
       "      <td>age</td>\n",
       "      <td>0.489176</td>\n",
       "      <td>-0.021648</td>\n",
       "    </tr>\n",
       "    <tr>\n",
       "      <th>0</th>\n",
       "      <td>campaign_attending</td>\n",
       "      <td>0.555209</td>\n",
       "      <td>0.110419</td>\n",
       "    </tr>\n",
       "    <tr>\n",
       "      <th>0</th>\n",
       "      <td>cons_price_idx</td>\n",
       "      <td>0.610562</td>\n",
       "      <td>0.221124</td>\n",
       "    </tr>\n",
       "    <tr>\n",
       "      <th>0</th>\n",
       "      <td>customer_since</td>\n",
       "      <td>0.596747</td>\n",
       "      <td>0.193493</td>\n",
       "    </tr>\n",
       "    <tr>\n",
       "      <th>0</th>\n",
       "      <td>duration</td>\n",
       "      <td>0.818446</td>\n",
       "      <td>0.636892</td>\n",
       "    </tr>\n",
       "    <tr>\n",
       "      <th>0</th>\n",
       "      <td>emp_var_rate</td>\n",
       "      <td>0.716753</td>\n",
       "      <td>0.433506</td>\n",
       "    </tr>\n",
       "    <tr>\n",
       "      <th>0</th>\n",
       "      <td>housing</td>\n",
       "      <td>0.509314</td>\n",
       "      <td>0.018627</td>\n",
       "    </tr>\n",
       "    <tr>\n",
       "      <th>0</th>\n",
       "      <td>job</td>\n",
       "      <td>0.610273</td>\n",
       "      <td>0.220545</td>\n",
       "    </tr>\n",
       "    <tr>\n",
       "      <th>0</th>\n",
       "      <td>loan</td>\n",
       "      <td>0.503106</td>\n",
       "      <td>0.006212</td>\n",
       "    </tr>\n",
       "    <tr>\n",
       "      <th>0</th>\n",
       "      <td>marital</td>\n",
       "      <td>0.539419</td>\n",
       "      <td>0.078837</td>\n",
       "    </tr>\n",
       "    <tr>\n",
       "      <th>0</th>\n",
       "      <td>month</td>\n",
       "      <td>0.658107</td>\n",
       "      <td>0.316214</td>\n",
       "    </tr>\n",
       "    <tr>\n",
       "      <th>0</th>\n",
       "      <td>nr_employed</td>\n",
       "      <td>0.748997</td>\n",
       "      <td>0.497994</td>\n",
       "    </tr>\n",
       "    <tr>\n",
       "      <th>0</th>\n",
       "      <td>previous_savings</td>\n",
       "      <td>0.609289</td>\n",
       "      <td>0.218577</td>\n",
       "    </tr>\n",
       "  </tbody>\n",
       "</table>\n",
       "</div>"
      ],
      "text/plain": [
       "              Feature ROC_AUC_SCORE   SomarsD\n",
       "0                 age      0.489176 -0.021648\n",
       "0  campaign_attending      0.555209  0.110419\n",
       "0      cons_price_idx      0.610562  0.221124\n",
       "0      customer_since      0.596747  0.193493\n",
       "0            duration      0.818446  0.636892\n",
       "0        emp_var_rate      0.716753  0.433506\n",
       "0             housing      0.509314  0.018627\n",
       "0                 job      0.610273  0.220545\n",
       "0                loan      0.503106  0.006212\n",
       "0             marital      0.539419  0.078837\n",
       "0               month      0.658107  0.316214\n",
       "0         nr_employed      0.748997  0.497994\n",
       "0    previous_savings      0.609289  0.218577"
      ]
     },
     "execution_count": 28,
     "metadata": {},
     "output_type": "execute_result"
    }
   ],
   "source": [
    "df"
   ]
  },
  {
   "cell_type": "code",
   "execution_count": 29,
   "id": "f1255c4b",
   "metadata": {
    "ExecuteTime": {
     "end_time": "2022-08-30T10:00:06.744202Z",
     "start_time": "2022-08-30T10:00:06.718673Z"
    }
   },
   "outputs": [],
   "source": [
    "features = list(df.loc[df.SomarsD >= 0.2, 'Feature'])"
   ]
  },
  {
   "cell_type": "code",
   "execution_count": 30,
   "id": "75b7cf0b",
   "metadata": {
    "ExecuteTime": {
     "end_time": "2022-08-30T10:00:06.769732Z",
     "start_time": "2022-08-30T10:00:06.744898Z"
    }
   },
   "outputs": [
    {
     "data": {
      "text/plain": [
       "['cons_price_idx',\n",
       " 'duration',\n",
       " 'emp_var_rate',\n",
       " 'job',\n",
       " 'month',\n",
       " 'nr_employed',\n",
       " 'previous_savings']"
      ]
     },
     "execution_count": 30,
     "metadata": {},
     "output_type": "execute_result"
    }
   ],
   "source": [
    "features"
   ]
  },
  {
   "cell_type": "markdown",
   "id": "0cd4168c",
   "metadata": {},
   "source": [
    "### VIF - Variance Inflation Factor"
   ]
  },
  {
   "cell_type": "code",
   "execution_count": 31,
   "id": "a4c3a321",
   "metadata": {
    "ExecuteTime": {
     "end_time": "2022-08-30T10:00:07.762010Z",
     "start_time": "2022-08-30T10:00:06.770228Z"
    }
   },
   "outputs": [
    {
     "data": {
      "text/html": [
       "<div>\n",
       "<style scoped>\n",
       "    .dataframe tbody tr th:only-of-type {\n",
       "        vertical-align: middle;\n",
       "    }\n",
       "\n",
       "    .dataframe tbody tr th {\n",
       "        vertical-align: top;\n",
       "    }\n",
       "\n",
       "    .dataframe thead th {\n",
       "        text-align: right;\n",
       "    }\n",
       "</style>\n",
       "<table border=\"1\" class=\"dataframe\">\n",
       "  <thead>\n",
       "    <tr style=\"text-align: right;\">\n",
       "      <th></th>\n",
       "      <th>features</th>\n",
       "      <th>VIF Factor</th>\n",
       "    </tr>\n",
       "  </thead>\n",
       "  <tbody>\n",
       "    <tr>\n",
       "      <th>0</th>\n",
       "      <td>Intercept</td>\n",
       "      <td>3906555.55</td>\n",
       "    </tr>\n",
       "    <tr>\n",
       "      <th>1</th>\n",
       "      <td>job[T.blue-collar]</td>\n",
       "      <td>1.52</td>\n",
       "    </tr>\n",
       "    <tr>\n",
       "      <th>2</th>\n",
       "      <td>job[T.entrepreneur]</td>\n",
       "      <td>1.11</td>\n",
       "    </tr>\n",
       "    <tr>\n",
       "      <th>3</th>\n",
       "      <td>job[T.housemaid]</td>\n",
       "      <td>1.08</td>\n",
       "    </tr>\n",
       "    <tr>\n",
       "      <th>4</th>\n",
       "      <td>job[T.management]</td>\n",
       "      <td>1.20</td>\n",
       "    </tr>\n",
       "    <tr>\n",
       "      <th>5</th>\n",
       "      <td>job[T.retired]</td>\n",
       "      <td>1.14</td>\n",
       "    </tr>\n",
       "    <tr>\n",
       "      <th>6</th>\n",
       "      <td>job[T.self-employed]</td>\n",
       "      <td>1.10</td>\n",
       "    </tr>\n",
       "    <tr>\n",
       "      <th>7</th>\n",
       "      <td>job[T.services]</td>\n",
       "      <td>1.27</td>\n",
       "    </tr>\n",
       "    <tr>\n",
       "      <th>8</th>\n",
       "      <td>job[T.student]</td>\n",
       "      <td>1.09</td>\n",
       "    </tr>\n",
       "    <tr>\n",
       "      <th>9</th>\n",
       "      <td>job[T.technician]</td>\n",
       "      <td>1.39</td>\n",
       "    </tr>\n",
       "    <tr>\n",
       "      <th>10</th>\n",
       "      <td>job[T.unemployed]</td>\n",
       "      <td>1.07</td>\n",
       "    </tr>\n",
       "    <tr>\n",
       "      <th>11</th>\n",
       "      <td>job[T.unknown]</td>\n",
       "      <td>1.03</td>\n",
       "    </tr>\n",
       "    <tr>\n",
       "      <th>12</th>\n",
       "      <td>month[T.aug]</td>\n",
       "      <td>9.72</td>\n",
       "    </tr>\n",
       "    <tr>\n",
       "      <th>13</th>\n",
       "      <td>month[T.dec]</td>\n",
       "      <td>1.14</td>\n",
       "    </tr>\n",
       "    <tr>\n",
       "      <th>14</th>\n",
       "      <td>month[T.jul]</td>\n",
       "      <td>4.01</td>\n",
       "    </tr>\n",
       "    <tr>\n",
       "      <th>15</th>\n",
       "      <td>month[T.jun]</td>\n",
       "      <td>7.49</td>\n",
       "    </tr>\n",
       "    <tr>\n",
       "      <th>16</th>\n",
       "      <td>month[T.mar]</td>\n",
       "      <td>1.57</td>\n",
       "    </tr>\n",
       "    <tr>\n",
       "      <th>17</th>\n",
       "      <td>month[T.may]</td>\n",
       "      <td>5.48</td>\n",
       "    </tr>\n",
       "    <tr>\n",
       "      <th>18</th>\n",
       "      <td>month[T.nov]</td>\n",
       "      <td>2.74</td>\n",
       "    </tr>\n",
       "    <tr>\n",
       "      <th>19</th>\n",
       "      <td>month[T.oct]</td>\n",
       "      <td>1.46</td>\n",
       "    </tr>\n",
       "    <tr>\n",
       "      <th>20</th>\n",
       "      <td>month[T.sep]</td>\n",
       "      <td>1.97</td>\n",
       "    </tr>\n",
       "    <tr>\n",
       "      <th>21</th>\n",
       "      <td>cons_price_idx</td>\n",
       "      <td>65.64</td>\n",
       "    </tr>\n",
       "    <tr>\n",
       "      <th>22</th>\n",
       "      <td>duration</td>\n",
       "      <td>1.01</td>\n",
       "    </tr>\n",
       "    <tr>\n",
       "      <th>23</th>\n",
       "      <td>emp_var_rate</td>\n",
       "      <td>213.51</td>\n",
       "    </tr>\n",
       "    <tr>\n",
       "      <th>24</th>\n",
       "      <td>nr_employed</td>\n",
       "      <td>92.81</td>\n",
       "    </tr>\n",
       "    <tr>\n",
       "      <th>25</th>\n",
       "      <td>previous_savings</td>\n",
       "      <td>1.41</td>\n",
       "    </tr>\n",
       "  </tbody>\n",
       "</table>\n",
       "</div>"
      ],
      "text/plain": [
       "                features  VIF Factor\n",
       "0              Intercept  3906555.55\n",
       "1     job[T.blue-collar]        1.52\n",
       "2    job[T.entrepreneur]        1.11\n",
       "3       job[T.housemaid]        1.08\n",
       "4      job[T.management]        1.20\n",
       "5         job[T.retired]        1.14\n",
       "6   job[T.self-employed]        1.10\n",
       "7        job[T.services]        1.27\n",
       "8         job[T.student]        1.09\n",
       "9      job[T.technician]        1.39\n",
       "10     job[T.unemployed]        1.07\n",
       "11        job[T.unknown]        1.03\n",
       "12          month[T.aug]        9.72\n",
       "13          month[T.dec]        1.14\n",
       "14          month[T.jul]        4.01\n",
       "15          month[T.jun]        7.49\n",
       "16          month[T.mar]        1.57\n",
       "17          month[T.may]        5.48\n",
       "18          month[T.nov]        2.74\n",
       "19          month[T.oct]        1.46\n",
       "20          month[T.sep]        1.97\n",
       "21        cons_price_idx       65.64\n",
       "22              duration        1.01\n",
       "23          emp_var_rate      213.51\n",
       "24           nr_employed       92.81\n",
       "25      previous_savings        1.41"
      ]
     },
     "execution_count": 31,
     "metadata": {},
     "output_type": "execute_result"
    }
   ],
   "source": [
    "# Running the dmatrices\n",
    "equation = 'output ~ ' + ' + '.join(features)\n",
    "\n",
    "a, b = dmatrices(equation, data=bankcalls, return_type='dataframe')\n",
    "\n",
    "# Getting the VIF\n",
    "vif = pd.DataFrame()\n",
    "vif[\"features\"] = b.columns\n",
    "vif[\"VIF Factor\"] = [\n",
    "    variance_inflation_factor(b.values, i) for i in range(b.shape[1])\n",
    "]\n",
    "pd.options.display.float_format = '{:.2f}'.format\n",
    "vif"
   ]
  },
  {
   "cell_type": "code",
   "execution_count": 32,
   "id": "3f3dbb3e",
   "metadata": {
    "ExecuteTime": {
     "end_time": "2022-08-30T10:00:07.792424Z",
     "start_time": "2022-08-30T10:00:07.762516Z"
    }
   },
   "outputs": [],
   "source": [
    "# Based on the VIF factor, selected features are :\n",
    "features = [\n",
    "    'cons_price_idx', 'nr_employed', 'duration', 'job', 'month',\n",
    "    'previous_savings'\n",
    "]"
   ]
  },
  {
   "cell_type": "markdown",
   "id": "be50a1ba",
   "metadata": {
    "ExecuteTime": {
     "end_time": "2022-08-28T19:09:44.664544Z",
     "start_time": "2022-08-28T19:09:44.651518Z"
    }
   },
   "source": [
    "### Building the actual model"
   ]
  },
  {
   "cell_type": "code",
   "execution_count": 33,
   "id": "a1a48e51",
   "metadata": {
    "ExecuteTime": {
     "end_time": "2022-08-30T10:00:07.811057Z",
     "start_time": "2022-08-30T10:00:07.792920Z"
    }
   },
   "outputs": [
    {
     "data": {
      "text/plain": [
       "['cons_price_idx',\n",
       " 'nr_employed',\n",
       " 'duration',\n",
       " 'job',\n",
       " 'month',\n",
       " 'previous_savings']"
      ]
     },
     "execution_count": 33,
     "metadata": {},
     "output_type": "execute_result"
    }
   ],
   "source": [
    "features"
   ]
  },
  {
   "cell_type": "code",
   "execution_count": 34,
   "id": "298cc611",
   "metadata": {
    "ExecuteTime": {
     "end_time": "2022-08-30T10:00:08.094506Z",
     "start_time": "2022-08-30T10:00:07.812738Z"
    }
   },
   "outputs": [
    {
     "name": "stdout",
     "output_type": "stream",
     "text": [
      "Optimization terminated successfully.\n",
      "         Current function value: 0.218769\n",
      "         Iterations 8\n",
      "                            Results: Logit\n",
      "=======================================================================\n",
      "Model:                Logit              Pseudo R-squared:   0.379     \n",
      "Dependent Variable:   output             AIC:                12664.6461\n",
      "Date:                 2022-08-30 15:30   BIC:                12871.3763\n",
      "No. Observations:     28831              Log-Likelihood:     -6307.3   \n",
      "Df Model:             24                 LL-Null:            -10149.   \n",
      "Df Residuals:         28806              LLR p-value:        0.0000    \n",
      "Converged:            1.0000             Scale:              1.0000    \n",
      "No. Iterations:       8.0000                                           \n",
      "-----------------------------------------------------------------------\n",
      "                      Coef.   Std.Err.    z     P>|z|   [0.025  0.975] \n",
      "-----------------------------------------------------------------------\n",
      "Intercept            103.0268   3.9938  25.7966 0.0000 95.1990 110.8545\n",
      "job[T.blue-collar]    -0.3469   0.0758  -4.5775 0.0000 -0.4954  -0.1983\n",
      "job[T.entrepreneur]   -0.1165   0.1425  -0.8178 0.4135 -0.3957   0.1627\n",
      "job[T.housemaid]      -0.1287   0.1620  -0.7946 0.4269 -0.4463   0.1888\n",
      "job[T.management]     -0.0192   0.0963  -0.1991 0.8422 -0.2080   0.1697\n",
      "job[T.retired]         0.1972   0.0959   2.0562 0.0398  0.0092   0.3853\n",
      "job[T.self-employed]  -0.1281   0.1378  -0.9298 0.3525 -0.3982   0.1419\n",
      "job[T.services]       -0.2654   0.0964  -2.7544 0.0059 -0.4543  -0.0766\n",
      "job[T.student]         0.2341   0.1176   1.9902 0.0466  0.0036   0.4646\n",
      "job[T.technician]      0.0003   0.0735   0.0035 0.9972 -0.1437   0.1443\n",
      "job[T.unemployed]      0.0305   0.1411   0.2160 0.8290 -0.2461   0.3071\n",
      "job[T.unknown]         0.2540   0.2576   0.9862 0.3240 -0.2508   0.7589\n",
      "month[T.aug]           0.4497   0.0949   4.7401 0.0000  0.2638   0.6357\n",
      "month[T.dec]           0.2439   0.2135   1.1426 0.2532 -0.1745   0.6624\n",
      "month[T.jul]           0.5319   0.0992   5.3635 0.0000  0.3375   0.7263\n",
      "month[T.jun]           0.6582   0.0986   6.6731 0.0000  0.4649   0.8516\n",
      "month[T.mar]           1.2715   0.1348   9.4302 0.0000  1.0073   1.5358\n",
      "month[T.may]          -0.8116   0.0842  -9.6376 0.0000 -0.9766  -0.6465\n",
      "month[T.nov]          -0.1767   0.1050  -1.6829 0.0924 -0.3825   0.0291\n",
      "month[T.oct]           0.0932   0.1265   0.7369 0.4612 -0.1547   0.3411\n",
      "month[T.sep]          -0.2728   0.1381  -1.9748 0.0483 -0.5435  -0.0021\n",
      "cons_price_idx        -0.3448   0.0415  -8.3163 0.0000 -0.4260  -0.2635\n",
      "nr_employed           -0.0145   0.0004 -36.8085 0.0000 -0.0153  -0.0137\n",
      "duration               0.0046   0.0001  53.2112 0.0000  0.0044   0.0048\n",
      "previous_savings       0.1860   0.0360   5.1665 0.0000  0.1154   0.2565\n",
      "=======================================================================\n",
      "\n"
     ]
    }
   ],
   "source": [
    "model_eq = 'output ~ ' + ' + '.join(features)\n",
    "m2 = smf.logit(model_eq, data=train).fit()\n",
    "print(m2.summary2())"
   ]
  },
  {
   "cell_type": "markdown",
   "id": "f4158d92",
   "metadata": {},
   "source": [
    "## Predicting the values "
   ]
  },
  {
   "cell_type": "code",
   "execution_count": 35,
   "id": "9b73b73b",
   "metadata": {
    "ExecuteTime": {
     "end_time": "2022-08-30T10:00:08.258768Z",
     "start_time": "2022-08-30T10:00:08.095002Z"
    }
   },
   "outputs": [],
   "source": [
    "# predict the values on training and testing\n",
    "train_predict = m2.predict(train)\n",
    "test_predict = m2.predict(test)"
   ]
  },
  {
   "cell_type": "code",
   "execution_count": 36,
   "id": "4d8c98a9",
   "metadata": {
    "ExecuteTime": {
     "end_time": "2022-08-30T10:00:08.274996Z",
     "start_time": "2022-08-30T10:00:08.259264Z"
    }
   },
   "outputs": [
    {
     "data": {
      "text/plain": [
       "38918   0.88\n",
       "35665   0.01\n",
       "22556   0.01\n",
       "31723   0.01\n",
       "4507    0.01\n",
       "dtype: float64"
      ]
     },
     "execution_count": 36,
     "metadata": {},
     "output_type": "execute_result"
    }
   ],
   "source": [
    "train_predict.head(5)"
   ]
  },
  {
   "cell_type": "markdown",
   "id": "e9853ad7",
   "metadata": {},
   "source": [
    "## Model Scoring"
   ]
  },
  {
   "cell_type": "code",
   "execution_count": 37,
   "id": "242e4858",
   "metadata": {
    "ExecuteTime": {
     "end_time": "2022-08-30T10:00:08.291213Z",
     "start_time": "2022-08-30T10:00:08.275492Z"
    }
   },
   "outputs": [],
   "source": [
    "# combine the y actual and y predicted\n",
    "train_data = pd.concat([train.output, train_predict], axis=1)\n",
    "test_data = pd.concat([test.output, test_predict], axis=1)\n",
    "\n",
    "train_data.columns = ['y_actual', 'y_pred_proba']\n",
    "test_data.columns = ['y_actual', 'y_pred_proba']"
   ]
  },
  {
   "cell_type": "code",
   "execution_count": 38,
   "id": "dd1d838f",
   "metadata": {
    "ExecuteTime": {
     "end_time": "2022-08-30T10:00:08.315070Z",
     "start_time": "2022-08-30T10:00:08.291712Z"
    }
   },
   "outputs": [
    {
     "name": "stdout",
     "output_type": "stream",
     "text": [
      "Train: 0.9277794961882978 | Test:  0.9304400823414103\n"
     ]
    }
   ],
   "source": [
    "# roc_auc_score\n",
    "concordance_train = roc_auc_score(train_data.y_actual, train_data.y_pred_proba)\n",
    "concordance_test = roc_auc_score(test_data.y_actual, test_data.y_pred_proba)\n",
    "\n",
    "print('Train:', concordance_train, '| Test: ', concordance_test)"
   ]
  },
  {
   "cell_type": "markdown",
   "id": "d7c9b941",
   "metadata": {
    "ExecuteTime": {
     "end_time": "2022-08-28T19:53:16.655199Z",
     "start_time": "2022-08-28T19:53:16.643189Z"
    }
   },
   "source": [
    "### Finding the model accuracy at cutoff 0.5"
   ]
  },
  {
   "cell_type": "code",
   "execution_count": 39,
   "id": "c2181ea8",
   "metadata": {
    "ExecuteTime": {
     "end_time": "2022-08-30T10:00:08.331193Z",
     "start_time": "2022-08-30T10:00:08.315566Z"
    }
   },
   "outputs": [],
   "source": [
    "train_data['y_pred'] = np.where(train_data.y_pred_proba >= 0.5, 1, 0)"
   ]
  },
  {
   "cell_type": "markdown",
   "id": "2afa718b",
   "metadata": {},
   "source": [
    "#### Confusion Matrix"
   ]
  },
  {
   "cell_type": "code",
   "execution_count": 40,
   "id": "a694c29f",
   "metadata": {
    "ExecuteTime": {
     "end_time": "2022-08-30T10:00:08.347442Z",
     "start_time": "2022-08-30T10:00:08.331731Z"
    }
   },
   "outputs": [
    {
     "data": {
      "text/html": [
       "<div>\n",
       "<style scoped>\n",
       "    .dataframe tbody tr th:only-of-type {\n",
       "        vertical-align: middle;\n",
       "    }\n",
       "\n",
       "    .dataframe tbody tr th {\n",
       "        vertical-align: top;\n",
       "    }\n",
       "\n",
       "    .dataframe thead th {\n",
       "        text-align: right;\n",
       "    }\n",
       "</style>\n",
       "<table border=\"1\" class=\"dataframe\">\n",
       "  <thead>\n",
       "    <tr style=\"text-align: right;\">\n",
       "      <th>y_pred</th>\n",
       "      <th>1</th>\n",
       "      <th>0</th>\n",
       "    </tr>\n",
       "    <tr>\n",
       "      <th>y_actual</th>\n",
       "      <th></th>\n",
       "      <th></th>\n",
       "    </tr>\n",
       "  </thead>\n",
       "  <tbody>\n",
       "    <tr>\n",
       "      <th>1</th>\n",
       "      <td>1190</td>\n",
       "      <td>2058</td>\n",
       "    </tr>\n",
       "    <tr>\n",
       "      <th>0</th>\n",
       "      <td>677</td>\n",
       "      <td>24906</td>\n",
       "    </tr>\n",
       "  </tbody>\n",
       "</table>\n",
       "</div>"
      ],
      "text/plain": [
       "y_pred       1      0\n",
       "y_actual             \n",
       "1         1190   2058\n",
       "0          677  24906"
      ]
     },
     "execution_count": 40,
     "metadata": {},
     "output_type": "execute_result"
    }
   ],
   "source": [
    "# confusion matrix (using crosstab)\n",
    "pd.crosstab(train_data.y_actual, train_data.y_pred).loc[::-1, ::-1]"
   ]
  },
  {
   "cell_type": "code",
   "execution_count": 41,
   "id": "c2299d40",
   "metadata": {
    "ExecuteTime": {
     "end_time": "2022-08-30T10:00:08.376121Z",
     "start_time": "2022-08-30T10:00:08.349105Z"
    }
   },
   "outputs": [
    {
     "name": "stdout",
     "output_type": "stream",
     "text": [
      "[[ 1190  2058]\n",
      " [  677 24906]]\n",
      "accuracy:  0.9051368318823488 | tpr:  0.36637931034482757 | fpr:  0.026462885509908923\n"
     ]
    }
   ],
   "source": [
    "# confusion matrix (using sklearn.metrics)\n",
    "cm_p50 = confusion_matrix(train_data.y_actual, train_data.y_pred)[::-1, ::-1]\n",
    "\n",
    "tp = cm_p50[0, 0]\n",
    "tn = cm_p50[1, 1]\n",
    "fp = cm_p50[1, 0]\n",
    "fn = cm_p50[0, 1]\n",
    "\n",
    "accuracy = (tp + tn) / cm_p50.sum()\n",
    "tpr = tp / (tp + fn)\n",
    "fpr = fp / (fp + tn)\n",
    "\n",
    "print(cm_p50)\n",
    "print('accuracy: ', accuracy, '| tpr: ', tpr, '| fpr: ', fpr)"
   ]
  },
  {
   "cell_type": "markdown",
   "id": "689ce42c",
   "metadata": {},
   "source": [
    "#### Classification Report"
   ]
  },
  {
   "cell_type": "code",
   "execution_count": 42,
   "id": "f3e49e32",
   "metadata": {
    "ExecuteTime": {
     "end_time": "2022-08-30T10:00:08.412581Z",
     "start_time": "2022-08-30T10:00:08.378279Z"
    }
   },
   "outputs": [
    {
     "name": "stdout",
     "output_type": "stream",
     "text": [
      "              precision    recall  f1-score   support\n",
      "\n",
      "           0       0.92      0.97      0.95     25583\n",
      "           1       0.64      0.37      0.47      3248\n",
      "\n",
      "    accuracy                           0.91     28831\n",
      "   macro avg       0.78      0.67      0.71     28831\n",
      "weighted avg       0.89      0.91      0.89     28831\n",
      "\n"
     ]
    }
   ],
   "source": [
    "print(classification_report(train_data.y_actual, train_data.y_pred))"
   ]
  },
  {
   "cell_type": "markdown",
   "id": "50ce0948",
   "metadata": {},
   "source": [
    "### Getting the best Cut-offs \n",
    "Based on :\n",
    "1. Accuracy, \n",
    "2. [ Sensitivity + Specificity ]"
   ]
  },
  {
   "cell_type": "code",
   "execution_count": 65,
   "id": "159965b1",
   "metadata": {
    "ExecuteTime": {
     "end_time": "2022-08-30T10:03:25.378964Z",
     "start_time": "2022-08-30T10:03:24.959032Z"
    }
   },
   "outputs": [
    {
     "data": {
      "image/png": "[encoded data removed]",
      "text/plain": [
       "<Figure size 972x324 with 3 Axes>"
      ]
     },
     "metadata": {},
     "output_type": "display_data"
    }
   ],
   "source": [
    "# Empty dataframe to store the information\n",
    "cm_scores = pd.DataFrame()\n",
    "\n",
    "# Loop for different proba values\n",
    "for prob_val in np.arange(0, 1.01, 0.01):\n",
    "\n",
    "    # Getting the y_pred\n",
    "    train_data['y_pred'] = np.where(train_data.y_pred_proba >= prob_val, 1, 0)\n",
    "\n",
    "    # Getting the confusion matrix\n",
    "    cm = confusion_matrix(train_data.y_actual, train_data.y_pred)[::-1, ::-1]\n",
    "\n",
    "    # Getting the metric values\n",
    "    tp = cm[0, 0]\n",
    "    tn = cm[1, 1]\n",
    "    fp = cm[1, 0]\n",
    "    fn = cm[0, 1]\n",
    "\n",
    "    accuracy = (tp + tn) / cm.sum()\n",
    "    tpr = tp / (tp + fn)\n",
    "    fpr = fp / (fp + tn)\n",
    "    s_s = tpr + 1 - fpr\n",
    "\n",
    "    # Storing the data in temp dataframe\n",
    "    temp_df = pd.DataFrame([prob_val, tp, tn, fp, fn, accuracy, tpr, fpr,\n",
    "                            s_s]).T\n",
    "\n",
    "    # Adding the data to final dataframe\n",
    "    cm_scores = pd.concat([cm_scores, temp_df], axis=0)\n",
    "\n",
    "# Adding the column names\n",
    "cm_scores.columns = [\n",
    "    'prob_val', 'tp', 'tn', 'fp', 'fn', 'accuracy', 'tpr', 'fpr', 's_s'\n",
    "]\n",
    "\n",
    "# Creating Heatmap\n",
    "class_names = [0, 1]\n",
    "fig, axs = plt.subplots(1, 3, figsize=(13.5, 4.5))\n",
    "plt.subplots_adjust(wspace=0, hspace=0)\n",
    "tick_marks = np.arange(len(class_names))\n",
    "plt.xticks(tick_marks, class_names)\n",
    "plt.yticks(tick_marks, class_names)\n",
    "best_cutoff = {}\n",
    "j = 0\n",
    "for i in ['random', 'accuracy', 's_s']:\n",
    "    if i == 'random':\n",
    "        best_cutoff[i] = 0.5\n",
    "        cm_best_df = pd.DataFrame(cm_p50, index=[1, 0], columns=[1, 0])\n",
    "    else:\n",
    "        # Getting the best cutoff\n",
    "        best_cutoff[i] = cm_scores.loc[cm_scores[i] == cm_scores[i].max(),\n",
    "                                       'prob_val'][0]\n",
    "        cm_best = cm_scores.loc[cm_scores[i] == cm_scores[i].max(),\n",
    "                                ['tp', 'tn', 'fp', 'fn']]\n",
    "        pd.options.display.float_format = '{:.0f}'.format\n",
    "        cm_best_df = pd.DataFrame(np.array(\n",
    "            [[cm_best.loc[0][0], cm_best.loc[0][3]],\n",
    "             [cm_best.loc[0][2], cm_best.loc[0][1]]]),\n",
    "                                  index=[1, 0],\n",
    "                                  columns=[1, 0])\n",
    "\n",
    "    # Plotting the Heat-map\n",
    "    sns.heatmap(cm_best_df,\n",
    "                annot=True,\n",
    "                cmap=\"YlGnBu\",\n",
    "                fmt='g',\n",
    "                ax=axs[j],\n",
    "                cbar=False,\n",
    "                square=True)\n",
    "    axs[j].xaxis.tick_top()\n",
    "    axs[j].xaxis.set_label_position(\"top\")\n",
    "    if i == 'random':\n",
    "        axs[j].set_title(f'Confusion Matrix at cut-off : {best_cutoff[i]}',\n",
    "                         y=1.2,\n",
    "                         fontsize=12)\n",
    "    else:\n",
    "        axs[j].set_title(\n",
    "            f'Confusion Matrix for best {i.upper()} at cut-off : {best_cutoff[i]}',\n",
    "            y=1.2,\n",
    "            fontsize=12)\n",
    "    axs[j].set_ylabel('Actual Output', fontsize=14, fontweight='bold')\n",
    "    axs[j].set_xlabel('Predicted Output', fontsize=14, fontweight='bold')\n",
    "    j += 1\n",
    "fig.tight_layout()\n",
    "plt.show()"
   ]
  },
  {
   "cell_type": "markdown",
   "id": "e8dfc384",
   "metadata": {},
   "source": [
    "Here our target is to decrease the FN count to get all the customers who are willing to subscribe to the bank Scheme and also need to increase TN to control the campaign costs for the bank. Hence, the cut off with max `s_s` **[Sensitivity + Specificity = TPR + 1 - FPR]** is chosen."
   ]
  },
  {
   "cell_type": "code",
   "execution_count": 44,
   "id": "6bb580f9",
   "metadata": {
    "ExecuteTime": {
     "end_time": "2022-08-30T10:00:08.890364Z",
     "start_time": "2022-08-30T10:00:08.874722Z"
    }
   },
   "outputs": [
    {
     "data": {
      "text/plain": [
       "0.08"
      ]
     },
     "execution_count": 44,
     "metadata": {},
     "output_type": "execute_result"
    }
   ],
   "source": [
    "#cutoff_chosen = best_cutoff['accuracy']\n",
    "cutoff_chosen = best_cutoff['s_s']\n",
    "cutoff_chosen"
   ]
  },
  {
   "cell_type": "markdown",
   "id": "c7b2496f",
   "metadata": {},
   "source": [
    "### Final predictions at best cutoff"
   ]
  },
  {
   "cell_type": "code",
   "execution_count": 45,
   "id": "00a7ce98",
   "metadata": {
    "ExecuteTime": {
     "end_time": "2022-08-30T10:00:08.906158Z",
     "start_time": "2022-08-30T10:00:08.890364Z"
    }
   },
   "outputs": [],
   "source": [
    "train_data['y_pred'] = np.where(train_data.y_pred_proba >= cutoff_chosen, 1, 0)\n",
    "test_data['y_pred'] = np.where(test_data.y_pred_proba >= cutoff_chosen, 1, 0)"
   ]
  },
  {
   "cell_type": "markdown",
   "id": "a98c7ff8",
   "metadata": {
    "ExecuteTime": {
     "end_time": "2022-08-28T20:08:13.065249Z",
     "start_time": "2022-08-28T20:08:13.058427Z"
    }
   },
   "source": [
    "### Classification report at best cutoff"
   ]
  },
  {
   "cell_type": "code",
   "execution_count": 46,
   "id": "4c0d1e3a",
   "metadata": {
    "ExecuteTime": {
     "end_time": "2022-08-30T10:00:08.953833Z",
     "start_time": "2022-08-30T10:00:08.907277Z"
    }
   },
   "outputs": [
    {
     "name": "stdout",
     "output_type": "stream",
     "text": [
      "TRAIN DATA\n",
      "              precision    recall  f1-score   support\n",
      "\n",
      "           0       0.99      0.80      0.89     25583\n",
      "           1       0.38      0.93      0.54      3248\n",
      "\n",
      "    accuracy                           0.82     28831\n",
      "   macro avg       0.68      0.87      0.71     28831\n",
      "weighted avg       0.92      0.82      0.85     28831\n",
      "\n",
      "-----------------------------------------------------\n",
      "TEST DATA\n",
      "              precision    recall  f1-score   support\n",
      "\n",
      "           0       0.99      0.80      0.88     10965\n",
      "           1       0.37      0.93      0.53      1392\n",
      "\n",
      "    accuracy                           0.81     12357\n",
      "   macro avg       0.68      0.87      0.71     12357\n",
      "weighted avg       0.92      0.81      0.84     12357\n",
      "\n"
     ]
    }
   ],
   "source": [
    "print('TRAIN DATA')\n",
    "print(classification_report(train_data.y_actual, train_data.y_pred))\n",
    "print('-----------------------------------------------------')\n",
    "print('TEST DATA')\n",
    "print(classification_report(test_data.y_actual, test_data.y_pred))"
   ]
  },
  {
   "cell_type": "markdown",
   "id": "b6ec93ea",
   "metadata": {},
   "source": [
    "### Model Performance in Test data"
   ]
  },
  {
   "cell_type": "code",
   "execution_count": 47,
   "id": "7af06fb9",
   "metadata": {
    "ExecuteTime": {
     "end_time": "2022-08-30T10:00:08.969832Z",
     "start_time": "2022-08-30T10:00:08.953833Z"
    }
   },
   "outputs": [
    {
     "name": "stdout",
     "output_type": "stream",
     "text": [
      "Test Accuracy: 0.8137897547948532\n",
      "Train Accuracy: 0.818077763518435\n",
      "Test Precision: 0.3702540679417642\n",
      "Test Recall: 0.9317528735632183\n"
     ]
    }
   ],
   "source": [
    "print(\"Test Accuracy:\", accuracy_score(test_data.y_actual, test_data.y_pred))\n",
    "print(\"Train Accuracy:\", accuracy_score(train_data.y_actual, train_data.y_pred))\n",
    "print(\"Test Precision:\", precision_score(test_data.y_actual, test_data.y_pred))\n",
    "print(\"Test Recall:\", recall_score(test_data.y_actual, test_data.y_pred))"
   ]
  },
  {
   "cell_type": "markdown",
   "id": "15f69d16",
   "metadata": {},
   "source": [
    "<center>\n",
    "<h6> Train Accuracy ~ Test Accuracy (close). The model is stable.\n",
    "</center>"
   ]
  },
  {
   "cell_type": "markdown",
   "id": "71f4a4fd",
   "metadata": {},
   "source": [
    "### Plotting the ROC Curve "
   ]
  },
  {
   "cell_type": "code",
   "execution_count": 48,
   "id": "8d6d4a43",
   "metadata": {
    "ExecuteTime": {
     "end_time": "2022-08-30T10:00:09.066273Z",
     "start_time": "2022-08-30T10:00:08.969926Z"
    }
   },
   "outputs": [
    {
     "data": {
      "image/png": "[encoded data removed]",
      "text/plain": [
       "<Figure size 576x432 with 1 Axes>"
      ]
     },
     "metadata": {},
     "output_type": "display_data"
    }
   ],
   "source": [
    "plt.figure(figsize=(8, 6))\n",
    "r_auc = [0 for i in range(len(test_data.y_actual))]\n",
    "r_fpr, r_tpr, _ = roc_curve(test_data.y_actual, r_auc)\n",
    "r_auc = roc_auc_score(test_data.y_actual, r_auc)\n",
    "plt.plot(r_fpr,\n",
    "         r_tpr,\n",
    "         linestyle=\"--\",\n",
    "         label=\"Random Prediction (AUROC = %0.3f)\" % r_auc)\n",
    "\n",
    "fpr, tpr, _ = roc_curve(test_data.y_actual, test_data.y_pred_proba)\n",
    "auc = roc_auc_score(test_data.y_actual, test_data.y_pred_proba)\n",
    "plt.plot(fpr, tpr, label=\"Logistic Regression, (AUROC = %0.3f)\" % auc)\n",
    "\n",
    "plt.legend(loc=4)\n",
    "plt.xlabel('False Positive Rate')\n",
    "plt.ylabel('True Positive Rate')\n",
    "plt.title('ROC Curve')\n",
    "plt.show()"
   ]
  },
  {
   "cell_type": "markdown",
   "id": "faca18b0",
   "metadata": {},
   "source": [
    "## Decile Analysis"
   ]
  },
  {
   "cell_type": "markdown",
   "id": "232bfee3",
   "metadata": {
    "ExecuteTime": {
     "end_time": "2022-08-28T20:23:35.981880Z",
     "start_time": "2022-08-28T20:23:35.970441Z"
    }
   },
   "source": [
    "- Top-two deciles - Low gain customers - will not open Savings Scheme\n",
    "- 3rd, 4th, 5th deciles - Medium gain customers - will open Savings Scheme with proper scrutiny\n",
    "- 6th decile onwards - High gain customers - will open Savings Scheme"
   ]
  },
  {
   "cell_type": "code",
   "execution_count": 49,
   "id": "6e3b34c8",
   "metadata": {
    "ExecuteTime": {
     "end_time": "2022-08-30T10:00:09.082079Z",
     "start_time": "2022-08-30T10:00:09.066273Z"
    }
   },
   "outputs": [],
   "source": [
    "# Decile analysis for validation of models - Business validation\n",
    "train_data['Deciles'] = pd.qcut(train_data.y_pred_proba, 10, labels=False)\n",
    "test_data['Deciles'] = pd.qcut(test_data.y_pred_proba, 10, labels=False)"
   ]
  },
  {
   "cell_type": "markdown",
   "id": "4bd132ac",
   "metadata": {},
   "source": [
    "### Decile Analysis for train data"
   ]
  },
  {
   "cell_type": "code",
   "execution_count": 50,
   "id": "d16c3bf3",
   "metadata": {
    "ExecuteTime": {
     "end_time": "2022-08-30T10:00:09.113747Z",
     "start_time": "2022-08-30T10:00:09.082079Z"
    }
   },
   "outputs": [
    {
     "data": {
      "text/html": [
       "<div>\n",
       "<style scoped>\n",
       "    .dataframe tbody tr th:only-of-type {\n",
       "        vertical-align: middle;\n",
       "    }\n",
       "\n",
       "    .dataframe tbody tr th {\n",
       "        vertical-align: top;\n",
       "    }\n",
       "\n",
       "    .dataframe thead tr th {\n",
       "        text-align: left;\n",
       "    }\n",
       "</style>\n",
       "<table border=\"1\" class=\"dataframe\">\n",
       "  <thead>\n",
       "    <tr>\n",
       "      <th></th>\n",
       "      <th>Deciles</th>\n",
       "      <th colspan=\"2\" halign=\"left\">y_pred_proba</th>\n",
       "      <th colspan=\"2\" halign=\"left\">y_actual</th>\n",
       "    </tr>\n",
       "    <tr>\n",
       "      <th></th>\n",
       "      <th></th>\n",
       "      <th>min</th>\n",
       "      <th>max</th>\n",
       "      <th>sum</th>\n",
       "      <th>count</th>\n",
       "    </tr>\n",
       "  </thead>\n",
       "  <tbody>\n",
       "    <tr>\n",
       "      <th>9</th>\n",
       "      <td>9</td>\n",
       "      <td>0</td>\n",
       "      <td>1</td>\n",
       "      <td>1672</td>\n",
       "      <td>2883</td>\n",
       "    </tr>\n",
       "    <tr>\n",
       "      <th>8</th>\n",
       "      <td>8</td>\n",
       "      <td>0</td>\n",
       "      <td>0</td>\n",
       "      <td>963</td>\n",
       "      <td>2883</td>\n",
       "    </tr>\n",
       "    <tr>\n",
       "      <th>7</th>\n",
       "      <td>7</td>\n",
       "      <td>0</td>\n",
       "      <td>0</td>\n",
       "      <td>448</td>\n",
       "      <td>2883</td>\n",
       "    </tr>\n",
       "    <tr>\n",
       "      <th>6</th>\n",
       "      <td>6</td>\n",
       "      <td>0</td>\n",
       "      <td>0</td>\n",
       "      <td>103</td>\n",
       "      <td>2883</td>\n",
       "    </tr>\n",
       "    <tr>\n",
       "      <th>5</th>\n",
       "      <td>5</td>\n",
       "      <td>0</td>\n",
       "      <td>0</td>\n",
       "      <td>32</td>\n",
       "      <td>2883</td>\n",
       "    </tr>\n",
       "    <tr>\n",
       "      <th>4</th>\n",
       "      <td>4</td>\n",
       "      <td>0</td>\n",
       "      <td>0</td>\n",
       "      <td>12</td>\n",
       "      <td>2882</td>\n",
       "    </tr>\n",
       "    <tr>\n",
       "      <th>3</th>\n",
       "      <td>3</td>\n",
       "      <td>0</td>\n",
       "      <td>0</td>\n",
       "      <td>11</td>\n",
       "      <td>2884</td>\n",
       "    </tr>\n",
       "    <tr>\n",
       "      <th>2</th>\n",
       "      <td>2</td>\n",
       "      <td>0</td>\n",
       "      <td>0</td>\n",
       "      <td>3</td>\n",
       "      <td>2883</td>\n",
       "    </tr>\n",
       "    <tr>\n",
       "      <th>1</th>\n",
       "      <td>1</td>\n",
       "      <td>0</td>\n",
       "      <td>0</td>\n",
       "      <td>3</td>\n",
       "      <td>2883</td>\n",
       "    </tr>\n",
       "    <tr>\n",
       "      <th>0</th>\n",
       "      <td>0</td>\n",
       "      <td>0</td>\n",
       "      <td>0</td>\n",
       "      <td>1</td>\n",
       "      <td>2884</td>\n",
       "    </tr>\n",
       "  </tbody>\n",
       "</table>\n",
       "</div>"
      ],
      "text/plain": [
       "  Deciles y_pred_proba     y_actual      \n",
       "                   min max      sum count\n",
       "9       9            0   1     1672  2883\n",
       "8       8            0   0      963  2883\n",
       "7       7            0   0      448  2883\n",
       "6       6            0   0      103  2883\n",
       "5       5            0   0       32  2883\n",
       "4       4            0   0       12  2882\n",
       "3       3            0   0       11  2884\n",
       "2       2            0   0        3  2883\n",
       "1       1            0   0        3  2883\n",
       "0       0            0   0        1  2884"
      ]
     },
     "execution_count": 50,
     "metadata": {},
     "output_type": "execute_result"
    }
   ],
   "source": [
    "train_deciles = train_data.groupby('Deciles')[[\n",
    "    'y_pred_proba', 'y_actual'\n",
    "]].agg({\n",
    "    'y_pred_proba': ['min', 'max'],\n",
    "    'y_actual': ['sum', 'count']\n",
    "}).reset_index().sort_values(by='Deciles', ascending=False)\n",
    "train_deciles"
   ]
  },
  {
   "cell_type": "code",
   "execution_count": 51,
   "id": "b9ae103c",
   "metadata": {
    "ExecuteTime": {
     "end_time": "2022-08-30T10:00:09.235656Z",
     "start_time": "2022-08-30T10:00:09.115283Z"
    }
   },
   "outputs": [
    {
     "data": {
      "image/png": "[encoded data removed]",
      "text/plain": [
       "<Figure size 576x360 with 1 Axes>"
      ]
     },
     "metadata": {},
     "output_type": "display_data"
    }
   ],
   "source": [
    "plt.figure(figsize=(8, 5))\n",
    "sns.scatterplot(train_data.Deciles, train_data.y_pred_proba);"
   ]
  },
  {
   "cell_type": "markdown",
   "id": "6316871b",
   "metadata": {},
   "source": [
    "### Decile Analysis for test data"
   ]
  },
  {
   "cell_type": "code",
   "execution_count": 52,
   "id": "0bb1c1d5",
   "metadata": {
    "ExecuteTime": {
     "end_time": "2022-08-30T10:00:09.251562Z",
     "start_time": "2022-08-30T10:00:09.235824Z"
    }
   },
   "outputs": [
    {
     "data": {
      "text/html": [
       "<div>\n",
       "<style scoped>\n",
       "    .dataframe tbody tr th:only-of-type {\n",
       "        vertical-align: middle;\n",
       "    }\n",
       "\n",
       "    .dataframe tbody tr th {\n",
       "        vertical-align: top;\n",
       "    }\n",
       "\n",
       "    .dataframe thead tr th {\n",
       "        text-align: left;\n",
       "    }\n",
       "</style>\n",
       "<table border=\"1\" class=\"dataframe\">\n",
       "  <thead>\n",
       "    <tr>\n",
       "      <th></th>\n",
       "      <th>Deciles</th>\n",
       "      <th colspan=\"2\" halign=\"left\">y_pred_proba</th>\n",
       "      <th colspan=\"2\" halign=\"left\">y_actual</th>\n",
       "    </tr>\n",
       "    <tr>\n",
       "      <th></th>\n",
       "      <th></th>\n",
       "      <th>min</th>\n",
       "      <th>max</th>\n",
       "      <th>sum</th>\n",
       "      <th>count</th>\n",
       "    </tr>\n",
       "  </thead>\n",
       "  <tbody>\n",
       "    <tr>\n",
       "      <th>9</th>\n",
       "      <td>9</td>\n",
       "      <td>0</td>\n",
       "      <td>1</td>\n",
       "      <td>755</td>\n",
       "      <td>1236</td>\n",
       "    </tr>\n",
       "    <tr>\n",
       "      <th>8</th>\n",
       "      <td>8</td>\n",
       "      <td>0</td>\n",
       "      <td>0</td>\n",
       "      <td>387</td>\n",
       "      <td>1236</td>\n",
       "    </tr>\n",
       "    <tr>\n",
       "      <th>7</th>\n",
       "      <td>7</td>\n",
       "      <td>0</td>\n",
       "      <td>0</td>\n",
       "      <td>177</td>\n",
       "      <td>1235</td>\n",
       "    </tr>\n",
       "    <tr>\n",
       "      <th>6</th>\n",
       "      <td>6</td>\n",
       "      <td>0</td>\n",
       "      <td>0</td>\n",
       "      <td>43</td>\n",
       "      <td>1235</td>\n",
       "    </tr>\n",
       "    <tr>\n",
       "      <th>5</th>\n",
       "      <td>5</td>\n",
       "      <td>0</td>\n",
       "      <td>0</td>\n",
       "      <td>11</td>\n",
       "      <td>1235</td>\n",
       "    </tr>\n",
       "    <tr>\n",
       "      <th>4</th>\n",
       "      <td>4</td>\n",
       "      <td>0</td>\n",
       "      <td>0</td>\n",
       "      <td>11</td>\n",
       "      <td>1237</td>\n",
       "    </tr>\n",
       "    <tr>\n",
       "      <th>3</th>\n",
       "      <td>3</td>\n",
       "      <td>0</td>\n",
       "      <td>0</td>\n",
       "      <td>6</td>\n",
       "      <td>1235</td>\n",
       "    </tr>\n",
       "    <tr>\n",
       "      <th>2</th>\n",
       "      <td>2</td>\n",
       "      <td>0</td>\n",
       "      <td>0</td>\n",
       "      <td>2</td>\n",
       "      <td>1236</td>\n",
       "    </tr>\n",
       "    <tr>\n",
       "      <th>1</th>\n",
       "      <td>1</td>\n",
       "      <td>0</td>\n",
       "      <td>0</td>\n",
       "      <td>0</td>\n",
       "      <td>1234</td>\n",
       "    </tr>\n",
       "    <tr>\n",
       "      <th>0</th>\n",
       "      <td>0</td>\n",
       "      <td>0</td>\n",
       "      <td>0</td>\n",
       "      <td>0</td>\n",
       "      <td>1238</td>\n",
       "    </tr>\n",
       "  </tbody>\n",
       "</table>\n",
       "</div>"
      ],
      "text/plain": [
       "  Deciles y_pred_proba     y_actual      \n",
       "                   min max      sum count\n",
       "9       9            0   1      755  1236\n",
       "8       8            0   0      387  1236\n",
       "7       7            0   0      177  1235\n",
       "6       6            0   0       43  1235\n",
       "5       5            0   0       11  1235\n",
       "4       4            0   0       11  1237\n",
       "3       3            0   0        6  1235\n",
       "2       2            0   0        2  1236\n",
       "1       1            0   0        0  1234\n",
       "0       0            0   0        0  1238"
      ]
     },
     "execution_count": 52,
     "metadata": {},
     "output_type": "execute_result"
    }
   ],
   "source": [
    "test_deciles = test_data.groupby('Deciles')[['y_pred_proba', 'y_actual']].agg({\n",
    "    'y_pred_proba': ['min', 'max'],\n",
    "    'y_actual': ['sum', 'count']\n",
    "}).reset_index().sort_values(by='Deciles', ascending=False)\n",
    "test_deciles"
   ]
  },
  {
   "cell_type": "code",
   "execution_count": 53,
   "id": "900f4632",
   "metadata": {
    "ExecuteTime": {
     "end_time": "2022-08-30T10:00:09.346552Z",
     "start_time": "2022-08-30T10:00:09.251562Z"
    }
   },
   "outputs": [
    {
     "data": {
      "image/png": "[encoded data removed]",
      "text/plain": [
       "<Figure size 576x360 with 1 Axes>"
      ]
     },
     "metadata": {},
     "output_type": "display_data"
    }
   ],
   "source": [
    "plt.figure(figsize=(8, 5))\n",
    "sns.scatterplot(test_data.Deciles, test_data.y_pred_proba);"
   ]
  },
  {
   "cell_type": "markdown",
   "id": "76c80fae",
   "metadata": {},
   "source": [
    "### Histogram of predicted probabilities"
   ]
  },
  {
   "cell_type": "code",
   "execution_count": 67,
   "id": "de778ace",
   "metadata": {
    "ExecuteTime": {
     "end_time": "2022-08-30T10:05:48.096012Z",
     "start_time": "2022-08-30T10:05:47.953646Z"
    }
   },
   "outputs": [
    {
     "data": {
      "image/png": "[encoded data removed]",
      "text/plain": [
       "<Figure size 864x288 with 2 Axes>"
      ]
     },
     "metadata": {},
     "output_type": "display_data"
    }
   ],
   "source": [
    "params = {'figure.figsize': (12, 4), 'axes.labelsize': 12}\n",
    "plt.rcParams.update(params)\n",
    "fig, axs = plt.subplots(1, 2, sharey=True)\n",
    "plt.subplots_adjust(wspace=0.02, hspace=0)\n",
    "# Train\n",
    "axs[0].hist(train_data.y_pred_proba, bins=5)\n",
    "axs[0].set_title('Train Data', fontdict={'fontsize': 15, 'fontweight': 'bold'})\n",
    "axs[0].set_ylabel('Frequency')\n",
    "axs[0].set_xlabel('Predicted probability of Scheme Subscription')\n",
    "axs[0].text(0.85,\n",
    "            0.9,\n",
    "            str(train.shape[0]),\n",
    "            horizontalalignment='center',\n",
    "            verticalalignment='center',\n",
    "            transform=axs[0].transAxes,\n",
    "            fontsize=16,\n",
    "            fontweight='bold',\n",
    "            color='b')\n",
    "# Test\n",
    "axs[1].hist(test_data.y_pred_proba, bins=5)\n",
    "axs[1].set_title('Test Data', fontdict={'fontsize': 15, 'fontweight': 'bold'})\n",
    "axs[1].set_xlabel('Predicted probability of Scheme Subscription')\n",
    "axs[1].text(0.85,\n",
    "            0.9,\n",
    "            str(test.shape[0]),\n",
    "            horizontalalignment='center',\n",
    "            verticalalignment='center',\n",
    "            transform=axs[1].transAxes,\n",
    "            fontsize=16,\n",
    "            fontweight='bold',\n",
    "            color='b')\n",
    "plt.show()"
   ]
  },
  {
   "cell_type": "markdown",
   "id": "dee84db5",
   "metadata": {},
   "source": [
    "### Checking the Ratios of Output variables in Total, Train, Test"
   ]
  },
  {
   "cell_type": "code",
   "execution_count": 55,
   "id": "9e1ee9b0",
   "metadata": {
    "ExecuteTime": {
     "end_time": "2022-08-30T10:00:09.490753Z",
     "start_time": "2022-08-30T10:00:09.474698Z"
    }
   },
   "outputs": [
    {
     "data": {
      "text/html": [
       "<div>\n",
       "<style scoped>\n",
       "    .dataframe tbody tr th:only-of-type {\n",
       "        vertical-align: middle;\n",
       "    }\n",
       "\n",
       "    .dataframe tbody tr th {\n",
       "        vertical-align: top;\n",
       "    }\n",
       "\n",
       "    .dataframe thead th {\n",
       "        text-align: right;\n",
       "    }\n",
       "</style>\n",
       "<table border=\"1\" class=\"dataframe\">\n",
       "  <thead>\n",
       "    <tr style=\"text-align: right;\">\n",
       "      <th></th>\n",
       "      <th>0</th>\n",
       "      <th>1</th>\n",
       "    </tr>\n",
       "  </thead>\n",
       "  <tbody>\n",
       "    <tr>\n",
       "      <th>Total Dataset</th>\n",
       "      <td>0.8873</td>\n",
       "      <td>0.1127</td>\n",
       "    </tr>\n",
       "    <tr>\n",
       "      <th>Train</th>\n",
       "      <td>0.8873</td>\n",
       "      <td>0.1127</td>\n",
       "    </tr>\n",
       "    <tr>\n",
       "      <th>Test</th>\n",
       "      <td>0.8874</td>\n",
       "      <td>0.1126</td>\n",
       "    </tr>\n",
       "  </tbody>\n",
       "</table>\n",
       "</div>"
      ],
      "text/plain": [
       "                   0      1\n",
       "Total Dataset 0.8873 0.1127\n",
       "Train         0.8873 0.1127\n",
       "Test          0.8874 0.1126"
      ]
     },
     "execution_count": 55,
     "metadata": {},
     "output_type": "execute_result"
    }
   ],
   "source": [
    "pd.options.display.float_format = '{:.4f}'.format\n",
    "pd.DataFrame([\n",
    "    bankcalls.output.value_counts() / bankcalls.output.notna().sum(),\n",
    "    train_data.y_actual.value_counts() / train_data.y_actual.notna().sum(),\n",
    "    test_data.y_actual.value_counts() / test_data.y_actual.notna().sum()\n",
    "],\n",
    "             index=['Total Dataset', 'Train', 'Test'])"
   ]
  },
  {
   "cell_type": "markdown",
   "id": "3311ced8",
   "metadata": {},
   "source": [
    "Although the output variable is split in a stratified manner in both Train and Test, the real Problem with the dataset is that the dataset is unbalanced with 89% data with Output 0 and 11% with Output 1. Hence, the model is better trained to predict which customers will not consider taking the Scheme."
   ]
  },
  {
   "cell_type": "markdown",
   "id": "f46c262a",
   "metadata": {
    "ExecuteTime": {
     "end_time": "2022-08-28T22:27:46.396831Z",
     "start_time": "2022-08-28T22:27:46.379226Z"
    }
   },
   "source": [
    "## Significant Features"
   ]
  },
  {
   "cell_type": "markdown",
   "id": "99196d82",
   "metadata": {},
   "source": [
    "### By ROC_AUC_SCORE"
   ]
  },
  {
   "cell_type": "code",
   "execution_count": 56,
   "id": "96b6a3de",
   "metadata": {
    "ExecuteTime": {
     "end_time": "2022-08-30T10:00:09.507149Z",
     "start_time": "2022-08-30T10:00:09.491258Z"
    },
    "scrolled": true
   },
   "outputs": [
    {
     "data": {
      "text/html": [
       "<div>\n",
       "<style scoped>\n",
       "    .dataframe tbody tr th:only-of-type {\n",
       "        vertical-align: middle;\n",
       "    }\n",
       "\n",
       "    .dataframe tbody tr th {\n",
       "        vertical-align: top;\n",
       "    }\n",
       "\n",
       "    .dataframe thead th {\n",
       "        text-align: right;\n",
       "    }\n",
       "</style>\n",
       "<table border=\"1\" class=\"dataframe\">\n",
       "  <thead>\n",
       "    <tr style=\"text-align: right;\">\n",
       "      <th></th>\n",
       "      <th>Feature</th>\n",
       "      <th>ROC_AUC_SCORE</th>\n",
       "      <th>SomarsD</th>\n",
       "    </tr>\n",
       "  </thead>\n",
       "  <tbody>\n",
       "    <tr>\n",
       "      <th>0</th>\n",
       "      <td>duration</td>\n",
       "      <td>0.8184</td>\n",
       "      <td>0.6369</td>\n",
       "    </tr>\n",
       "    <tr>\n",
       "      <th>0</th>\n",
       "      <td>nr_employed</td>\n",
       "      <td>0.7490</td>\n",
       "      <td>0.4980</td>\n",
       "    </tr>\n",
       "    <tr>\n",
       "      <th>0</th>\n",
       "      <td>month</td>\n",
       "      <td>0.6581</td>\n",
       "      <td>0.3162</td>\n",
       "    </tr>\n",
       "    <tr>\n",
       "      <th>0</th>\n",
       "      <td>cons_price_idx</td>\n",
       "      <td>0.6106</td>\n",
       "      <td>0.2211</td>\n",
       "    </tr>\n",
       "    <tr>\n",
       "      <th>0</th>\n",
       "      <td>job</td>\n",
       "      <td>0.6103</td>\n",
       "      <td>0.2205</td>\n",
       "    </tr>\n",
       "    <tr>\n",
       "      <th>0</th>\n",
       "      <td>previous_savings</td>\n",
       "      <td>0.6093</td>\n",
       "      <td>0.2186</td>\n",
       "    </tr>\n",
       "  </tbody>\n",
       "</table>\n",
       "</div>"
      ],
      "text/plain": [
       "            Feature ROC_AUC_SCORE SomarsD\n",
       "0          duration        0.8184  0.6369\n",
       "0       nr_employed        0.7490  0.4980\n",
       "0             month        0.6581  0.3162\n",
       "0    cons_price_idx        0.6106  0.2211\n",
       "0               job        0.6103  0.2205\n",
       "0  previous_savings        0.6093  0.2186"
      ]
     },
     "execution_count": 56,
     "metadata": {},
     "output_type": "execute_result"
    }
   ],
   "source": [
    "df[df.Feature.isin(features)].sort_values(by='ROC_AUC_SCORE', ascending = False)"
   ]
  },
  {
   "cell_type": "markdown",
   "id": "2165c706",
   "metadata": {},
   "source": [
    "### Calculating Odds Ratios"
   ]
  },
  {
   "cell_type": "code",
   "execution_count": 57,
   "id": "80e80f16",
   "metadata": {
    "ExecuteTime": {
     "end_time": "2022-08-30T10:00:09.523042Z",
     "start_time": "2022-08-30T10:00:09.507149Z"
    }
   },
   "outputs": [
    {
     "name": "stdout",
     "output_type": "stream",
     "text": [
      "                        Odds Ratio      Lower CI      Upper CI\n",
      "Intercept             5.545638e+44  2.210073e+41  1.391543e+48\n",
      "job[T.blue-collar]    7.068960e-01  6.093308e-01  8.200833e-01\n",
      "job[T.entrepreneur]   8.900223e-01  6.731916e-01  1.176693e+00\n",
      "job[T.housemaid]      8.792096e-01  6.400050e-01  1.207818e+00\n",
      "job[T.management]     9.810004e-01  8.121945e-01  1.184891e+00\n",
      "job[T.retired]        1.218048e+00  1.009276e+00  1.470004e+00\n",
      "job[T.self-employed]  8.797556e-01  6.715510e-01  1.152511e+00\n",
      "job[T.services]       7.668815e-01  6.348955e-01  9.263056e-01\n",
      "job[T.student]        1.263733e+00  1.003558e+00  1.591360e+00\n",
      "job[T.technician]     1.000254e+00  8.661045e-01  1.155182e+00\n",
      "job[T.unemployed]     1.030944e+00  7.818319e-01  1.359431e+00\n",
      "job[T.unknown]        1.289202e+00  7.781545e-01  2.135877e+00\n",
      "month[T.aug]          1.567904e+00  1.301841e+00  1.888344e+00\n",
      "month[T.dec]          1.276249e+00  8.398679e-01  1.939366e+00\n",
      "month[T.jul]          1.702161e+00  1.401478e+00  2.067356e+00\n",
      "month[T.jun]          1.931394e+00  1.591867e+00  2.343338e+00\n",
      "month[T.mar]          3.566338e+00  2.738095e+00  4.645114e+00\n",
      "month[T.may]          4.441653e-01  3.765884e-01  5.238686e-01\n",
      "month[T.nov]          8.380172e-01  6.821315e-01  1.029527e+00\n",
      "month[T.oct]          1.097675e+00  8.566764e-01  1.406472e+00\n",
      "month[T.sep]          7.612553e-01  5.806996e-01  9.979508e-01\n",
      "cons_price_idx        7.083790e-01  6.530954e-01  7.683424e-01\n",
      "nr_employed           9.856070e-01  9.848464e-01  9.863681e-01\n",
      "duration              1.004617e+00  1.004446e+00  1.004787e+00\n",
      "previous_savings      1.204404e+00  1.122355e+00  1.292450e+00\n"
     ]
    }
   ],
   "source": [
    "odds_ratios = pd.DataFrame({\n",
    "    \"Odds Ratio\": m2.params,\n",
    "    \"Lower CI\": m2.conf_int()[0],\n",
    "    \"Upper CI\": m2.conf_int()[1],\n",
    "})\n",
    "odds_ratios = np.exp(odds_ratios)\n",
    "pd.reset_option('^display.', silent=True)\n",
    "print(odds_ratios)"
   ]
  },
  {
   "cell_type": "markdown",
   "id": "f9924626",
   "metadata": {},
   "source": [
    "### By p-values for z-scores"
   ]
  },
  {
   "cell_type": "code",
   "execution_count": 58,
   "id": "ad92bf64",
   "metadata": {
    "ExecuteTime": {
     "end_time": "2022-08-30T10:00:09.716922Z",
     "start_time": "2022-08-30T10:00:09.523042Z"
    }
   },
   "outputs": [
    {
     "name": "stdout",
     "output_type": "stream",
     "text": [
      "15\n"
     ]
    },
    {
     "data": {
      "text/html": [
       "<div>\n",
       "<style scoped>\n",
       "    .dataframe tbody tr th:only-of-type {\n",
       "        vertical-align: middle;\n",
       "    }\n",
       "\n",
       "    .dataframe tbody tr th {\n",
       "        vertical-align: top;\n",
       "    }\n",
       "\n",
       "    .dataframe thead th {\n",
       "        text-align: right;\n",
       "    }\n",
       "</style>\n",
       "<table border=\"1\" class=\"dataframe\">\n",
       "  <thead>\n",
       "    <tr style=\"text-align: right;\">\n",
       "      <th></th>\n",
       "      <th>coef</th>\n",
       "      <th>std err</th>\n",
       "      <th>z</th>\n",
       "      <th>P&gt;|z|</th>\n",
       "      <th>[0.025</th>\n",
       "      <th>0.975]</th>\n",
       "    </tr>\n",
       "  </thead>\n",
       "  <tbody>\n",
       "    <tr>\n",
       "      <th>Intercept</th>\n",
       "      <td>103.02680</td>\n",
       "      <td>3.99400</td>\n",
       "      <td>25.79700</td>\n",
       "      <td>0.00000</td>\n",
       "      <td>95.19900</td>\n",
       "      <td>110.85400</td>\n",
       "    </tr>\n",
       "    <tr>\n",
       "      <th>nr_employed</th>\n",
       "      <td>-0.01450</td>\n",
       "      <td>0.00000</td>\n",
       "      <td>-36.80800</td>\n",
       "      <td>0.00000</td>\n",
       "      <td>-0.01500</td>\n",
       "      <td>-0.01400</td>\n",
       "    </tr>\n",
       "    <tr>\n",
       "      <th>cons_price_idx</th>\n",
       "      <td>-0.34480</td>\n",
       "      <td>0.04100</td>\n",
       "      <td>-8.31600</td>\n",
       "      <td>0.00000</td>\n",
       "      <td>-0.42600</td>\n",
       "      <td>-0.26400</td>\n",
       "    </tr>\n",
       "    <tr>\n",
       "      <th>month[T.may]</th>\n",
       "      <td>-0.81160</td>\n",
       "      <td>0.08400</td>\n",
       "      <td>-9.63800</td>\n",
       "      <td>0.00000</td>\n",
       "      <td>-0.97700</td>\n",
       "      <td>-0.64700</td>\n",
       "    </tr>\n",
       "    <tr>\n",
       "      <th>month[T.mar]</th>\n",
       "      <td>1.27150</td>\n",
       "      <td>0.13500</td>\n",
       "      <td>9.43000</td>\n",
       "      <td>0.00000</td>\n",
       "      <td>1.00700</td>\n",
       "      <td>1.53600</td>\n",
       "    </tr>\n",
       "    <tr>\n",
       "      <th>month[T.jun]</th>\n",
       "      <td>0.65820</td>\n",
       "      <td>0.09900</td>\n",
       "      <td>6.67300</td>\n",
       "      <td>0.00000</td>\n",
       "      <td>0.46500</td>\n",
       "      <td>0.85200</td>\n",
       "    </tr>\n",
       "    <tr>\n",
       "      <th>month[T.jul]</th>\n",
       "      <td>0.53190</td>\n",
       "      <td>0.09900</td>\n",
       "      <td>5.36300</td>\n",
       "      <td>0.00000</td>\n",
       "      <td>0.33800</td>\n",
       "      <td>0.72600</td>\n",
       "    </tr>\n",
       "    <tr>\n",
       "      <th>duration</th>\n",
       "      <td>0.00460</td>\n",
       "      <td>0.00009</td>\n",
       "      <td>53.21100</td>\n",
       "      <td>0.00000</td>\n",
       "      <td>0.00400</td>\n",
       "      <td>0.00500</td>\n",
       "    </tr>\n",
       "    <tr>\n",
       "      <th>month[T.aug]</th>\n",
       "      <td>0.44970</td>\n",
       "      <td>0.09500</td>\n",
       "      <td>4.74000</td>\n",
       "      <td>0.00000</td>\n",
       "      <td>0.26400</td>\n",
       "      <td>0.63600</td>\n",
       "    </tr>\n",
       "    <tr>\n",
       "      <th>job[T.blue-collar]</th>\n",
       "      <td>-0.34690</td>\n",
       "      <td>0.07600</td>\n",
       "      <td>-4.57700</td>\n",
       "      <td>0.00000</td>\n",
       "      <td>-0.49500</td>\n",
       "      <td>-0.19800</td>\n",
       "    </tr>\n",
       "    <tr>\n",
       "      <th>previous_savings</th>\n",
       "      <td>0.18600</td>\n",
       "      <td>0.03600</td>\n",
       "      <td>5.16600</td>\n",
       "      <td>0.00000</td>\n",
       "      <td>0.11500</td>\n",
       "      <td>0.25700</td>\n",
       "    </tr>\n",
       "    <tr>\n",
       "      <th>job[T.services]</th>\n",
       "      <td>-0.26540</td>\n",
       "      <td>0.09600</td>\n",
       "      <td>-2.75400</td>\n",
       "      <td>0.00600</td>\n",
       "      <td>-0.45400</td>\n",
       "      <td>-0.07700</td>\n",
       "    </tr>\n",
       "    <tr>\n",
       "      <th>job[T.retired]</th>\n",
       "      <td>0.19720</td>\n",
       "      <td>0.09600</td>\n",
       "      <td>2.05600</td>\n",
       "      <td>0.04000</td>\n",
       "      <td>0.00900</td>\n",
       "      <td>0.38500</td>\n",
       "    </tr>\n",
       "    <tr>\n",
       "      <th>job[T.student]</th>\n",
       "      <td>0.23410</td>\n",
       "      <td>0.11800</td>\n",
       "      <td>1.99000</td>\n",
       "      <td>0.04700</td>\n",
       "      <td>0.00400</td>\n",
       "      <td>0.46500</td>\n",
       "    </tr>\n",
       "    <tr>\n",
       "      <th>month[T.sep]</th>\n",
       "      <td>-0.27280</td>\n",
       "      <td>0.13800</td>\n",
       "      <td>-1.97500</td>\n",
       "      <td>0.04800</td>\n",
       "      <td>-0.54400</td>\n",
       "      <td>-0.00200</td>\n",
       "    </tr>\n",
       "  </tbody>\n",
       "</table>\n",
       "</div>"
      ],
      "text/plain": [
       "                        coef  std err         z   P>|z|   [0.025    0.975]\n",
       "Intercept          103.02680  3.99400  25.79700 0.00000 95.19900 110.85400\n",
       "nr_employed         -0.01450  0.00000 -36.80800 0.00000 -0.01500  -0.01400\n",
       "cons_price_idx      -0.34480  0.04100  -8.31600 0.00000 -0.42600  -0.26400\n",
       "month[T.may]        -0.81160  0.08400  -9.63800 0.00000 -0.97700  -0.64700\n",
       "month[T.mar]         1.27150  0.13500   9.43000 0.00000  1.00700   1.53600\n",
       "month[T.jun]         0.65820  0.09900   6.67300 0.00000  0.46500   0.85200\n",
       "month[T.jul]         0.53190  0.09900   5.36300 0.00000  0.33800   0.72600\n",
       "duration             0.00460  0.00009  53.21100 0.00000  0.00400   0.00500\n",
       "month[T.aug]         0.44970  0.09500   4.74000 0.00000  0.26400   0.63600\n",
       "job[T.blue-collar]  -0.34690  0.07600  -4.57700 0.00000 -0.49500  -0.19800\n",
       "previous_savings     0.18600  0.03600   5.16600 0.00000  0.11500   0.25700\n",
       "job[T.services]     -0.26540  0.09600  -2.75400 0.00600 -0.45400  -0.07700\n",
       "job[T.retired]       0.19720  0.09600   2.05600 0.04000  0.00900   0.38500\n",
       "job[T.student]       0.23410  0.11800   1.99000 0.04700  0.00400   0.46500\n",
       "month[T.sep]        -0.27280  0.13800  -1.97500 0.04800 -0.54400  -0.00200"
      ]
     },
     "execution_count": 58,
     "metadata": {},
     "output_type": "execute_result"
    }
   ],
   "source": [
    "pd.options.display.float_format = '{:.5f}'.format\n",
    "results_as_html = m2.summary().tables[1].as_html()\n",
    "ms = (pd.read_html(results_as_html, header=0, index_col=0)[0]).sort_values(by='P>|z|')\n",
    "ms_significant = ms[ms['P>|z|']<0.05]\n",
    "print(ms_significant.shape[0])\n",
    "ms_significant"
   ]
  },
  {
   "cell_type": "code",
   "execution_count": 59,
   "id": "9e3f9960",
   "metadata": {
    "ExecuteTime": {
     "end_time": "2022-08-30T10:00:09.733114Z",
     "start_time": "2022-08-30T10:00:09.717418Z"
    }
   },
   "outputs": [
    {
     "data": {
      "text/plain": [
       "103.0268"
      ]
     },
     "execution_count": 59,
     "metadata": {},
     "output_type": "execute_result"
    }
   ],
   "source": [
    "# Intercept Value\n",
    "ms_significant.T.Intercept[0]"
   ]
  },
  {
   "cell_type": "markdown",
   "id": "894a62d0",
   "metadata": {},
   "source": [
    "### Final Comments"
   ]
  },
  {
   "cell_type": "markdown",
   "id": "50b656d1",
   "metadata": {},
   "source": [
    "So, while campaigning for new Savings Scheme the bank should focus on : \n",
    "1. **nr_employed** : number of employees. quarterly indicator (numeric)\n",
    "2. **cons_price_idx** : consumer price index. monthly indicator (numeric)\n",
    "3. **month** : last contact month of year (only : **'mar', 'may', 'jun', 'jul', 'aug', 'sept'**)\n",
    "4. **duration** : last contact duration, in seconds (numeric)\n",
    "5. **job** : type of job (only : **'blue-collar', 'retired', 'services', 'student'**)\n",
    "6. **previous_savings** : number of contacts performed before this campaign and for this client (numeric)"
   ]
  }
 ],
 "metadata": {
  "kernelspec": {
   "display_name": "Python 3 (ipykernel)",
   "language": "python",
   "name": "python3"
  },
  "language_info": {
   "codemirror_mode": {
    "name": "ipython",
    "version": 3
   },
   "file_extension": ".py",
   "mimetype": "text/x-python",
   "name": "python",
   "nbconvert_exporter": "python",
   "pygments_lexer": "ipython3",
   "version": "3.9.12"
  },
  "latex_envs": {
   "LaTeX_envs_menu_present": true,
   "autoclose": false,
   "autocomplete": true,
   "bibliofile": "biblio.bib",
   "cite_by": "apalike",
   "current_citInitial": 1,
   "eqLabelWithNumbers": true,
   "eqNumInitial": 1,
   "hotkeys": {
    "equation": "Ctrl-E",
    "itemize": "Ctrl-I"
   },
   "labels_anchors": false,
   "latex_user_defs": false,
   "report_style_numbering": false,
   "user_envs_cfg": false
  },
  "toc": {
   "base_numbering": 1,
   "nav_menu": {},
   "number_sections": true,
   "sideBar": true,
   "skip_h1_title": false,
   "title_cell": "Table of Contents",
   "title_sidebar": "Contents",
   "toc_cell": false,
   "toc_position": {
    "height": "calc(100% - 180px)",
    "left": "10px",
    "top": "150px",
    "width": "384px"
   },
   "toc_section_display": true,
   "toc_window_display": true
  },
  "varInspector": {
   "cols": {
    "lenName": 16,
    "lenType": 16,
    "lenVar": 40
   },
   "kernels_config": {
    "python": {
     "delete_cmd_postfix": "",
     "delete_cmd_prefix": "del ",
     "library": "var_list.py",
     "varRefreshCmd": "print(var_dic_list())"
    },
    "r": {
     "delete_cmd_postfix": ") ",
     "delete_cmd_prefix": "rm(",
     "library": "var_list.r",
     "varRefreshCmd": "cat(var_dic_list()) "
    }
   },
   "position": {
    "height": "728.85px",
    "left": "1550px",
    "right": "20px",
    "top": "120px",
    "width": "350px"
   },
   "types_to_exclude": [
    "module",
    "function",
    "builtin_function_or_method",
    "instance",
    "_Feature"
   ],
   "window_display": true
  }
 },
 "nbformat": 4,
 "nbformat_minor": 5
}
